{
 "cells": [
  {
   "attachments": {},
   "cell_type": "markdown",
   "metadata": {},
   "source": [
    "**<p style = \"text-align: center\">TRƯỜNG ĐẠI HỌC KHOA HỌC TỰ NHIÊN - ĐẠI HỌC QUỐC GIA TPHCM</p>**"
   ]
  },
  {
   "attachments": {},
   "cell_type": "markdown",
   "metadata": {},
   "source": [
    "# **<p style = \"text-align: center\">NHẬP MÔN KHOA HỌC DỮ LIỆU</p>**\n",
    "## **<p style = \"text-align: center\">Đồ án Cuối kì</p>**\n",
    "### <p style = \"text-align: center\"> <b>Đề tài:</b> Phân tích, khám phá dữ liệu về sách trên web thương mại điện tử (tiki)</p>\n",
    "**Sinh viên thực hiện**\n",
    "\n",
    "| Mã số sinh viên | Họ và tên |\n",
    "| --- | --- |\n",
    "| 20120040 | Nguyễn Quang Gia Bảo |\n",
    "| 20120136 | Huỳnh Tuấn Nam |\n",
    "| 20120158 | Trần Hoàng Anh Phi |"
   ]
  },
  {
   "attachments": {},
   "cell_type": "markdown",
   "metadata": {},
   "source": [
    "---"
   ]
  },
  {
   "attachments": {},
   "cell_type": "markdown",
   "metadata": {},
   "source": [
    "# **1. Thông tin về dữ liệu**<br>\n",
    "Dữ liệu được sử dụng trong bài được lấy từ trang: <a href = \"https://tiki.vn/sach-truyen-tieng-viet/c316\"> https://tiki.vn/sach-truyen-tieng-viet/c316</a><br>\n",
    "\n",
    "Vì website <a href = 'https://tiki.vn/'> https://tiki.vn/ </a> có khá là nhiều mặt hàng nên nhóm chỉ chọn ra danh mục <font color=red>sách tiếng Việt</font> để crawl và thực hiện đồ án này.\n"
   ]
  },
  {
   "attachments": {},
   "cell_type": "markdown",
   "metadata": {},
   "source": [
    "# **2. Khám phá dữ liệu**<br>"
   ]
  },
  {
   "attachments": {},
   "cell_type": "markdown",
   "metadata": {},
   "source": [
    "#### Cài đặt các thư viện cần thiết"
   ]
  },
  {
   "cell_type": "code",
   "execution_count": 42,
   "metadata": {},
   "outputs": [],
   "source": [
    "# !pip install fuzzywuzzy\n",
    "# !pip install python-Levenshtein"
   ]
  },
  {
   "attachments": {},
   "cell_type": "markdown",
   "metadata": {},
   "source": [
    "#### Import các package cần thiết"
   ]
  },
  {
   "cell_type": "code",
   "execution_count": 43,
   "metadata": {},
   "outputs": [],
   "source": [
    "import pandas as pd\n",
    "import numpy as np\n",
    "import matplotlib.pyplot as plt\n",
    "import seaborn as sns\n",
    "import re"
   ]
  },
  {
   "attachments": {},
   "cell_type": "markdown",
   "metadata": {},
   "source": [
    "#### Đọc dữ liệu đã thu thập từ file csv "
   ]
  },
  {
   "cell_type": "code",
   "execution_count": 44,
   "metadata": {},
   "outputs": [
    {
     "name": "stdout",
     "output_type": "stream",
     "text": [
      "(96647, 84)\n"
     ]
    },
    {
     "name": "stderr",
     "output_type": "stream",
     "text": [
      "/var/folders/gg/4_1r0r1n6nn2sslng47v_j180000gn/T/ipykernel_53111/3080258765.py:1: DtypeWarning: Columns (22,27,29,30,31,32,33,34,35,36,37,38,39,40,41,43,45,46,47,48,49,50,51,52,53,54,56,57,58,59,60,61,62,63,64,65,67,68,69,70,71,72,73,74,75,76,77,78,79,80,81,82,83) have mixed types. Specify dtype option on import or set low_memory=False.\n",
      "  df = pd.read_csv('Dataset/full_data/data.csv')\n"
     ]
    },
    {
     "data": {
      "text/html": [
       "<div>\n",
       "<style scoped>\n",
       "    .dataframe tbody tr th:only-of-type {\n",
       "        vertical-align: middle;\n",
       "    }\n",
       "\n",
       "    .dataframe tbody tr th {\n",
       "        vertical-align: top;\n",
       "    }\n",
       "\n",
       "    .dataframe thead th {\n",
       "        text-align: right;\n",
       "    }\n",
       "</style>\n",
       "<table border=\"1\" class=\"dataframe\">\n",
       "  <thead>\n",
       "    <tr style=\"text-align: right;\">\n",
       "      <th></th>\n",
       "      <th>Unnamed: 0</th>\n",
       "      <th>id</th>\n",
       "      <th>master_id</th>\n",
       "      <th>sku</th>\n",
       "      <th>name</th>\n",
       "      <th>short_url</th>\n",
       "      <th>book_cover</th>\n",
       "      <th>price</th>\n",
       "      <th>original_price</th>\n",
       "      <th>discount_rate</th>\n",
       "      <th>...</th>\n",
       "      <th>kich_thuoc</th>\n",
       "      <th>tai_trong</th>\n",
       "      <th>device_brand</th>\n",
       "      <th>do_nhay</th>\n",
       "      <th>tan_so</th>\n",
       "      <th>huong_dan_bao_quan</th>\n",
       "      <th>dac_diem_noi_bat</th>\n",
       "      <th>dieu_kien_su_dung</th>\n",
       "      <th>dia_chi_su_dung</th>\n",
       "      <th>bluetooth</th>\n",
       "    </tr>\n",
       "  </thead>\n",
       "  <tbody>\n",
       "    <tr>\n",
       "      <th>0</th>\n",
       "      <td>0</td>\n",
       "      <td>204317934</td>\n",
       "      <td>204317934</td>\n",
       "      <td>9972713357587</td>\n",
       "      <td>1111 - Nhật Ký Sáu Vạn Dặm Trên Yên Xe Cà Tàng</td>\n",
       "      <td>https://tiki.vn/product-p204317934.html?spid=2...</td>\n",
       "      <td>NaN</td>\n",
       "      <td>262000</td>\n",
       "      <td>325000</td>\n",
       "      <td>19</td>\n",
       "      <td>...</td>\n",
       "      <td>NaN</td>\n",
       "      <td>NaN</td>\n",
       "      <td>NaN</td>\n",
       "      <td>NaN</td>\n",
       "      <td>NaN</td>\n",
       "      <td>NaN</td>\n",
       "      <td>NaN</td>\n",
       "      <td>NaN</td>\n",
       "      <td>NaN</td>\n",
       "      <td>NaN</td>\n",
       "    </tr>\n",
       "    <tr>\n",
       "      <th>1</th>\n",
       "      <td>1</td>\n",
       "      <td>205279963</td>\n",
       "      <td>205279963</td>\n",
       "      <td>7618382614299</td>\n",
       "      <td>1111 - Nhật Ký Sáu Vạn Dặm Trên Yên Xe Cà Tàng</td>\n",
       "      <td>https://tiki.vn/product-p205279963.html?spid=2...</td>\n",
       "      <td>Bìa mềm</td>\n",
       "      <td>256750</td>\n",
       "      <td>325000</td>\n",
       "      <td>21</td>\n",
       "      <td>...</td>\n",
       "      <td>NaN</td>\n",
       "      <td>NaN</td>\n",
       "      <td>NaN</td>\n",
       "      <td>NaN</td>\n",
       "      <td>NaN</td>\n",
       "      <td>NaN</td>\n",
       "      <td>NaN</td>\n",
       "      <td>NaN</td>\n",
       "      <td>NaN</td>\n",
       "      <td>NaN</td>\n",
       "    </tr>\n",
       "    <tr>\n",
       "      <th>2</th>\n",
       "      <td>2</td>\n",
       "      <td>193209826</td>\n",
       "      <td>193209826</td>\n",
       "      <td>5001141446127</td>\n",
       "      <td>Con Đường Tơ Lụa - Vạn Dặm Xa Từ Pakistan Tới ...</td>\n",
       "      <td>https://tiki.vn/product-p193209826.html?spid=1...</td>\n",
       "      <td>Bìa mềm</td>\n",
       "      <td>95100</td>\n",
       "      <td>129000</td>\n",
       "      <td>26</td>\n",
       "      <td>...</td>\n",
       "      <td>NaN</td>\n",
       "      <td>NaN</td>\n",
       "      <td>NaN</td>\n",
       "      <td>NaN</td>\n",
       "      <td>NaN</td>\n",
       "      <td>NaN</td>\n",
       "      <td>NaN</td>\n",
       "      <td>NaN</td>\n",
       "      <td>NaN</td>\n",
       "      <td>NaN</td>\n",
       "    </tr>\n",
       "    <tr>\n",
       "      <th>3</th>\n",
       "      <td>3</td>\n",
       "      <td>205288789</td>\n",
       "      <td>205288789</td>\n",
       "      <td>9035774965791</td>\n",
       "      <td>1111 - Nhật Ký Sáu Vạn Dặm Trên Yên Xe Cà Tàng</td>\n",
       "      <td>https://tiki.vn/product-p205288789.html?spid=2...</td>\n",
       "      <td>Bìa mềm</td>\n",
       "      <td>292500</td>\n",
       "      <td>325000</td>\n",
       "      <td>10</td>\n",
       "      <td>...</td>\n",
       "      <td>NaN</td>\n",
       "      <td>NaN</td>\n",
       "      <td>NaN</td>\n",
       "      <td>NaN</td>\n",
       "      <td>NaN</td>\n",
       "      <td>NaN</td>\n",
       "      <td>NaN</td>\n",
       "      <td>NaN</td>\n",
       "      <td>NaN</td>\n",
       "      <td>NaN</td>\n",
       "    </tr>\n",
       "    <tr>\n",
       "      <th>4</th>\n",
       "      <td>4</td>\n",
       "      <td>204649516</td>\n",
       "      <td>204649516</td>\n",
       "      <td>8708257676679</td>\n",
       "      <td>Sách - 1111 - NHẬT KÝ SÁU VẠN DẶM TRÊN YÊN XE ...</td>\n",
       "      <td>https://tiki.vn/product-p204649516.html?spid=2...</td>\n",
       "      <td>NaN</td>\n",
       "      <td>292500</td>\n",
       "      <td>325000</td>\n",
       "      <td>10</td>\n",
       "      <td>...</td>\n",
       "      <td>NaN</td>\n",
       "      <td>NaN</td>\n",
       "      <td>NaN</td>\n",
       "      <td>NaN</td>\n",
       "      <td>NaN</td>\n",
       "      <td>NaN</td>\n",
       "      <td>NaN</td>\n",
       "      <td>NaN</td>\n",
       "      <td>NaN</td>\n",
       "      <td>NaN</td>\n",
       "    </tr>\n",
       "  </tbody>\n",
       "</table>\n",
       "<p>5 rows × 84 columns</p>\n",
       "</div>"
      ],
      "text/plain": [
       "   Unnamed: 0         id  master_id            sku  \\\n",
       "0           0  204317934  204317934  9972713357587   \n",
       "1           1  205279963  205279963  7618382614299   \n",
       "2           2  193209826  193209826  5001141446127   \n",
       "3           3  205288789  205288789  9035774965791   \n",
       "4           4  204649516  204649516  8708257676679   \n",
       "\n",
       "                                                name  \\\n",
       "0     1111 - Nhật Ký Sáu Vạn Dặm Trên Yên Xe Cà Tàng   \n",
       "1     1111 - Nhật Ký Sáu Vạn Dặm Trên Yên Xe Cà Tàng   \n",
       "2  Con Đường Tơ Lụa - Vạn Dặm Xa Từ Pakistan Tới ...   \n",
       "3     1111 - Nhật Ký Sáu Vạn Dặm Trên Yên Xe Cà Tàng   \n",
       "4  Sách - 1111 - NHẬT KÝ SÁU VẠN DẶM TRÊN YÊN XE ...   \n",
       "\n",
       "                                           short_url book_cover   price  \\\n",
       "0  https://tiki.vn/product-p204317934.html?spid=2...        NaN  262000   \n",
       "1  https://tiki.vn/product-p205279963.html?spid=2...    Bìa mềm  256750   \n",
       "2  https://tiki.vn/product-p193209826.html?spid=1...    Bìa mềm   95100   \n",
       "3  https://tiki.vn/product-p205288789.html?spid=2...    Bìa mềm  292500   \n",
       "4  https://tiki.vn/product-p204649516.html?spid=2...        NaN  292500   \n",
       "\n",
       "   original_price  discount_rate  ...  kich_thuoc  tai_trong device_brand  \\\n",
       "0          325000             19  ...         NaN        NaN          NaN   \n",
       "1          325000             21  ...         NaN        NaN          NaN   \n",
       "2          129000             26  ...         NaN        NaN          NaN   \n",
       "3          325000             10  ...         NaN        NaN          NaN   \n",
       "4          325000             10  ...         NaN        NaN          NaN   \n",
       "\n",
       "  do_nhay  tan_so huong_dan_bao_quan  dac_diem_noi_bat dieu_kien_su_dung  \\\n",
       "0     NaN     NaN                NaN               NaN               NaN   \n",
       "1     NaN     NaN                NaN               NaN               NaN   \n",
       "2     NaN     NaN                NaN               NaN               NaN   \n",
       "3     NaN     NaN                NaN               NaN               NaN   \n",
       "4     NaN     NaN                NaN               NaN               NaN   \n",
       "\n",
       "  dia_chi_su_dung bluetooth  \n",
       "0             NaN       NaN  \n",
       "1             NaN       NaN  \n",
       "2             NaN       NaN  \n",
       "3             NaN       NaN  \n",
       "4             NaN       NaN  \n",
       "\n",
       "[5 rows x 84 columns]"
      ]
     },
     "metadata": {},
     "output_type": "display_data"
    }
   ],
   "source": [
    "df = pd.read_csv('Dataset/full_data/data.csv')\n",
    "print(df.shape)\n",
    "display(df.head())"
   ]
  },
  {
   "cell_type": "code",
   "execution_count": 45,
   "metadata": {},
   "outputs": [
    {
     "name": "stdout",
     "output_type": "stream",
     "text": [
      "<class 'pandas.core.frame.DataFrame'>\n",
      "RangeIndex: 96647 entries, 0 to 96646\n",
      "Data columns (total 84 columns):\n",
      " #   Column                        Non-Null Count  Dtype  \n",
      "---  ------                        --------------  -----  \n",
      " 0   Unnamed: 0                    96647 non-null  int64  \n",
      " 1   id                            96647 non-null  int64  \n",
      " 2   master_id                     96647 non-null  int64  \n",
      " 3   sku                           96647 non-null  int64  \n",
      " 4   name                          96647 non-null  object \n",
      " 5   short_url                     96647 non-null  object \n",
      " 6   book_cover                    66029 non-null  object \n",
      " 7   price                         96647 non-null  int64  \n",
      " 8   original_price                96647 non-null  int64  \n",
      " 9   discount_rate                 96647 non-null  int64  \n",
      " 10  rating_average                96647 non-null  float64\n",
      " 11  review_count                  96647 non-null  int64  \n",
      " 12  inventory_type                96647 non-null  object \n",
      " 13  productset_group_name         96647 non-null  object \n",
      " 14  day_ago_created               96647 non-null  int64  \n",
      " 15  categories                    96284 non-null  object \n",
      " 16  all_time_quantity_sold        96647 non-null  int64  \n",
      " 17  authors                       62554 non-null  object \n",
      " 18  publisher_vn                  96159 non-null  object \n",
      " 19  publication_date              44148 non-null  object \n",
      " 20  dimensions                    32987 non-null  object \n",
      " 21  manufacturer                  80200 non-null  object \n",
      " 22  number_of_page                54673 non-null  object \n",
      " 23  dich_gia                      13726 non-null  object \n",
      " 24  edition                       2161 non-null   object \n",
      " 25  brand                         69 non-null     object \n",
      " 26  brand_country                 49 non-null     object \n",
      " 27  item_model_number             13 non-null     object \n",
      " 28  origin                        58 non-null     object \n",
      " 29  product_weight                10 non-null     object \n",
      " 30  battery_capacity              2 non-null      object \n",
      " 31  camera                        1 non-null      object \n",
      " 32  chong_nuoc                    1 non-null      object \n",
      " 33  loai_day                      2 non-null      object \n",
      " 34  san_pham                      2 non-null      object \n",
      " 35  storage                       1 non-null      object \n",
      " 36  battery_life                  1 non-null      object \n",
      " 37  charge_time                   1 non-null      object \n",
      " 38  do_chiu_nuoc                  1 non-null      object \n",
      " 39  included_accessories          2 non-null      object \n",
      " 40  material                      7 non-null      object \n",
      " 41  luu_y                         20 non-null     object \n",
      " 42  minimum_inbound_policy_days   1 non-null      float64\n",
      " 43  expiry_time                   10 non-null     object \n",
      " 44  shelf_life_days               2 non-null      float64\n",
      " 45  chat_lieu                     2 non-null      object \n",
      " 46  audio_power_output            1 non-null      object \n",
      " 47  audio_technology              1 non-null      object \n",
      " 48  dieu_khien_bang_giong_noi     1 non-null      object \n",
      " 49  dieu_khien_tivi               1 non-null      object \n",
      " 50  digital_tivi_dvb_t2           1 non-null      object \n",
      " 51  display_type                  1 non-null      object \n",
      " 52  frequency                     1 non-null      object \n",
      " 53  hdh_giao_dien                 1 non-null      object \n",
      " 54  image_processing_technology   1 non-null      object \n",
      " 55  network_hdmi                  1 non-null      float64\n",
      " 56  network_internet              1 non-null      object \n",
      " 57  network_wifi                  1 non-null      object \n",
      " 58  remote_thong_minh             1 non-null      object \n",
      " 59  resolution                    1 non-null      object \n",
      " 60  screen_mirroring              1 non-null      object \n",
      " 61  screen_size                   1 non-null      object \n",
      " 62  size_without_stand_table_top  1 non-null      object \n",
      " 63  size_with_stand_table_top     1 non-null      object \n",
      " 64  tivi_type                     1 non-null      object \n",
      " 65  ung_dung                      1 non-null      object \n",
      " 66  usb                           1 non-null      float64\n",
      " 67  weight_without_stand          1 non-null      object \n",
      " 68  weight_with_stand             1 non-null      object \n",
      " 69  size                          2 non-null      object \n",
      " 70  loai_pin                      1 non-null      object \n",
      " 71  thoi_gian_su_dung             1 non-null      object \n",
      " 72  capacity                      3 non-null      object \n",
      " 73  huong_dan_su_dung             5 non-null      object \n",
      " 74  kich_thuoc                    4 non-null      object \n",
      " 75  tai_trong                     1 non-null      object \n",
      " 76  device_brand                  1 non-null      object \n",
      " 77  do_nhay                       1 non-null      object \n",
      " 78  tan_so                        2 non-null      object \n",
      " 79  huong_dan_bao_quan            3 non-null      object \n",
      " 80  dac_diem_noi_bat              1 non-null      object \n",
      " 81  dieu_kien_su_dung             1 non-null      object \n",
      " 82  dia_chi_su_dung               1 non-null      object \n",
      " 83  bluetooth                     1 non-null      object \n",
      "dtypes: float64(5), int64(10), object(69)\n",
      "memory usage: 61.9+ MB\n"
     ]
    }
   ],
   "source": [
    "df.info()"
   ]
  },
  {
   "attachments": {},
   "cell_type": "markdown",
   "metadata": {},
   "source": [
    "***"
   ]
  },
  {
   "attachments": {},
   "cell_type": "markdown",
   "metadata": {},
   "source": [
    "## **Cleaning data - Exploratory**"
   ]
  },
  {
   "attachments": {},
   "cell_type": "markdown",
   "metadata": {},
   "source": [
    "Cột `Unname: 0` trùng với cột index => Xóa nó "
   ]
  },
  {
   "cell_type": "code",
   "execution_count": 46,
   "metadata": {},
   "outputs": [
    {
     "data": {
      "text/html": [
       "<div>\n",
       "<style scoped>\n",
       "    .dataframe tbody tr th:only-of-type {\n",
       "        vertical-align: middle;\n",
       "    }\n",
       "\n",
       "    .dataframe tbody tr th {\n",
       "        vertical-align: top;\n",
       "    }\n",
       "\n",
       "    .dataframe thead th {\n",
       "        text-align: right;\n",
       "    }\n",
       "</style>\n",
       "<table border=\"1\" class=\"dataframe\">\n",
       "  <thead>\n",
       "    <tr style=\"text-align: right;\">\n",
       "      <th></th>\n",
       "      <th>id</th>\n",
       "      <th>master_id</th>\n",
       "      <th>sku</th>\n",
       "      <th>name</th>\n",
       "      <th>short_url</th>\n",
       "      <th>book_cover</th>\n",
       "      <th>price</th>\n",
       "      <th>original_price</th>\n",
       "      <th>discount_rate</th>\n",
       "      <th>rating_average</th>\n",
       "      <th>...</th>\n",
       "      <th>kich_thuoc</th>\n",
       "      <th>tai_trong</th>\n",
       "      <th>device_brand</th>\n",
       "      <th>do_nhay</th>\n",
       "      <th>tan_so</th>\n",
       "      <th>huong_dan_bao_quan</th>\n",
       "      <th>dac_diem_noi_bat</th>\n",
       "      <th>dieu_kien_su_dung</th>\n",
       "      <th>dia_chi_su_dung</th>\n",
       "      <th>bluetooth</th>\n",
       "    </tr>\n",
       "  </thead>\n",
       "  <tbody>\n",
       "    <tr>\n",
       "      <th>0</th>\n",
       "      <td>204317934</td>\n",
       "      <td>204317934</td>\n",
       "      <td>9972713357587</td>\n",
       "      <td>1111 - Nhật Ký Sáu Vạn Dặm Trên Yên Xe Cà Tàng</td>\n",
       "      <td>https://tiki.vn/product-p204317934.html?spid=2...</td>\n",
       "      <td>NaN</td>\n",
       "      <td>262000</td>\n",
       "      <td>325000</td>\n",
       "      <td>19</td>\n",
       "      <td>5.0</td>\n",
       "      <td>...</td>\n",
       "      <td>NaN</td>\n",
       "      <td>NaN</td>\n",
       "      <td>NaN</td>\n",
       "      <td>NaN</td>\n",
       "      <td>NaN</td>\n",
       "      <td>NaN</td>\n",
       "      <td>NaN</td>\n",
       "      <td>NaN</td>\n",
       "      <td>NaN</td>\n",
       "      <td>NaN</td>\n",
       "    </tr>\n",
       "    <tr>\n",
       "      <th>1</th>\n",
       "      <td>205279963</td>\n",
       "      <td>205279963</td>\n",
       "      <td>7618382614299</td>\n",
       "      <td>1111 - Nhật Ký Sáu Vạn Dặm Trên Yên Xe Cà Tàng</td>\n",
       "      <td>https://tiki.vn/product-p205279963.html?spid=2...</td>\n",
       "      <td>Bìa mềm</td>\n",
       "      <td>256750</td>\n",
       "      <td>325000</td>\n",
       "      <td>21</td>\n",
       "      <td>0.0</td>\n",
       "      <td>...</td>\n",
       "      <td>NaN</td>\n",
       "      <td>NaN</td>\n",
       "      <td>NaN</td>\n",
       "      <td>NaN</td>\n",
       "      <td>NaN</td>\n",
       "      <td>NaN</td>\n",
       "      <td>NaN</td>\n",
       "      <td>NaN</td>\n",
       "      <td>NaN</td>\n",
       "      <td>NaN</td>\n",
       "    </tr>\n",
       "    <tr>\n",
       "      <th>2</th>\n",
       "      <td>193209826</td>\n",
       "      <td>193209826</td>\n",
       "      <td>5001141446127</td>\n",
       "      <td>Con Đường Tơ Lụa - Vạn Dặm Xa Từ Pakistan Tới ...</td>\n",
       "      <td>https://tiki.vn/product-p193209826.html?spid=1...</td>\n",
       "      <td>Bìa mềm</td>\n",
       "      <td>95100</td>\n",
       "      <td>129000</td>\n",
       "      <td>26</td>\n",
       "      <td>4.8</td>\n",
       "      <td>...</td>\n",
       "      <td>NaN</td>\n",
       "      <td>NaN</td>\n",
       "      <td>NaN</td>\n",
       "      <td>NaN</td>\n",
       "      <td>NaN</td>\n",
       "      <td>NaN</td>\n",
       "      <td>NaN</td>\n",
       "      <td>NaN</td>\n",
       "      <td>NaN</td>\n",
       "      <td>NaN</td>\n",
       "    </tr>\n",
       "    <tr>\n",
       "      <th>3</th>\n",
       "      <td>205288789</td>\n",
       "      <td>205288789</td>\n",
       "      <td>9035774965791</td>\n",
       "      <td>1111 - Nhật Ký Sáu Vạn Dặm Trên Yên Xe Cà Tàng</td>\n",
       "      <td>https://tiki.vn/product-p205288789.html?spid=2...</td>\n",
       "      <td>Bìa mềm</td>\n",
       "      <td>292500</td>\n",
       "      <td>325000</td>\n",
       "      <td>10</td>\n",
       "      <td>0.0</td>\n",
       "      <td>...</td>\n",
       "      <td>NaN</td>\n",
       "      <td>NaN</td>\n",
       "      <td>NaN</td>\n",
       "      <td>NaN</td>\n",
       "      <td>NaN</td>\n",
       "      <td>NaN</td>\n",
       "      <td>NaN</td>\n",
       "      <td>NaN</td>\n",
       "      <td>NaN</td>\n",
       "      <td>NaN</td>\n",
       "    </tr>\n",
       "    <tr>\n",
       "      <th>4</th>\n",
       "      <td>204649516</td>\n",
       "      <td>204649516</td>\n",
       "      <td>8708257676679</td>\n",
       "      <td>Sách - 1111 - NHẬT KÝ SÁU VẠN DẶM TRÊN YÊN XE ...</td>\n",
       "      <td>https://tiki.vn/product-p204649516.html?spid=2...</td>\n",
       "      <td>NaN</td>\n",
       "      <td>292500</td>\n",
       "      <td>325000</td>\n",
       "      <td>10</td>\n",
       "      <td>0.0</td>\n",
       "      <td>...</td>\n",
       "      <td>NaN</td>\n",
       "      <td>NaN</td>\n",
       "      <td>NaN</td>\n",
       "      <td>NaN</td>\n",
       "      <td>NaN</td>\n",
       "      <td>NaN</td>\n",
       "      <td>NaN</td>\n",
       "      <td>NaN</td>\n",
       "      <td>NaN</td>\n",
       "      <td>NaN</td>\n",
       "    </tr>\n",
       "  </tbody>\n",
       "</table>\n",
       "<p>5 rows × 83 columns</p>\n",
       "</div>"
      ],
      "text/plain": [
       "          id  master_id            sku  \\\n",
       "0  204317934  204317934  9972713357587   \n",
       "1  205279963  205279963  7618382614299   \n",
       "2  193209826  193209826  5001141446127   \n",
       "3  205288789  205288789  9035774965791   \n",
       "4  204649516  204649516  8708257676679   \n",
       "\n",
       "                                                name  \\\n",
       "0     1111 - Nhật Ký Sáu Vạn Dặm Trên Yên Xe Cà Tàng   \n",
       "1     1111 - Nhật Ký Sáu Vạn Dặm Trên Yên Xe Cà Tàng   \n",
       "2  Con Đường Tơ Lụa - Vạn Dặm Xa Từ Pakistan Tới ...   \n",
       "3     1111 - Nhật Ký Sáu Vạn Dặm Trên Yên Xe Cà Tàng   \n",
       "4  Sách - 1111 - NHẬT KÝ SÁU VẠN DẶM TRÊN YÊN XE ...   \n",
       "\n",
       "                                           short_url book_cover   price  \\\n",
       "0  https://tiki.vn/product-p204317934.html?spid=2...        NaN  262000   \n",
       "1  https://tiki.vn/product-p205279963.html?spid=2...    Bìa mềm  256750   \n",
       "2  https://tiki.vn/product-p193209826.html?spid=1...    Bìa mềm   95100   \n",
       "3  https://tiki.vn/product-p205288789.html?spid=2...    Bìa mềm  292500   \n",
       "4  https://tiki.vn/product-p204649516.html?spid=2...        NaN  292500   \n",
       "\n",
       "   original_price  discount_rate  rating_average  ...  kich_thuoc tai_trong  \\\n",
       "0          325000             19             5.0  ...         NaN       NaN   \n",
       "1          325000             21             0.0  ...         NaN       NaN   \n",
       "2          129000             26             4.8  ...         NaN       NaN   \n",
       "3          325000             10             0.0  ...         NaN       NaN   \n",
       "4          325000             10             0.0  ...         NaN       NaN   \n",
       "\n",
       "  device_brand  do_nhay tan_so  huong_dan_bao_quan dac_diem_noi_bat  \\\n",
       "0          NaN      NaN    NaN                 NaN              NaN   \n",
       "1          NaN      NaN    NaN                 NaN              NaN   \n",
       "2          NaN      NaN    NaN                 NaN              NaN   \n",
       "3          NaN      NaN    NaN                 NaN              NaN   \n",
       "4          NaN      NaN    NaN                 NaN              NaN   \n",
       "\n",
       "  dieu_kien_su_dung dia_chi_su_dung bluetooth  \n",
       "0               NaN             NaN       NaN  \n",
       "1               NaN             NaN       NaN  \n",
       "2               NaN             NaN       NaN  \n",
       "3               NaN             NaN       NaN  \n",
       "4               NaN             NaN       NaN  \n",
       "\n",
       "[5 rows x 83 columns]"
      ]
     },
     "execution_count": 46,
     "metadata": {},
     "output_type": "execute_result"
    }
   ],
   "source": [
    "df = df.drop(columns='Unnamed: 0')\n",
    "df.head()"
   ]
  },
  {
   "attachments": {},
   "cell_type": "markdown",
   "metadata": {},
   "source": [
    "##### **Xem thử dữ liệu có bị trùng hay không?**"
   ]
  },
  {
   "cell_type": "code",
   "execution_count": 47,
   "metadata": {},
   "outputs": [
    {
     "data": {
      "text/plain": [
       "(96647, 83)"
      ]
     },
     "execution_count": 47,
     "metadata": {},
     "output_type": "execute_result"
    }
   ],
   "source": [
    "df.shape"
   ]
  },
  {
   "cell_type": "code",
   "execution_count": 48,
   "metadata": {},
   "outputs": [
    {
     "data": {
      "text/plain": [
       "8294"
      ]
     },
     "execution_count": 48,
     "metadata": {},
     "output_type": "execute_result"
    }
   ],
   "source": [
    "df.duplicated().sum()"
   ]
  },
  {
   "attachments": {},
   "cell_type": "markdown",
   "metadata": {},
   "source": [
    "Vậy là dữ liệu có 8294 dòng trùng nhau, ta sẽ tiến hành xoá những dòng này"
   ]
  },
  {
   "cell_type": "code",
   "execution_count": 49,
   "metadata": {},
   "outputs": [
    {
     "data": {
      "text/plain": [
       "(88353, 83)"
      ]
     },
     "execution_count": 49,
     "metadata": {},
     "output_type": "execute_result"
    }
   ],
   "source": [
    "df = df.drop_duplicates(ignore_index=True)\n",
    "df.shape"
   ]
  },
  {
   "attachments": {},
   "cell_type": "markdown",
   "metadata": {},
   "source": [
    "#### **Mỗi dòng có ý nghĩa gì? Có các dòng có ý nghĩa khác nhau hay không?**"
   ]
  },
  {
   "attachments": {},
   "cell_type": "markdown",
   "metadata": {},
   "source": [
    "Mỗi dòng cho biết thông tin về một sản phẩm sách được đăng bán trên tiki. Ví dụ như: <br>\n",
    "- Mã hàng hóa\n",
    "- Tên cuốn sách\n",
    "- Thể loại sách\n",
    "- Số trang\n",
    "- Độ dài, rộng, cao của cuốn sách\n",
    "- Nhà xuất bản\n",
    "- Nơi xuất khẩu<br>\n",
    "............\n",
    "\n",
    "Vì khi thu thập dữ liệu, có những sản phẩm khác loại bị tiki xếp vào chung danh mục nên ta thấy những columns lạ bị thêm vào, ta phải tiến hành xoá những columns này và những sản phẩm (dòng) <font color =red>lạc loài </font>"
   ]
  },
  {
   "cell_type": "code",
   "execution_count": 50,
   "metadata": {},
   "outputs": [
    {
     "data": {
      "text/plain": [
       "Index(['id', 'master_id', 'sku', 'name', 'short_url', 'book_cover', 'price',\n",
       "       'original_price', 'discount_rate', 'rating_average', 'review_count',\n",
       "       'inventory_type', 'productset_group_name', 'day_ago_created',\n",
       "       'categories', 'all_time_quantity_sold', 'authors', 'publisher_vn',\n",
       "       'publication_date', 'dimensions', 'manufacturer', 'number_of_page',\n",
       "       'dich_gia', 'edition', 'brand', 'brand_country', 'item_model_number',\n",
       "       'origin', 'product_weight', 'battery_capacity', 'camera', 'chong_nuoc',\n",
       "       'loai_day', 'san_pham', 'storage', 'battery_life', 'charge_time',\n",
       "       'do_chiu_nuoc', 'included_accessories', 'material', 'luu_y',\n",
       "       'minimum_inbound_policy_days', 'expiry_time', 'shelf_life_days',\n",
       "       'chat_lieu', 'audio_power_output', 'audio_technology',\n",
       "       'dieu_khien_bang_giong_noi', 'dieu_khien_tivi', 'digital_tivi_dvb_t2',\n",
       "       'display_type', 'frequency', 'hdh_giao_dien',\n",
       "       'image_processing_technology', 'network_hdmi', 'network_internet',\n",
       "       'network_wifi', 'remote_thong_minh', 'resolution', 'screen_mirroring',\n",
       "       'screen_size', 'size_without_stand_table_top',\n",
       "       'size_with_stand_table_top', 'tivi_type', 'ung_dung', 'usb',\n",
       "       'weight_without_stand', 'weight_with_stand', 'size', 'loai_pin',\n",
       "       'thoi_gian_su_dung', 'capacity', 'huong_dan_su_dung', 'kich_thuoc',\n",
       "       'tai_trong', 'device_brand', 'do_nhay', 'tan_so', 'huong_dan_bao_quan',\n",
       "       'dac_diem_noi_bat', 'dieu_kien_su_dung', 'dia_chi_su_dung',\n",
       "       'bluetooth'],\n",
       "      dtype='object')"
      ]
     },
     "execution_count": 50,
     "metadata": {},
     "output_type": "execute_result"
    }
   ],
   "source": [
    "df.columns"
   ]
  },
  {
   "attachments": {},
   "cell_type": "markdown",
   "metadata": {},
   "source": [
    "Cột `material` không biết có phải là cột nguyên liệu làm nên quyển sách không."
   ]
  },
  {
   "cell_type": "code",
   "execution_count": 51,
   "metadata": {},
   "outputs": [
    {
     "data": {
      "text/html": [
       "<div>\n",
       "<style scoped>\n",
       "    .dataframe tbody tr th:only-of-type {\n",
       "        vertical-align: middle;\n",
       "    }\n",
       "\n",
       "    .dataframe tbody tr th {\n",
       "        vertical-align: top;\n",
       "    }\n",
       "\n",
       "    .dataframe thead th {\n",
       "        text-align: right;\n",
       "    }\n",
       "</style>\n",
       "<table border=\"1\" class=\"dataframe\">\n",
       "  <thead>\n",
       "    <tr style=\"text-align: right;\">\n",
       "      <th></th>\n",
       "      <th>id</th>\n",
       "      <th>master_id</th>\n",
       "      <th>sku</th>\n",
       "      <th>name</th>\n",
       "      <th>short_url</th>\n",
       "      <th>book_cover</th>\n",
       "      <th>price</th>\n",
       "      <th>original_price</th>\n",
       "      <th>discount_rate</th>\n",
       "      <th>rating_average</th>\n",
       "      <th>...</th>\n",
       "      <th>kich_thuoc</th>\n",
       "      <th>tai_trong</th>\n",
       "      <th>device_brand</th>\n",
       "      <th>do_nhay</th>\n",
       "      <th>tan_so</th>\n",
       "      <th>huong_dan_bao_quan</th>\n",
       "      <th>dac_diem_noi_bat</th>\n",
       "      <th>dieu_kien_su_dung</th>\n",
       "      <th>dia_chi_su_dung</th>\n",
       "      <th>bluetooth</th>\n",
       "    </tr>\n",
       "  </thead>\n",
       "  <tbody>\n",
       "    <tr>\n",
       "      <th>13233</th>\n",
       "      <td>144356210</td>\n",
       "      <td>144356210</td>\n",
       "      <td>5525114755464</td>\n",
       "      <td>Túi đeo chạy bộ, túi đeo hông, đeo bụng dành c...</td>\n",
       "      <td>https://tiki.vn/product-p144356210.html?spid=1...</td>\n",
       "      <td>NaN</td>\n",
       "      <td>112000</td>\n",
       "      <td>139000</td>\n",
       "      <td>19</td>\n",
       "      <td>4.8</td>\n",
       "      <td>...</td>\n",
       "      <td>NaN</td>\n",
       "      <td>NaN</td>\n",
       "      <td>NaN</td>\n",
       "      <td>NaN</td>\n",
       "      <td>NaN</td>\n",
       "      <td>NaN</td>\n",
       "      <td>NaN</td>\n",
       "      <td>NaN</td>\n",
       "      <td>NaN</td>\n",
       "      <td>NaN</td>\n",
       "    </tr>\n",
       "    <tr>\n",
       "      <th>14886</th>\n",
       "      <td>207035527</td>\n",
       "      <td>207035527</td>\n",
       "      <td>6816910771280</td>\n",
       "      <td>Áo Hoodie Nỉ Ngoại Nữ Thêu Chữ Loang Màu Hồng ...</td>\n",
       "      <td>https://tiki.vn/product-p207035527.html?spid=2...</td>\n",
       "      <td>NaN</td>\n",
       "      <td>109000</td>\n",
       "      <td>109000</td>\n",
       "      <td>0</td>\n",
       "      <td>0.0</td>\n",
       "      <td>...</td>\n",
       "      <td>NaN</td>\n",
       "      <td>NaN</td>\n",
       "      <td>NaN</td>\n",
       "      <td>NaN</td>\n",
       "      <td>NaN</td>\n",
       "      <td>NaN</td>\n",
       "      <td>NaN</td>\n",
       "      <td>NaN</td>\n",
       "      <td>NaN</td>\n",
       "      <td>NaN</td>\n",
       "    </tr>\n",
       "    <tr>\n",
       "      <th>15160</th>\n",
       "      <td>176689612</td>\n",
       "      <td>176689612</td>\n",
       "      <td>9588934896842</td>\n",
       "      <td>Vỏ gối trắng trơn-vỏ gối cao cấp 100% Cotton-t...</td>\n",
       "      <td>https://tiki.vn/product-p176689612.html?spid=1...</td>\n",
       "      <td>NaN</td>\n",
       "      <td>63750</td>\n",
       "      <td>63750</td>\n",
       "      <td>0</td>\n",
       "      <td>0.0</td>\n",
       "      <td>...</td>\n",
       "      <td>NaN</td>\n",
       "      <td>NaN</td>\n",
       "      <td>NaN</td>\n",
       "      <td>NaN</td>\n",
       "      <td>NaN</td>\n",
       "      <td>NaN</td>\n",
       "      <td>NaN</td>\n",
       "      <td>NaN</td>\n",
       "      <td>NaN</td>\n",
       "      <td>NaN</td>\n",
       "    </tr>\n",
       "    <tr>\n",
       "      <th>25077</th>\n",
       "      <td>207631100</td>\n",
       "      <td>207631100</td>\n",
       "      <td>6801021851103</td>\n",
       "      <td>Áo Khoác Nam Nữ Xanh Rêu Áo Khoác Dù Dáng Rộng</td>\n",
       "      <td>https://tiki.vn/product-p207631100.html?spid=2...</td>\n",
       "      <td>NaN</td>\n",
       "      <td>130000</td>\n",
       "      <td>130000</td>\n",
       "      <td>0</td>\n",
       "      <td>0.0</td>\n",
       "      <td>...</td>\n",
       "      <td>NaN</td>\n",
       "      <td>NaN</td>\n",
       "      <td>NaN</td>\n",
       "      <td>NaN</td>\n",
       "      <td>NaN</td>\n",
       "      <td>NaN</td>\n",
       "      <td>NaN</td>\n",
       "      <td>NaN</td>\n",
       "      <td>NaN</td>\n",
       "      <td>NaN</td>\n",
       "    </tr>\n",
       "    <tr>\n",
       "      <th>49830</th>\n",
       "      <td>196565537</td>\n",
       "      <td>196565537</td>\n",
       "      <td>5928507424911</td>\n",
       "      <td>Rèm Tự Dính-Không Cần Khoan Vô Cùng Tiện Lợi, ...</td>\n",
       "      <td>https://tiki.vn/product-p196565537.html?spid=1...</td>\n",
       "      <td>NaN</td>\n",
       "      <td>52500</td>\n",
       "      <td>105000</td>\n",
       "      <td>50</td>\n",
       "      <td>0.0</td>\n",
       "      <td>...</td>\n",
       "      <td>30 x 20 x 5</td>\n",
       "      <td>5kg</td>\n",
       "      <td>NaN</td>\n",
       "      <td>NaN</td>\n",
       "      <td>NaN</td>\n",
       "      <td>NaN</td>\n",
       "      <td>NaN</td>\n",
       "      <td>NaN</td>\n",
       "      <td>NaN</td>\n",
       "      <td>NaN</td>\n",
       "    </tr>\n",
       "    <tr>\n",
       "      <th>63694</th>\n",
       "      <td>202432845</td>\n",
       "      <td>202432845</td>\n",
       "      <td>8183965466103</td>\n",
       "      <td>BBSTORE'S Đầm Xòe Dự Tiệc Tay Phồng Thời Trang...</td>\n",
       "      <td>https://tiki.vn/product-p202432845.html?spid=2...</td>\n",
       "      <td>NaN</td>\n",
       "      <td>219000</td>\n",
       "      <td>219000</td>\n",
       "      <td>0</td>\n",
       "      <td>0.0</td>\n",
       "      <td>...</td>\n",
       "      <td>NaN</td>\n",
       "      <td>NaN</td>\n",
       "      <td>NaN</td>\n",
       "      <td>NaN</td>\n",
       "      <td>NaN</td>\n",
       "      <td>NaN</td>\n",
       "      <td>NaN</td>\n",
       "      <td>NaN</td>\n",
       "      <td>NaN</td>\n",
       "      <td>NaN</td>\n",
       "    </tr>\n",
       "    <tr>\n",
       "      <th>76899</th>\n",
       "      <td>175150080</td>\n",
       "      <td>175150080</td>\n",
       "      <td>9992881446659</td>\n",
       "      <td>Bộ Bàn Ghế Gỗ Me Tây Nguyên Khối, Bàn Ghế Ăn G...</td>\n",
       "      <td>https://tiki.vn/product-p175150080.html?spid=1...</td>\n",
       "      <td>NaN</td>\n",
       "      <td>20400000</td>\n",
       "      <td>20400000</td>\n",
       "      <td>0</td>\n",
       "      <td>0.0</td>\n",
       "      <td>...</td>\n",
       "      <td>3,39 x (70 - 75) x 5</td>\n",
       "      <td>NaN</td>\n",
       "      <td>NaN</td>\n",
       "      <td>NaN</td>\n",
       "      <td>NaN</td>\n",
       "      <td>NaN</td>\n",
       "      <td>NaN</td>\n",
       "      <td>NaN</td>\n",
       "      <td>NaN</td>\n",
       "      <td>NaN</td>\n",
       "    </tr>\n",
       "  </tbody>\n",
       "</table>\n",
       "<p>7 rows × 83 columns</p>\n",
       "</div>"
      ],
      "text/plain": [
       "              id  master_id            sku  \\\n",
       "13233  144356210  144356210  5525114755464   \n",
       "14886  207035527  207035527  6816910771280   \n",
       "15160  176689612  176689612  9588934896842   \n",
       "25077  207631100  207631100  6801021851103   \n",
       "49830  196565537  196565537  5928507424911   \n",
       "63694  202432845  202432845  8183965466103   \n",
       "76899  175150080  175150080  9992881446659   \n",
       "\n",
       "                                                    name  \\\n",
       "13233  Túi đeo chạy bộ, túi đeo hông, đeo bụng dành c...   \n",
       "14886  Áo Hoodie Nỉ Ngoại Nữ Thêu Chữ Loang Màu Hồng ...   \n",
       "15160  Vỏ gối trắng trơn-vỏ gối cao cấp 100% Cotton-t...   \n",
       "25077     Áo Khoác Nam Nữ Xanh Rêu Áo Khoác Dù Dáng Rộng   \n",
       "49830  Rèm Tự Dính-Không Cần Khoan Vô Cùng Tiện Lợi, ...   \n",
       "63694  BBSTORE'S Đầm Xòe Dự Tiệc Tay Phồng Thời Trang...   \n",
       "76899  Bộ Bàn Ghế Gỗ Me Tây Nguyên Khối, Bàn Ghế Ăn G...   \n",
       "\n",
       "                                               short_url book_cover     price  \\\n",
       "13233  https://tiki.vn/product-p144356210.html?spid=1...        NaN    112000   \n",
       "14886  https://tiki.vn/product-p207035527.html?spid=2...        NaN    109000   \n",
       "15160  https://tiki.vn/product-p176689612.html?spid=1...        NaN     63750   \n",
       "25077  https://tiki.vn/product-p207631100.html?spid=2...        NaN    130000   \n",
       "49830  https://tiki.vn/product-p196565537.html?spid=1...        NaN     52500   \n",
       "63694  https://tiki.vn/product-p202432845.html?spid=2...        NaN    219000   \n",
       "76899  https://tiki.vn/product-p175150080.html?spid=1...        NaN  20400000   \n",
       "\n",
       "       original_price  discount_rate  rating_average  ...  \\\n",
       "13233          139000             19             4.8  ...   \n",
       "14886          109000              0             0.0  ...   \n",
       "15160           63750              0             0.0  ...   \n",
       "25077          130000              0             0.0  ...   \n",
       "49830          105000             50             0.0  ...   \n",
       "63694          219000              0             0.0  ...   \n",
       "76899        20400000              0             0.0  ...   \n",
       "\n",
       "                 kich_thuoc tai_trong device_brand  do_nhay tan_so  \\\n",
       "13233                   NaN       NaN          NaN      NaN    NaN   \n",
       "14886                   NaN       NaN          NaN      NaN    NaN   \n",
       "15160                   NaN       NaN          NaN      NaN    NaN   \n",
       "25077                   NaN       NaN          NaN      NaN    NaN   \n",
       "49830           30 x 20 x 5       5kg          NaN      NaN    NaN   \n",
       "63694                   NaN       NaN          NaN      NaN    NaN   \n",
       "76899  3,39 x (70 - 75) x 5       NaN          NaN      NaN    NaN   \n",
       "\n",
       "       huong_dan_bao_quan dac_diem_noi_bat dieu_kien_su_dung dia_chi_su_dung  \\\n",
       "13233                 NaN              NaN               NaN             NaN   \n",
       "14886                 NaN              NaN               NaN             NaN   \n",
       "15160                 NaN              NaN               NaN             NaN   \n",
       "25077                 NaN              NaN               NaN             NaN   \n",
       "49830                 NaN              NaN               NaN             NaN   \n",
       "63694                 NaN              NaN               NaN             NaN   \n",
       "76899                 NaN              NaN               NaN             NaN   \n",
       "\n",
       "      bluetooth  \n",
       "13233       NaN  \n",
       "14886       NaN  \n",
       "15160       NaN  \n",
       "25077       NaN  \n",
       "49830       NaN  \n",
       "63694       NaN  \n",
       "76899       NaN  \n",
       "\n",
       "[7 rows x 83 columns]"
      ]
     },
     "execution_count": 51,
     "metadata": {},
     "output_type": "execute_result"
    }
   ],
   "source": [
    "df[~df['material'].isna()]"
   ]
  },
  {
   "attachments": {},
   "cell_type": "markdown",
   "metadata": {},
   "source": [
    "Có vẻ cột `material` không phải như ta \"mong ước\"."
   ]
  },
  {
   "attachments": {},
   "cell_type": "markdown",
   "metadata": {},
   "source": [
    "Các `features` được sử dụng"
   ]
  },
  {
   "cell_type": "code",
   "execution_count": 52,
   "metadata": {},
   "outputs": [],
   "source": [
    "features = ['id', 'master_id', 'sku', 'name', 'short_url', 'book_cover', 'price',\n",
    "       'original_price', 'discount_rate', 'rating_average', 'review_count',\n",
    "       'inventory_type', 'productset_group_name', 'day_ago_created',\n",
    "       'categories', 'all_time_quantity_sold', 'authors', 'publisher_vn',\n",
    "       'publication_date', 'dimensions', 'manufacturer', 'number_of_page',\n",
    "       'dich_gia', 'edition', 'luu_y']"
   ]
  },
  {
   "attachments": {},
   "cell_type": "markdown",
   "metadata": {},
   "source": [
    "Một số `features` không hợp lệ với yêu cầu bài toán"
   ]
  },
  {
   "cell_type": "code",
   "execution_count": 53,
   "metadata": {},
   "outputs": [
    {
     "name": "stdout",
     "output_type": "stream",
     "text": [
      "['network_wifi', 'dac_diem_noi_bat', 'size_without_stand_table_top', 'brand_country', 'charge_time', 'size_with_stand_table_top', 'network_hdmi', 'chong_nuoc', 'battery_life', 'battery_capacity', 'remote_thong_minh', 'dieu_khien_bang_giong_noi', 'product_weight', 'camera', 'material', 'loai_day', 'do_nhay', 'storage', 'shelf_life_days', 'bluetooth', 'audio_power_output', 'digital_tivi_dvb_t2', 'tivi_type', 'network_internet', 'huong_dan_su_dung', 'included_accessories', 'tan_so', 'size', 'item_model_number', 'ung_dung', 'capacity', 'tai_trong', 'loai_pin', 'thoi_gian_su_dung', 'origin', 'screen_mirroring', 'weight_with_stand', 'screen_size', 'huong_dan_bao_quan', 'chat_lieu', 'usb', 'frequency', 'display_type', 'minimum_inbound_policy_days', 'expiry_time', 'san_pham', 'kich_thuoc', 'dieu_kien_su_dung', 'dieu_khien_tivi', 'weight_without_stand', 'audio_technology', 'dia_chi_su_dung', 'hdh_giao_dien', 'do_chiu_nuoc', 'image_processing_technology', 'resolution', 'device_brand', 'brand']\n"
     ]
    }
   ],
   "source": [
    "unvalid_cols = list(set(df.columns) - set(features))\n",
    "print(unvalid_cols)"
   ]
  },
  {
   "attachments": {},
   "cell_type": "markdown",
   "metadata": {},
   "source": [
    "Thử lấy các sản phẩm thuộc ngoài những `categories` của danh mục sách (mà ta đã thu thập)"
   ]
  },
  {
   "cell_type": "code",
   "execution_count": 54,
   "metadata": {},
   "outputs": [
    {
     "data": {
      "text/plain": [
       "Root                                   20440\n",
       "Sách tiếng Việt                        19201\n",
       "Nhà Sách Tiki                             23\n",
       "Máy Ảnh - Máy Quay Phim                    4\n",
       "Túi và Hộp Đựng Máy Ảnh                    3\n",
       "Thiết Bị Số - Phụ Kiện Số                  3\n",
       "Tai Nghe True Wireless                     2\n",
       "Đầu Ghi Hình Camera                        1\n",
       "Nước Ngọt                                  1\n",
       "Móng giả                                   1\n",
       "Bộ sản phẩm vệ sinh nhà cửa                1\n",
       "Làm Đẹp - Sức Khỏe                         1\n",
       "Thực phẩm khô khác                         1\n",
       "Loa Vi Tính                                1\n",
       "Dây Đeo Máy Ảnh, Máy Quay, Ống Nhòm        1\n",
       "Bình, ly uống trà và phụ kiện              1\n",
       "Voucher - Dịch vụ                          1\n",
       "Bàn ghế làm việc                           1\n",
       "Nón bơi                                    1\n",
       "Phụ Kiện Máy Quay Khác                     1\n",
       "Bao Da - Ốp Lưng iPad                      1\n",
       "Bình đun siêu tốc                          1\n",
       "Các loại gia vị dạng nước khác             1\n",
       "Thực phẩm bổ dưỡng                         1\n",
       "Thiết Bị Phòng Tối                         1\n",
       "Phụ kiện ô tô                              1\n",
       "Bánh kẹo                                   1\n",
       "Thời Trang                                 1\n",
       "Đai chạy bộ                                1\n",
       "Mystery, Thriller & Suspense               1\n",
       "Điện thoại Smartphone                      1\n",
       "USB                                        1\n",
       "Son thỏi                                   1\n",
       "Trang điểm, chống nắng                     1\n",
       "Điện Gia Dụng                              1\n",
       "Tivi 4K                                    1\n",
       "Hạt giống                                  1\n",
       "Children's Books                           1\n",
       "Router Wifi                                1\n",
       "Dao - Máy cạo râu & Hớt tóc                1\n",
       "Ống Nhòm                                   1\n",
       "Thực phẩm cao cấp                          1\n",
       "Kem đánh răng, bàn chải                    1\n",
       "Rèm, màn cửa                               1\n",
       "Pin - Sạc Máy Ảnh, Máy Quay                1\n",
       "Tủ                                         1\n",
       "Hộp Đựng - Tủ Chống Ẩm                     1\n",
       "Áo thun nam ngắn tay không cổ              1\n",
       "Name: categories, dtype: int64"
      ]
     },
     "execution_count": 54,
     "metadata": {},
     "output_type": "execute_result"
    }
   ],
   "source": [
    "valid_categories = pd.read_csv('Dataset/id_data/categories_id.csv')['categories'] \n",
    "valid_categories = '|'.join(list(valid_categories)) #+ ['Root', 'Sách tiếng Việt', 'Nhà Sách Tiki'])\n",
    "# df[df[unvalid_cols].notna().any(axis=1)].to_csv('not_books.csv', encoding='utf-8-sig')\n",
    "# df[df['publisher_vn'].isna()].to_csv('not_publiser.csv', encoding='utf-8-sig')\n",
    "# df[df['categories'].str.contains(valid_categories, na=False)]\n",
    "\n",
    "#Chọn những categories không phải sách\n",
    "df[~df['categories'].str.contains(valid_categories, na=False)]['categories'].value_counts()"
   ]
  },
  {
   "attachments": {},
   "cell_type": "markdown",
   "metadata": {},
   "source": [
    " - Loại bỏ tất cả giá trị không `liên quan` đến điều mà ta mong muốn."
   ]
  },
  {
   "cell_type": "code",
   "execution_count": 55,
   "metadata": {},
   "outputs": [
    {
     "data": {
      "text/plain": [
       "(48291, 83)"
      ]
     },
     "execution_count": 55,
     "metadata": {},
     "output_type": "execute_result"
    }
   ],
   "source": [
    "df = df[df['categories'].str.contains(valid_categories, na=False)]\n",
    "# df.shape\n",
    "df.shape"
   ]
  },
  {
   "attachments": {},
   "cell_type": "markdown",
   "metadata": {},
   "source": [
    "Như vậy sau khi loại bỏ đi các dữ liệu không cần thiết, thì ta còn 48291 dòng."
   ]
  },
  {
   "attachments": {},
   "cell_type": "markdown",
   "metadata": {},
   "source": [
    "- Có thể vẫn còn, ta sẽ xem những features bị <font color=red>lạc loài</font> (khác giá trị nan):"
   ]
  },
  {
   "cell_type": "code",
   "execution_count": 56,
   "metadata": {},
   "outputs": [
    {
     "data": {
      "text/html": [
       "<div>\n",
       "<style scoped>\n",
       "    .dataframe tbody tr th:only-of-type {\n",
       "        vertical-align: middle;\n",
       "    }\n",
       "\n",
       "    .dataframe tbody tr th {\n",
       "        vertical-align: top;\n",
       "    }\n",
       "\n",
       "    .dataframe thead th {\n",
       "        text-align: right;\n",
       "    }\n",
       "</style>\n",
       "<table border=\"1\" class=\"dataframe\">\n",
       "  <thead>\n",
       "    <tr style=\"text-align: right;\">\n",
       "      <th></th>\n",
       "      <th>id</th>\n",
       "      <th>master_id</th>\n",
       "      <th>sku</th>\n",
       "      <th>name</th>\n",
       "      <th>short_url</th>\n",
       "      <th>book_cover</th>\n",
       "      <th>price</th>\n",
       "      <th>original_price</th>\n",
       "      <th>discount_rate</th>\n",
       "      <th>rating_average</th>\n",
       "      <th>...</th>\n",
       "      <th>kich_thuoc</th>\n",
       "      <th>tai_trong</th>\n",
       "      <th>device_brand</th>\n",
       "      <th>do_nhay</th>\n",
       "      <th>tan_so</th>\n",
       "      <th>huong_dan_bao_quan</th>\n",
       "      <th>dac_diem_noi_bat</th>\n",
       "      <th>dieu_kien_su_dung</th>\n",
       "      <th>dia_chi_su_dung</th>\n",
       "      <th>bluetooth</th>\n",
       "    </tr>\n",
       "  </thead>\n",
       "  <tbody>\n",
       "  </tbody>\n",
       "</table>\n",
       "<p>0 rows × 83 columns</p>\n",
       "</div>"
      ],
      "text/plain": [
       "Empty DataFrame\n",
       "Columns: [id, master_id, sku, name, short_url, book_cover, price, original_price, discount_rate, rating_average, review_count, inventory_type, productset_group_name, day_ago_created, categories, all_time_quantity_sold, authors, publisher_vn, publication_date, dimensions, manufacturer, number_of_page, dich_gia, edition, brand, brand_country, item_model_number, origin, product_weight, battery_capacity, camera, chong_nuoc, loai_day, san_pham, storage, battery_life, charge_time, do_chiu_nuoc, included_accessories, material, luu_y, minimum_inbound_policy_days, expiry_time, shelf_life_days, chat_lieu, audio_power_output, audio_technology, dieu_khien_bang_giong_noi, dieu_khien_tivi, digital_tivi_dvb_t2, display_type, frequency, hdh_giao_dien, image_processing_technology, network_hdmi, network_internet, network_wifi, remote_thong_minh, resolution, screen_mirroring, screen_size, size_without_stand_table_top, size_with_stand_table_top, tivi_type, ung_dung, usb, weight_without_stand, weight_with_stand, size, loai_pin, thoi_gian_su_dung, capacity, huong_dan_su_dung, kich_thuoc, tai_trong, device_brand, do_nhay, tan_so, huong_dan_bao_quan, dac_diem_noi_bat, dieu_kien_su_dung, dia_chi_su_dung, bluetooth]\n",
       "Index: []\n",
       "\n",
       "[0 rows x 83 columns]"
      ]
     },
     "metadata": {},
     "output_type": "display_data"
    }
   ],
   "source": [
    "unvalid_products = df[df[unvalid_cols].notna().any(axis=1)]\n",
    "display(unvalid_products)"
   ]
  },
  {
   "attachments": {},
   "cell_type": "markdown",
   "metadata": {},
   "source": [
    "Tiếp tục bỏ đi những sản phẩm này."
   ]
  },
  {
   "cell_type": "code",
   "execution_count": 57,
   "metadata": {},
   "outputs": [
    {
     "data": {
      "text/html": [
       "<div>\n",
       "<style scoped>\n",
       "    .dataframe tbody tr th:only-of-type {\n",
       "        vertical-align: middle;\n",
       "    }\n",
       "\n",
       "    .dataframe tbody tr th {\n",
       "        vertical-align: top;\n",
       "    }\n",
       "\n",
       "    .dataframe thead th {\n",
       "        text-align: right;\n",
       "    }\n",
       "</style>\n",
       "<table border=\"1\" class=\"dataframe\">\n",
       "  <thead>\n",
       "    <tr style=\"text-align: right;\">\n",
       "      <th></th>\n",
       "      <th>id</th>\n",
       "      <th>master_id</th>\n",
       "      <th>sku</th>\n",
       "      <th>name</th>\n",
       "      <th>short_url</th>\n",
       "      <th>book_cover</th>\n",
       "      <th>price</th>\n",
       "      <th>original_price</th>\n",
       "      <th>discount_rate</th>\n",
       "      <th>rating_average</th>\n",
       "      <th>...</th>\n",
       "      <th>kich_thuoc</th>\n",
       "      <th>tai_trong</th>\n",
       "      <th>device_brand</th>\n",
       "      <th>do_nhay</th>\n",
       "      <th>tan_so</th>\n",
       "      <th>huong_dan_bao_quan</th>\n",
       "      <th>dac_diem_noi_bat</th>\n",
       "      <th>dieu_kien_su_dung</th>\n",
       "      <th>dia_chi_su_dung</th>\n",
       "      <th>bluetooth</th>\n",
       "    </tr>\n",
       "  </thead>\n",
       "  <tbody>\n",
       "  </tbody>\n",
       "</table>\n",
       "<p>0 rows × 83 columns</p>\n",
       "</div>"
      ],
      "text/plain": [
       "Empty DataFrame\n",
       "Columns: [id, master_id, sku, name, short_url, book_cover, price, original_price, discount_rate, rating_average, review_count, inventory_type, productset_group_name, day_ago_created, categories, all_time_quantity_sold, authors, publisher_vn, publication_date, dimensions, manufacturer, number_of_page, dich_gia, edition, brand, brand_country, item_model_number, origin, product_weight, battery_capacity, camera, chong_nuoc, loai_day, san_pham, storage, battery_life, charge_time, do_chiu_nuoc, included_accessories, material, luu_y, minimum_inbound_policy_days, expiry_time, shelf_life_days, chat_lieu, audio_power_output, audio_technology, dieu_khien_bang_giong_noi, dieu_khien_tivi, digital_tivi_dvb_t2, display_type, frequency, hdh_giao_dien, image_processing_technology, network_hdmi, network_internet, network_wifi, remote_thong_minh, resolution, screen_mirroring, screen_size, size_without_stand_table_top, size_with_stand_table_top, tivi_type, ung_dung, usb, weight_without_stand, weight_with_stand, size, loai_pin, thoi_gian_su_dung, capacity, huong_dan_su_dung, kich_thuoc, tai_trong, device_brand, do_nhay, tan_so, huong_dan_bao_quan, dac_diem_noi_bat, dieu_kien_su_dung, dia_chi_su_dung, bluetooth]\n",
       "Index: []\n",
       "\n",
       "[0 rows x 83 columns]"
      ]
     },
     "execution_count": 57,
     "metadata": {},
     "output_type": "execute_result"
    }
   ],
   "source": [
    "df = df.drop(unvalid_products.index).reset_index(drop=True)\n",
    "df[df[unvalid_cols].notna().any(axis=1)] # test lại"
   ]
  },
  {
   "cell_type": "code",
   "execution_count": 58,
   "metadata": {},
   "outputs": [
    {
     "data": {
      "text/plain": [
       "48290"
      ]
     },
     "execution_count": 58,
     "metadata": {},
     "output_type": "execute_result"
    }
   ],
   "source": [
    "df.index.max()"
   ]
  },
  {
   "attachments": {},
   "cell_type": "markdown",
   "metadata": {},
   "source": [
    "Có thể vẫn còn những sản phẩm <font color=red>lạc loài</font> khác, tuy nhiên khó có thể nhận biết và loại bỏ được."
   ]
  },
  {
   "attachments": {},
   "cell_type": "markdown",
   "metadata": {},
   "source": [
    "- Xóa đi các cột <font color =red> lạc loài </font> đi thôi!"
   ]
  },
  {
   "cell_type": "code",
   "execution_count": 59,
   "metadata": {},
   "outputs": [
    {
     "data": {
      "text/plain": [
       "(48291, 25)"
      ]
     },
     "execution_count": 59,
     "metadata": {},
     "output_type": "execute_result"
    }
   ],
   "source": [
    "df = df.drop(unvalid_cols, axis = 1)\n",
    "df.shape"
   ]
  },
  {
   "attachments": {},
   "cell_type": "markdown",
   "metadata": {},
   "source": [
    "### **Xử lý dữ liệu sau khi loại bỏ các giá trị `lạc loài`**"
   ]
  },
  {
   "attachments": {},
   "cell_type": "markdown",
   "metadata": {},
   "source": [
    "- Cột `id` và `master_id` có gì liên quan đến nhau không ?"
   ]
  },
  {
   "cell_type": "code",
   "execution_count": 60,
   "metadata": {},
   "outputs": [],
   "source": [
    "id_cols = [\"id\", \"master_id\"]\n",
    "# df[id_cols].corr()"
   ]
  },
  {
   "cell_type": "code",
   "execution_count": 61,
   "metadata": {},
   "outputs": [
    {
     "data": {
      "text/html": [
       "<div>\n",
       "<style scoped>\n",
       "    .dataframe tbody tr th:only-of-type {\n",
       "        vertical-align: middle;\n",
       "    }\n",
       "\n",
       "    .dataframe tbody tr th {\n",
       "        vertical-align: top;\n",
       "    }\n",
       "\n",
       "    .dataframe thead th {\n",
       "        text-align: right;\n",
       "    }\n",
       "</style>\n",
       "<table border=\"1\" class=\"dataframe\">\n",
       "  <thead>\n",
       "    <tr style=\"text-align: right;\">\n",
       "      <th></th>\n",
       "      <th>id</th>\n",
       "      <th>master_id</th>\n",
       "      <th>sku</th>\n",
       "      <th>name</th>\n",
       "      <th>short_url</th>\n",
       "      <th>book_cover</th>\n",
       "      <th>price</th>\n",
       "      <th>original_price</th>\n",
       "      <th>discount_rate</th>\n",
       "      <th>rating_average</th>\n",
       "      <th>...</th>\n",
       "      <th>all_time_quantity_sold</th>\n",
       "      <th>authors</th>\n",
       "      <th>publisher_vn</th>\n",
       "      <th>publication_date</th>\n",
       "      <th>dimensions</th>\n",
       "      <th>manufacturer</th>\n",
       "      <th>number_of_page</th>\n",
       "      <th>dich_gia</th>\n",
       "      <th>edition</th>\n",
       "      <th>luu_y</th>\n",
       "    </tr>\n",
       "  </thead>\n",
       "  <tbody>\n",
       "  </tbody>\n",
       "</table>\n",
       "<p>0 rows × 25 columns</p>\n",
       "</div>"
      ],
      "text/plain": [
       "Empty DataFrame\n",
       "Columns: [id, master_id, sku, name, short_url, book_cover, price, original_price, discount_rate, rating_average, review_count, inventory_type, productset_group_name, day_ago_created, categories, all_time_quantity_sold, authors, publisher_vn, publication_date, dimensions, manufacturer, number_of_page, dich_gia, edition, luu_y]\n",
       "Index: []\n",
       "\n",
       "[0 rows x 25 columns]"
      ]
     },
     "execution_count": 61,
     "metadata": {},
     "output_type": "execute_result"
    }
   ],
   "source": [
    "df[~(df[\"id\"]==df[\"master_id\"])]"
   ]
  },
  {
   "attachments": {},
   "cell_type": "markdown",
   "metadata": {},
   "source": [
    "Như vậy 2 cột này hoàn toàn giống nhau. Xóa đi một cột"
   ]
  },
  {
   "attachments": {},
   "cell_type": "markdown",
   "metadata": {},
   "source": [
    "- Loại bỏ cột `master_id`"
   ]
  },
  {
   "cell_type": "code",
   "execution_count": 62,
   "metadata": {},
   "outputs": [],
   "source": [
    "df = df.drop(\"master_id\", axis = 1)"
   ]
  },
  {
   "attachments": {},
   "cell_type": "markdown",
   "metadata": {},
   "source": [
    "- Mô tả thông tin của các cột\n"
   ]
  },
  {
   "cell_type": "code",
   "execution_count": 63,
   "metadata": {},
   "outputs": [
    {
     "data": {
      "text/html": [
       "<div>\n",
       "<style scoped>\n",
       "    .dataframe tbody tr th:only-of-type {\n",
       "        vertical-align: middle;\n",
       "    }\n",
       "\n",
       "    .dataframe tbody tr th {\n",
       "        vertical-align: top;\n",
       "    }\n",
       "\n",
       "    .dataframe thead th {\n",
       "        text-align: right;\n",
       "    }\n",
       "</style>\n",
       "<table border=\"1\" class=\"dataframe\">\n",
       "  <thead>\n",
       "    <tr style=\"text-align: right;\">\n",
       "      <th></th>\n",
       "      <th>Name</th>\n",
       "      <th>Type</th>\n",
       "      <th>Describe</th>\n",
       "    </tr>\n",
       "  </thead>\n",
       "  <tbody>\n",
       "    <tr>\n",
       "      <th>0</th>\n",
       "      <td>id</td>\n",
       "      <td>string</td>\n",
       "      <td>ID của quyền sách</td>\n",
       "    </tr>\n",
       "    <tr>\n",
       "      <th>1</th>\n",
       "      <td>sku</td>\n",
       "      <td>string</td>\n",
       "      <td>Mã hàng hóa</td>\n",
       "    </tr>\n",
       "    <tr>\n",
       "      <th>2</th>\n",
       "      <td>name</td>\n",
       "      <td>string</td>\n",
       "      <td>Tên quyển sách</td>\n",
       "    </tr>\n",
       "    <tr>\n",
       "      <th>3</th>\n",
       "      <td>short_url</td>\n",
       "      <td>string</td>\n",
       "      <td>Đường link đến trang bán sách</td>\n",
       "    </tr>\n",
       "    <tr>\n",
       "      <th>4</th>\n",
       "      <td>book_cover</td>\n",
       "      <td>string</td>\n",
       "      <td>Loại bìa sách</td>\n",
       "    </tr>\n",
       "    <tr>\n",
       "      <th>5</th>\n",
       "      <td>price</td>\n",
       "      <td>int</td>\n",
       "      <td>Giá quyển sách đang được bán trên tiki</td>\n",
       "    </tr>\n",
       "    <tr>\n",
       "      <th>6</th>\n",
       "      <td>original_price</td>\n",
       "      <td>int</td>\n",
       "      <td>Giá gốc của quyển sách</td>\n",
       "    </tr>\n",
       "    <tr>\n",
       "      <th>7</th>\n",
       "      <td>discount_rate</td>\n",
       "      <td>int</td>\n",
       "      <td>% Giảm giá</td>\n",
       "    </tr>\n",
       "    <tr>\n",
       "      <th>8</th>\n",
       "      <td>rating_average</td>\n",
       "      <td>float</td>\n",
       "      <td>Mức đánh giát trung bình ( 0 &lt;= x &lt;= 5)</td>\n",
       "    </tr>\n",
       "    <tr>\n",
       "      <th>9</th>\n",
       "      <td>review_count</td>\n",
       "      <td>int</td>\n",
       "      <td>Số lượt đánh giá, bình luận của khách hàng</td>\n",
       "    </tr>\n",
       "    <tr>\n",
       "      <th>10</th>\n",
       "      <td>inventory_type</td>\n",
       "      <td>string</td>\n",
       "      <td>Tình trạng trong kho của quyển sách. (\"instock...</td>\n",
       "    </tr>\n",
       "    <tr>\n",
       "      <th>11</th>\n",
       "      <td>productset_group_name</td>\n",
       "      <td>string</td>\n",
       "      <td>Tên nhóm sản phẩm</td>\n",
       "    </tr>\n",
       "    <tr>\n",
       "      <th>12</th>\n",
       "      <td>day_ago_created</td>\n",
       "      <td>int</td>\n",
       "      <td>Số ngày kể từ khi đăng bán trên tiki</td>\n",
       "    </tr>\n",
       "    <tr>\n",
       "      <th>13</th>\n",
       "      <td>categories</td>\n",
       "      <td>string</td>\n",
       "      <td>Phân loại sách</td>\n",
       "    </tr>\n",
       "    <tr>\n",
       "      <th>14</th>\n",
       "      <td>all_time_quantity_sold</td>\n",
       "      <td>int</td>\n",
       "      <td>Số lượng sách đã bán từ tiki</td>\n",
       "    </tr>\n",
       "    <tr>\n",
       "      <th>15</th>\n",
       "      <td>authors</td>\n",
       "      <td>string</td>\n",
       "      <td>Tác giả quyển sách</td>\n",
       "    </tr>\n",
       "    <tr>\n",
       "      <th>16</th>\n",
       "      <td>publisher_vn</td>\n",
       "      <td>string</td>\n",
       "      <td>Công ty phát hành</td>\n",
       "    </tr>\n",
       "    <tr>\n",
       "      <th>17</th>\n",
       "      <td>publication_date</td>\n",
       "      <td>Date</td>\n",
       "      <td>Ngày xuất bản</td>\n",
       "    </tr>\n",
       "    <tr>\n",
       "      <th>18</th>\n",
       "      <td>dimensions</td>\n",
       "      <td>string</td>\n",
       "      <td>Kích thước chiều dài và rộng của quyển sách</td>\n",
       "    </tr>\n",
       "    <tr>\n",
       "      <th>19</th>\n",
       "      <td>manufacturer</td>\n",
       "      <td>string</td>\n",
       "      <td>Nhà xuất bản</td>\n",
       "    </tr>\n",
       "    <tr>\n",
       "      <th>20</th>\n",
       "      <td>number_of_page</td>\n",
       "      <td>int</td>\n",
       "      <td>Số trang</td>\n",
       "    </tr>\n",
       "    <tr>\n",
       "      <th>21</th>\n",
       "      <td>dich_gia</td>\n",
       "      <td>string</td>\n",
       "      <td>Tên dịch giả</td>\n",
       "    </tr>\n",
       "    <tr>\n",
       "      <th>22</th>\n",
       "      <td>edition</td>\n",
       "      <td>string</td>\n",
       "      <td>Phiên bản của quyển sách</td>\n",
       "    </tr>\n",
       "    <tr>\n",
       "      <th>23</th>\n",
       "      <td>luu_y</td>\n",
       "      <td>string</td>\n",
       "      <td>Những lưu ý thay đổi trên sách</td>\n",
       "    </tr>\n",
       "  </tbody>\n",
       "</table>\n",
       "</div>"
      ],
      "text/plain": [
       "                      Name    Type  \\\n",
       "0                       id  string   \n",
       "1                      sku  string   \n",
       "2                     name  string   \n",
       "3                short_url  string   \n",
       "4               book_cover  string   \n",
       "5                    price    int    \n",
       "6           original_price     int   \n",
       "7            discount_rate    int    \n",
       "8           rating_average   float   \n",
       "9             review_count     int   \n",
       "10          inventory_type  string   \n",
       "11   productset_group_name  string   \n",
       "12         day_ago_created     int   \n",
       "13              categories  string   \n",
       "14  all_time_quantity_sold     int   \n",
       "15                 authors  string   \n",
       "16            publisher_vn  string   \n",
       "17        publication_date    Date   \n",
       "18              dimensions  string   \n",
       "19            manufacturer  string   \n",
       "20          number_of_page     int   \n",
       "21                dich_gia  string   \n",
       "22                 edition  string   \n",
       "23                  luu_y   string   \n",
       "\n",
       "                                             Describe  \n",
       "0                                   ID của quyền sách  \n",
       "1                                         Mã hàng hóa  \n",
       "2                                      Tên quyển sách  \n",
       "3                       Đường link đến trang bán sách  \n",
       "4                                       Loại bìa sách  \n",
       "5              Giá quyển sách đang được bán trên tiki  \n",
       "6                              Giá gốc của quyển sách  \n",
       "7                                         % Giảm giá   \n",
       "8             Mức đánh giát trung bình ( 0 <= x <= 5)  \n",
       "9          Số lượt đánh giá, bình luận của khách hàng  \n",
       "10  Tình trạng trong kho của quyển sách. (\"instock...  \n",
       "11                                  Tên nhóm sản phẩm  \n",
       "12               Số ngày kể từ khi đăng bán trên tiki  \n",
       "13                                     Phân loại sách  \n",
       "14                      Số lượng sách đã bán từ tiki   \n",
       "15                                 Tác giả quyển sách  \n",
       "16                                  Công ty phát hành  \n",
       "17                                     Ngày xuất bản   \n",
       "18        Kích thước chiều dài và rộng của quyển sách  \n",
       "19                                       Nhà xuất bản  \n",
       "20                                           Số trang  \n",
       "21                                       Tên dịch giả  \n",
       "22                           Phiên bản của quyển sách  \n",
       "23                     Những lưu ý thay đổi trên sách  "
      ]
     },
     "execution_count": 63,
     "metadata": {},
     "output_type": "execute_result"
    }
   ],
   "source": [
    "pd.read_csv('Dataset/column/Columns.csv')"
   ]
  },
  {
   "attachments": {},
   "cell_type": "markdown",
   "metadata": {},
   "source": [
    "- Xem thông tin kiểu dữ liệu của mỗi cột"
   ]
  },
  {
   "cell_type": "code",
   "execution_count": 64,
   "metadata": {},
   "outputs": [
    {
     "data": {
      "text/plain": [
       "id                          int64\n",
       "sku                         int64\n",
       "name                       object\n",
       "short_url                  object\n",
       "book_cover                 object\n",
       "price                       int64\n",
       "original_price              int64\n",
       "discount_rate               int64\n",
       "rating_average            float64\n",
       "review_count                int64\n",
       "inventory_type             object\n",
       "productset_group_name      object\n",
       "day_ago_created             int64\n",
       "categories                 object\n",
       "all_time_quantity_sold      int64\n",
       "authors                    object\n",
       "publisher_vn               object\n",
       "publication_date           object\n",
       "dimensions                 object\n",
       "manufacturer               object\n",
       "number_of_page             object\n",
       "dich_gia                   object\n",
       "edition                    object\n",
       "luu_y                      object\n",
       "dtype: object"
      ]
     },
     "metadata": {},
     "output_type": "display_data"
    }
   ],
   "source": [
    "display(df.dtypes)"
   ]
  },
  {
   "attachments": {},
   "cell_type": "markdown",
   "metadata": {},
   "source": [
    "Các cột có kiểu dữ liệu là numeric "
   ]
  },
  {
   "cell_type": "code",
   "execution_count": 65,
   "metadata": {},
   "outputs": [
    {
     "data": {
      "text/plain": [
       "Index(['id', 'sku', 'price', 'original_price', 'discount_rate',\n",
       "       'rating_average', 'review_count', 'day_ago_created',\n",
       "       'all_time_quantity_sold'],\n",
       "      dtype='object')"
      ]
     },
     "execution_count": 65,
     "metadata": {},
     "output_type": "execute_result"
    }
   ],
   "source": [
    "numeric_cols = df.select_dtypes(include=np.number).columns\n",
    "numeric_cols"
   ]
  },
  {
   "attachments": {},
   "cell_type": "markdown",
   "metadata": {},
   "source": [
    "Hmm... Lẽ ra cột `number_of_page` phải có kiểu dữ liệu là `numeric` chứ tại sao là `object` !?"
   ]
  },
  {
   "cell_type": "code",
   "execution_count": 66,
   "metadata": {},
   "outputs": [
    {
     "data": {
      "text/plain": [
       "{float, str}"
      ]
     },
     "execution_count": 66,
     "metadata": {},
     "output_type": "execute_result"
    }
   ],
   "source": [
    "# df['number_of_page'].fillna(0).astype(np.int64)\n",
    "# df['number_of_page'].unique()\n",
    "set(df['number_of_page'].apply(lambda x: type(x)))"
   ]
  },
  {
   "attachments": {},
   "cell_type": "markdown",
   "metadata": {},
   "source": [
    "Cột này chứa 2 kiểu dữ liệu là `str` (?) và `float`:\n",
    "- Tại sao lại chứa kiểu dữ liệu string?"
   ]
  },
  {
   "cell_type": "code",
   "execution_count": 67,
   "metadata": {},
   "outputs": [
    {
     "data": {
      "text/plain": [
       "array(['336', '178', '216', ..., '10512', '1058', '879'], dtype=object)"
      ]
     },
     "execution_count": 67,
     "metadata": {},
     "output_type": "execute_result"
    }
   ],
   "source": [
    "df[df['number_of_page'].apply(lambda x: isinstance(x, str))]['number_of_page'].unique()"
   ]
  },
  {
   "attachments": {},
   "cell_type": "markdown",
   "metadata": {},
   "source": [
    "Các số là được đưa về kiểu dũ liệu `str`. Nhưng mà để cho chắc, kiểm tra thử xem trong cột này có dạng chữ cái nào không"
   ]
  },
  {
   "cell_type": "code",
   "execution_count": 68,
   "metadata": {},
   "outputs": [
    {
     "data": {
      "text/plain": [
       "array(['Cuốn', '80x2', 'mềm'], dtype=object)"
      ]
     },
     "execution_count": 68,
     "metadata": {},
     "output_type": "execute_result"
    }
   ],
   "source": [
    "df[df['number_of_page'].str.contains(r'[a-zA-Z]', na=False)]['number_of_page'].unique()"
   ]
  },
  {
   "attachments": {},
   "cell_type": "markdown",
   "metadata": {},
   "source": [
    "- Thì ra các giá trị `integer` đã bị chuyển thành string.\n",
    "- Một vài giá trị string <font color=red>lạc loài</font> (\"Cuốn\", \"80x2\", \"mềm\") đã làm kiểu dữ liệu bị thay đổi. Ta sẽ chuyển các giá trị này về nan."
   ]
  },
  {
   "cell_type": "code",
   "execution_count": 69,
   "metadata": {},
   "outputs": [],
   "source": [
    "df.loc[df['number_of_page'].str.contains(r'[a-zA-Z]', na=False), 'number_of_page'] = np.nan"
   ]
  },
  {
   "cell_type": "code",
   "execution_count": 70,
   "metadata": {},
   "outputs": [
    {
     "data": {
      "text/plain": [
       "dtype('int64')"
      ]
     },
     "execution_count": 70,
     "metadata": {},
     "output_type": "execute_result"
    }
   ],
   "source": [
    "df['number_of_page'] = df['number_of_page'].fillna(0).astype(np.int64)\n",
    "df['number_of_page'].dtype"
   ]
  },
  {
   "attachments": {},
   "cell_type": "markdown",
   "metadata": {},
   "source": [
    "Đổi dtype của cột `publication_date` thành datetime"
   ]
  },
  {
   "cell_type": "code",
   "execution_count": 71,
   "metadata": {},
   "outputs": [],
   "source": [
    "df.publication_date = pd.to_datetime(df.publication_date, format = \"%Y-%m-%d %H:%M:%S\", errors = \"coerce\")"
   ]
  },
  {
   "cell_type": "code",
   "execution_count": 72,
   "metadata": {},
   "outputs": [
    {
     "data": {
      "text/plain": [
       "29534"
      ]
     },
     "execution_count": 72,
     "metadata": {},
     "output_type": "execute_result"
    }
   ],
   "source": [
    "np.isnat(df.publication_date).sum()"
   ]
  },
  {
   "attachments": {},
   "cell_type": "markdown",
   "metadata": {},
   "source": [
    "Gần hơn 1 nửa dữ liệu bị lỗi hoặc thiếu datetime."
   ]
  },
  {
   "attachments": {},
   "cell_type": "markdown",
   "metadata": {},
   "source": [
    "Cập nhật lại các giá trị numeric"
   ]
  },
  {
   "cell_type": "code",
   "execution_count": 73,
   "metadata": {},
   "outputs": [
    {
     "data": {
      "text/plain": [
       "Index(['id', 'sku', 'price', 'original_price', 'discount_rate',\n",
       "       'rating_average', 'review_count', 'day_ago_created',\n",
       "       'all_time_quantity_sold', 'number_of_page'],\n",
       "      dtype='object')"
      ]
     },
     "execution_count": 73,
     "metadata": {},
     "output_type": "execute_result"
    }
   ],
   "source": [
    "numeric_cols = df.select_dtypes(include=np.number).columns\n",
    "numeric_cols"
   ]
  },
  {
   "cell_type": "code",
   "execution_count": 74,
   "metadata": {},
   "outputs": [
    {
     "data": {
      "text/html": [
       "<div>\n",
       "<style scoped>\n",
       "    .dataframe tbody tr th:only-of-type {\n",
       "        vertical-align: middle;\n",
       "    }\n",
       "\n",
       "    .dataframe tbody tr th {\n",
       "        vertical-align: top;\n",
       "    }\n",
       "\n",
       "    .dataframe thead th {\n",
       "        text-align: right;\n",
       "    }\n",
       "</style>\n",
       "<table border=\"1\" class=\"dataframe\">\n",
       "  <thead>\n",
       "    <tr style=\"text-align: right;\">\n",
       "      <th></th>\n",
       "      <th>id</th>\n",
       "      <th>sku</th>\n",
       "      <th>price</th>\n",
       "      <th>original_price</th>\n",
       "      <th>discount_rate</th>\n",
       "      <th>rating_average</th>\n",
       "      <th>review_count</th>\n",
       "      <th>day_ago_created</th>\n",
       "      <th>all_time_quantity_sold</th>\n",
       "      <th>number_of_page</th>\n",
       "    </tr>\n",
       "  </thead>\n",
       "  <tbody>\n",
       "    <tr>\n",
       "      <th>missing_ratio</th>\n",
       "      <td>0.0</td>\n",
       "      <td>0.000000e+00</td>\n",
       "      <td>0.0</td>\n",
       "      <td>0.0</td>\n",
       "      <td>0.0</td>\n",
       "      <td>0.0</td>\n",
       "      <td>0.0</td>\n",
       "      <td>0.0</td>\n",
       "      <td>0.0</td>\n",
       "      <td>0.000000e+00</td>\n",
       "    </tr>\n",
       "    <tr>\n",
       "      <th>min</th>\n",
       "      <td>148562.0</td>\n",
       "      <td>1.000110e+12</td>\n",
       "      <td>0.0</td>\n",
       "      <td>0.0</td>\n",
       "      <td>0.0</td>\n",
       "      <td>0.0</td>\n",
       "      <td>0.0</td>\n",
       "      <td>0.0</td>\n",
       "      <td>0.0</td>\n",
       "      <td>0.000000e+00</td>\n",
       "    </tr>\n",
       "    <tr>\n",
       "      <th>max</th>\n",
       "      <td>207990688.0</td>\n",
       "      <td>9.999995e+12</td>\n",
       "      <td>6000000.0</td>\n",
       "      <td>6950000.0</td>\n",
       "      <td>91.0</td>\n",
       "      <td>5.0</td>\n",
       "      <td>6306.0</td>\n",
       "      <td>2689.0</td>\n",
       "      <td>32323.0</td>\n",
       "      <td>9.786049e+12</td>\n",
       "    </tr>\n",
       "  </tbody>\n",
       "</table>\n",
       "</div>"
      ],
      "text/plain": [
       "                        id           sku      price  original_price  \\\n",
       "missing_ratio          0.0  0.000000e+00        0.0             0.0   \n",
       "min               148562.0  1.000110e+12        0.0             0.0   \n",
       "max            207990688.0  9.999995e+12  6000000.0       6950000.0   \n",
       "\n",
       "               discount_rate  rating_average  review_count  day_ago_created  \\\n",
       "missing_ratio            0.0             0.0           0.0              0.0   \n",
       "min                      0.0             0.0           0.0              0.0   \n",
       "max                     91.0             5.0        6306.0           2689.0   \n",
       "\n",
       "               all_time_quantity_sold  number_of_page  \n",
       "missing_ratio                     0.0    0.000000e+00  \n",
       "min                               0.0    0.000000e+00  \n",
       "max                           32323.0    9.786049e+12  "
      ]
     },
     "execution_count": 74,
     "metadata": {},
     "output_type": "execute_result"
    }
   ],
   "source": [
    "numeric_profiles = {'missing_ratio': df[numeric_cols].isna().sum() * 100.0/len(df[numeric_cols]),\n",
    "                        'min': df[numeric_cols].min(),\n",
    "                        'max': df[numeric_cols].max()}\n",
    "nume_col_profiles_df = pd.DataFrame(numeric_profiles).transpose()\n",
    "nume_col_profiles_df"
   ]
  },
  {
   "cell_type": "code",
   "execution_count": 75,
   "metadata": {},
   "outputs": [
    {
     "name": "stderr",
     "output_type": "stream",
     "text": [
      "/var/folders/gg/4_1r0r1n6nn2sslng47v_j180000gn/T/ipykernel_53111/2745435651.py:2: FutureWarning: Passing a set as an indexer is deprecated and will raise in a future version. Use a list instead.\n",
      "  cate_profiles = {'missing_ratio': df[cate_cols].isna().sum() * 100.0/len(df[cate_cols]),\n",
      "/var/folders/gg/4_1r0r1n6nn2sslng47v_j180000gn/T/ipykernel_53111/2745435651.py:2: FutureWarning: Passing a set as an indexer is deprecated and will raise in a future version. Use a list instead.\n",
      "  cate_profiles = {'missing_ratio': df[cate_cols].isna().sum() * 100.0/len(df[cate_cols]),\n",
      "/var/folders/gg/4_1r0r1n6nn2sslng47v_j180000gn/T/ipykernel_53111/2745435651.py:4: FutureWarning: Passing a set as an indexer is deprecated and will raise in a future version. Use a list instead.\n",
      "  'num_diff_vals': df[cate_cols].nunique(dropna=True),\n",
      "/var/folders/gg/4_1r0r1n6nn2sslng47v_j180000gn/T/ipykernel_53111/2745435651.py:5: FutureWarning: Passing a set as an indexer is deprecated and will raise in a future version. Use a list instead.\n",
      "  'diff_vals': df[cate_cols].stack(dropna=True).groupby(level=[1]).unique(),\n"
     ]
    },
    {
     "data": {
      "text/html": [
       "<div>\n",
       "<style scoped>\n",
       "    .dataframe tbody tr th:only-of-type {\n",
       "        vertical-align: middle;\n",
       "    }\n",
       "\n",
       "    .dataframe tbody tr th {\n",
       "        vertical-align: top;\n",
       "    }\n",
       "\n",
       "    .dataframe thead th {\n",
       "        text-align: right;\n",
       "    }\n",
       "</style>\n",
       "<table border=\"1\" class=\"dataframe\">\n",
       "  <thead>\n",
       "    <tr style=\"text-align: right;\">\n",
       "      <th></th>\n",
       "      <th>authors</th>\n",
       "      <th>book_cover</th>\n",
       "      <th>categories</th>\n",
       "      <th>dich_gia</th>\n",
       "      <th>dimensions</th>\n",
       "      <th>edition</th>\n",
       "      <th>inventory_type</th>\n",
       "      <th>luu_y</th>\n",
       "      <th>manufacturer</th>\n",
       "      <th>name</th>\n",
       "      <th>productset_group_name</th>\n",
       "      <th>publication_date</th>\n",
       "      <th>publisher_vn</th>\n",
       "      <th>short_url</th>\n",
       "    </tr>\n",
       "  </thead>\n",
       "  <tbody>\n",
       "    <tr>\n",
       "      <th>missing_ratio</th>\n",
       "      <td>48.804125</td>\n",
       "      <td>35.358555</td>\n",
       "      <td>0.0</td>\n",
       "      <td>85.686774</td>\n",
       "      <td>82.744197</td>\n",
       "      <td>96.931105</td>\n",
       "      <td>0.0</td>\n",
       "      <td>99.995858</td>\n",
       "      <td>0.550827</td>\n",
       "      <td>0.0</td>\n",
       "      <td>0.0</td>\n",
       "      <td>61.158394</td>\n",
       "      <td>0.035203</td>\n",
       "      <td>0.0</td>\n",
       "    </tr>\n",
       "    <tr>\n",
       "      <th>num_diff_vals</th>\n",
       "      <td>9094</td>\n",
       "      <td>17</td>\n",
       "      <td>100</td>\n",
       "      <td>3110</td>\n",
       "      <td>1051</td>\n",
       "      <td>364</td>\n",
       "      <td>3</td>\n",
       "      <td>1</td>\n",
       "      <td>168</td>\n",
       "      <td>44424</td>\n",
       "      <td>101</td>\n",
       "      <td>10896</td>\n",
       "      <td>852</td>\n",
       "      <td>48288</td>\n",
       "    </tr>\n",
       "    <tr>\n",
       "      <th>diff_vals</th>\n",
       "      <td>[Trần Đặng Đăng Khoa, Trần Hồng Ngọc, Lê Quang...</td>\n",
       "      <td>[Bìa mềm, Bìa Da, Bìa cứng, Bìa gập, Bìa rời, ...</td>\n",
       "      <td>[Du ký, Light novel, Phê Bình - Lý Luận Văn Họ...</td>\n",
       "      <td>[Khánh Vân, Phan Quang, Nguyễn Thị Bạch Tuyết,...</td>\n",
       "      <td>[13 x 20, 14,5 x 20,5 cm, 13.5 x 20.5 cm, 15 x...</td>\n",
       "      <td>[bìa mềm, BÌA MỀM, Tiếng Việt, Tặng kèm bookma...</td>\n",
       "      <td>[instock, backorder, preorder]</td>\n",
       "      <td>[Sách không còn kèm CD mà thay bằng ứng dụng t...</td>\n",
       "      <td>[NXB Trẻ, Nhà Xuất Bản Lao Động, Nhà Xuất Bản ...</td>\n",
       "      <td>[1111 - Nhật Ký Sáu Vạn Dặm Trên Yên Xe Cà Tàn...</td>\n",
       "      <td>[Nhà Sách Tiki/Sách tiếng Việt/Sách văn học/Du...</td>\n",
       "      <td>[2022-11-10 00:00:00, 2022-11-11 17:44:46, 202...</td>\n",
       "      <td>[NXB Trẻ, Chibooks, Văn Lang, Edibooks, NXB Ph...</td>\n",
       "      <td>[https://tiki.vn/product-p204317934.html?spid=...</td>\n",
       "    </tr>\n",
       "  </tbody>\n",
       "</table>\n",
       "</div>"
      ],
      "text/plain": [
       "                                                         authors  \\\n",
       "missing_ratio                                          48.804125   \n",
       "num_diff_vals                                               9094   \n",
       "diff_vals      [Trần Đặng Đăng Khoa, Trần Hồng Ngọc, Lê Quang...   \n",
       "\n",
       "                                                      book_cover  \\\n",
       "missing_ratio                                          35.358555   \n",
       "num_diff_vals                                                 17   \n",
       "diff_vals      [Bìa mềm, Bìa Da, Bìa cứng, Bìa gập, Bìa rời, ...   \n",
       "\n",
       "                                                      categories  \\\n",
       "missing_ratio                                                0.0   \n",
       "num_diff_vals                                                100   \n",
       "diff_vals      [Du ký, Light novel, Phê Bình - Lý Luận Văn Họ...   \n",
       "\n",
       "                                                        dich_gia  \\\n",
       "missing_ratio                                          85.686774   \n",
       "num_diff_vals                                               3110   \n",
       "diff_vals      [Khánh Vân, Phan Quang, Nguyễn Thị Bạch Tuyết,...   \n",
       "\n",
       "                                                      dimensions  \\\n",
       "missing_ratio                                          82.744197   \n",
       "num_diff_vals                                               1051   \n",
       "diff_vals      [13 x 20, 14,5 x 20,5 cm, 13.5 x 20.5 cm, 15 x...   \n",
       "\n",
       "                                                         edition  \\\n",
       "missing_ratio                                          96.931105   \n",
       "num_diff_vals                                                364   \n",
       "diff_vals      [bìa mềm, BÌA MỀM, Tiếng Việt, Tặng kèm bookma...   \n",
       "\n",
       "                               inventory_type  \\\n",
       "missing_ratio                             0.0   \n",
       "num_diff_vals                               3   \n",
       "diff_vals      [instock, backorder, preorder]   \n",
       "\n",
       "                                                           luu_y  \\\n",
       "missing_ratio                                          99.995858   \n",
       "num_diff_vals                                                  1   \n",
       "diff_vals      [Sách không còn kèm CD mà thay bằng ứng dụng t...   \n",
       "\n",
       "                                                    manufacturer  \\\n",
       "missing_ratio                                           0.550827   \n",
       "num_diff_vals                                                168   \n",
       "diff_vals      [NXB Trẻ, Nhà Xuất Bản Lao Động, Nhà Xuất Bản ...   \n",
       "\n",
       "                                                            name  \\\n",
       "missing_ratio                                                0.0   \n",
       "num_diff_vals                                              44424   \n",
       "diff_vals      [1111 - Nhật Ký Sáu Vạn Dặm Trên Yên Xe Cà Tàn...   \n",
       "\n",
       "                                           productset_group_name  \\\n",
       "missing_ratio                                                0.0   \n",
       "num_diff_vals                                                101   \n",
       "diff_vals      [Nhà Sách Tiki/Sách tiếng Việt/Sách văn học/Du...   \n",
       "\n",
       "                                                publication_date  \\\n",
       "missing_ratio                                          61.158394   \n",
       "num_diff_vals                                              10896   \n",
       "diff_vals      [2022-11-10 00:00:00, 2022-11-11 17:44:46, 202...   \n",
       "\n",
       "                                                    publisher_vn  \\\n",
       "missing_ratio                                           0.035203   \n",
       "num_diff_vals                                                852   \n",
       "diff_vals      [NXB Trẻ, Chibooks, Văn Lang, Edibooks, NXB Ph...   \n",
       "\n",
       "                                                       short_url  \n",
       "missing_ratio                                                0.0  \n",
       "num_diff_vals                                              48288  \n",
       "diff_vals      [https://tiki.vn/product-p204317934.html?spid=...  "
      ]
     },
     "execution_count": 75,
     "metadata": {},
     "output_type": "execute_result"
    }
   ],
   "source": [
    "cate_cols = set(df.columns) - set(numeric_cols)\n",
    "cate_profiles = {'missing_ratio': df[cate_cols].isna().sum() * 100.0/len(df[cate_cols]),\n",
    "               #   'zero_values_ratio':  df[cate_cols].eq(0).sum(axis=1) * 100.0/len(df[cate_cols]),\n",
    "                      'num_diff_vals': df[cate_cols].nunique(dropna=True),\n",
    "                      'diff_vals': df[cate_cols].stack(dropna=True).groupby(level=[1]).unique(),\n",
    "                      }\n",
    "cate_col_profiles_df = pd.DataFrame(cate_profiles).transpose()\n",
    "cate_col_profiles_df"
   ]
  },
  {
   "attachments": {},
   "cell_type": "markdown",
   "metadata": {},
   "source": [
    "Cột `dimension` có gì đó hơi lạ!!!"
   ]
  },
  {
   "cell_type": "code",
   "execution_count": 76,
   "metadata": {},
   "outputs": [
    {
     "data": {
      "text/plain": [
       "{float, str}"
      ]
     },
     "execution_count": 76,
     "metadata": {},
     "output_type": "execute_result"
    }
   ],
   "source": [
    "# df.dimensions\n",
    "dimen_df  = pd.DataFrame(df.dimensions.copy())\n",
    "set(df['dimensions'].apply(lambda x: type(x)))"
   ]
  },
  {
   "attachments": {},
   "cell_type": "markdown",
   "metadata": {},
   "source": [
    "Vừa có `cm` rồi vừa không có."
   ]
  },
  {
   "attachments": {},
   "cell_type": "markdown",
   "metadata": {},
   "source": [
    "Tiến hành tạo các list để chứa các chiều rộng, dài, cao của quyển sách"
   ]
  },
  {
   "cell_type": "code",
   "execution_count": 77,
   "metadata": {},
   "outputs": [],
   "source": [
    "dimen_df[\"regex_dimen\"] = df.dimensions.apply(lambda x: re.findall(r\"[0-9]+[,.*]?[0-9]+|/\", str(x)))"
   ]
  },
  {
   "cell_type": "code",
   "execution_count": 78,
   "metadata": {},
   "outputs": [
    {
     "data": {
      "text/html": [
       "<div>\n",
       "<style scoped>\n",
       "    .dataframe tbody tr th:only-of-type {\n",
       "        vertical-align: middle;\n",
       "    }\n",
       "\n",
       "    .dataframe tbody tr th {\n",
       "        vertical-align: top;\n",
       "    }\n",
       "\n",
       "    .dataframe thead th {\n",
       "        text-align: right;\n",
       "    }\n",
       "</style>\n",
       "<table border=\"1\" class=\"dataframe\">\n",
       "  <thead>\n",
       "    <tr style=\"text-align: right;\">\n",
       "      <th></th>\n",
       "      <th>dimensions</th>\n",
       "      <th>regex_dimen</th>\n",
       "    </tr>\n",
       "  </thead>\n",
       "  <tbody>\n",
       "    <tr>\n",
       "      <th>0</th>\n",
       "      <td>13 x 20</td>\n",
       "      <td>[13, 20]</td>\n",
       "    </tr>\n",
       "    <tr>\n",
       "      <th>1</th>\n",
       "      <td>NaN</td>\n",
       "      <td>[]</td>\n",
       "    </tr>\n",
       "    <tr>\n",
       "      <th>2</th>\n",
       "      <td>14,5 x 20,5 cm</td>\n",
       "      <td>[14,5, 20,5]</td>\n",
       "    </tr>\n",
       "    <tr>\n",
       "      <th>3</th>\n",
       "      <td>NaN</td>\n",
       "      <td>[]</td>\n",
       "    </tr>\n",
       "    <tr>\n",
       "      <th>4</th>\n",
       "      <td>NaN</td>\n",
       "      <td>[]</td>\n",
       "    </tr>\n",
       "    <tr>\n",
       "      <th>...</th>\n",
       "      <td>...</td>\n",
       "      <td>...</td>\n",
       "    </tr>\n",
       "    <tr>\n",
       "      <th>48286</th>\n",
       "      <td>NaN</td>\n",
       "      <td>[]</td>\n",
       "    </tr>\n",
       "    <tr>\n",
       "      <th>48287</th>\n",
       "      <td>NaN</td>\n",
       "      <td>[]</td>\n",
       "    </tr>\n",
       "    <tr>\n",
       "      <th>48288</th>\n",
       "      <td>NaN</td>\n",
       "      <td>[]</td>\n",
       "    </tr>\n",
       "    <tr>\n",
       "      <th>48289</th>\n",
       "      <td>NaN</td>\n",
       "      <td>[]</td>\n",
       "    </tr>\n",
       "    <tr>\n",
       "      <th>48290</th>\n",
       "      <td>NaN</td>\n",
       "      <td>[]</td>\n",
       "    </tr>\n",
       "  </tbody>\n",
       "</table>\n",
       "<p>48291 rows × 2 columns</p>\n",
       "</div>"
      ],
      "text/plain": [
       "           dimensions   regex_dimen\n",
       "0             13 x 20      [13, 20]\n",
       "1                 NaN            []\n",
       "2      14,5 x 20,5 cm  [14,5, 20,5]\n",
       "3                 NaN            []\n",
       "4                 NaN            []\n",
       "...               ...           ...\n",
       "48286             NaN            []\n",
       "48287             NaN            []\n",
       "48288             NaN            []\n",
       "48289             NaN            []\n",
       "48290             NaN            []\n",
       "\n",
       "[48291 rows x 2 columns]"
      ]
     },
     "execution_count": 78,
     "metadata": {},
     "output_type": "execute_result"
    }
   ],
   "source": [
    "dimen_df"
   ]
  },
  {
   "attachments": {},
   "cell_type": "markdown",
   "metadata": {},
   "source": [
    "Thấy có vẻ ổn. Nhưng mà thử lại xem có dòng nào bị lỗi không.<br>\n",
    "Thường sẽ có 3 giá trị trong list `(Chiều cao, Chiều rồng, Chiều dài)`"
   ]
  },
  {
   "cell_type": "code",
   "execution_count": 79,
   "metadata": {},
   "outputs": [
    {
     "data": {
      "text/html": [
       "<div>\n",
       "<style scoped>\n",
       "    .dataframe tbody tr th:only-of-type {\n",
       "        vertical-align: middle;\n",
       "    }\n",
       "\n",
       "    .dataframe tbody tr th {\n",
       "        vertical-align: top;\n",
       "    }\n",
       "\n",
       "    .dataframe thead th {\n",
       "        text-align: right;\n",
       "    }\n",
       "</style>\n",
       "<table border=\"1\" class=\"dataframe\">\n",
       "  <thead>\n",
       "    <tr style=\"text-align: right;\">\n",
       "      <th></th>\n",
       "      <th>dimensions</th>\n",
       "      <th>regex_dimen</th>\n",
       "      <th>pivot</th>\n",
       "    </tr>\n",
       "  </thead>\n",
       "  <tbody>\n",
       "    <tr>\n",
       "      <th>3175</th>\n",
       "      <td>&lt;p&gt;&lt;span style=\"font-size: 11pt; font-family: ...</td>\n",
       "      <td>[11, 13.5, 20, 14720, 10, 11, 14, 2,0, 15, 16,...</td>\n",
       "      <td>1</td>\n",
       "    </tr>\n",
       "    <tr>\n",
       "      <th>4012</th>\n",
       "      <td>&lt;p&gt;&lt;span style=\"font-size: 11pt; font-family: ...</td>\n",
       "      <td>[11, 13.5, 20, 14720, 10, 11, 14, 2,0, 15, 16,...</td>\n",
       "      <td>1</td>\n",
       "    </tr>\n",
       "    <tr>\n",
       "      <th>6485</th>\n",
       "      <td>&lt;p&gt;20.5 x 14.5 x 5.0 cm&lt;/p&gt;</td>\n",
       "      <td>[20.5, 14.5, 5.0, /]</td>\n",
       "      <td>1</td>\n",
       "    </tr>\n",
       "    <tr>\n",
       "      <th>12396</th>\n",
       "      <td>&lt;p class=\"MsoNormal\"&gt;&lt;span lang=\"VI\"&gt;14&lt;/span&gt;...</td>\n",
       "      <td>[14, /, /, 20.5, /, /, /]</td>\n",
       "      <td>1</td>\n",
       "    </tr>\n",
       "    <tr>\n",
       "      <th>12981</th>\n",
       "      <td>&lt;p style=\"box-sizing: border-box; margin: 0px ...</td>\n",
       "      <td>[10, 242424, 13, 16, 24, 2,5, /, 10, 242424, 1...</td>\n",
       "      <td>1</td>\n",
       "    </tr>\n",
       "    <tr>\n",
       "      <th>14766</th>\n",
       "      <td>&lt;p style=\"box-sizing: border-box; margin: 0px ...</td>\n",
       "      <td>[10, 242424, 13, 13, 19, /, 10, 242424, 13, 60...</td>\n",
       "      <td>1</td>\n",
       "    </tr>\n",
       "    <tr>\n",
       "      <th>14779</th>\n",
       "      <td>&lt;p&gt;Kích thước: 16 x 24 x 2 cm. &lt;/p&gt;\\r\\n&lt;p&gt;Trọn...</td>\n",
       "      <td>[16, 24, /, 600, /]</td>\n",
       "      <td>1</td>\n",
       "    </tr>\n",
       "    <tr>\n",
       "      <th>14780</th>\n",
       "      <td>&lt;p&gt;Kích thước: 13 x 19 x 2,5 cm&lt;/p&gt;\\r\\n&lt;p&gt;Trọn...</td>\n",
       "      <td>[13, 19, 2,5, /, 750, /]</td>\n",
       "      <td>1</td>\n",
       "    </tr>\n",
       "    <tr>\n",
       "      <th>14815</th>\n",
       "      <td>&lt;p&gt;&lt;span style=\"color: #242424; font-family: R...</td>\n",
       "      <td>[242424, 13, 18, 25, /, /]</td>\n",
       "      <td>1</td>\n",
       "    </tr>\n",
       "    <tr>\n",
       "      <th>15777</th>\n",
       "      <td>&lt;p&gt;&lt;span&gt;23 x 26 cm&lt;/span&gt;&lt;/p&gt;</td>\n",
       "      <td>[23, 26, /, /]</td>\n",
       "      <td>1</td>\n",
       "    </tr>\n",
       "    <tr>\n",
       "      <th>21699</th>\n",
       "      <td>&lt;p&gt;Kích thước: 16 x 24 x 2,5 cm&lt;/p&gt;\\r\\n&lt;p&gt;Trọn...</td>\n",
       "      <td>[16, 24, 2,5, /, 750, /]</td>\n",
       "      <td>1</td>\n",
       "    </tr>\n",
       "    <tr>\n",
       "      <th>21789</th>\n",
       "      <td>&lt;p&gt;13 x19 cm&lt;/p&gt;\\r\\n&lt;p&gt;13 x19 cm&lt;/p&gt;</td>\n",
       "      <td>[13, 19, /, 13, 19, /]</td>\n",
       "      <td>1</td>\n",
       "    </tr>\n",
       "    <tr>\n",
       "      <th>22261</th>\n",
       "      <td>&lt;p&gt;&lt;span&gt;14.5 x 20.5 cm&lt;/span&gt;&lt;/p&gt;</td>\n",
       "      <td>[14.5, 20.5, /, /]</td>\n",
       "      <td>1</td>\n",
       "    </tr>\n",
       "    <tr>\n",
       "      <th>22558</th>\n",
       "      <td>&lt;p&gt;&lt;span style=\"color: #242424; font-family: R...</td>\n",
       "      <td>[242424, 13, 14, 20.5, /, /]</td>\n",
       "      <td>1</td>\n",
       "    </tr>\n",
       "    <tr>\n",
       "      <th>28905</th>\n",
       "      <td>&lt;p&gt;21 x 28.5 cm&lt;/p&gt;\\r\\n&lt;p&gt;21 x 28.5 cm&lt;/p&gt;</td>\n",
       "      <td>[21, 28.5, /, 21, 28.5, /]</td>\n",
       "      <td>1</td>\n",
       "    </tr>\n",
       "    <tr>\n",
       "      <th>28908</th>\n",
       "      <td>&lt;p&gt;21 x 28.5 cm&lt;/p&gt;\\r\\n&lt;p&gt;21 x 28.5 cm&lt;/p&gt;</td>\n",
       "      <td>[21, 28.5, /, 21, 28.5, /]</td>\n",
       "      <td>1</td>\n",
       "    </tr>\n",
       "    <tr>\n",
       "      <th>39148</th>\n",
       "      <td>&lt;p&gt;15 x 24 cm&lt;/p&gt;\\r\\n&lt;p&gt; &lt;/p&gt;</td>\n",
       "      <td>[15, 24, /, /]</td>\n",
       "      <td>1</td>\n",
       "    </tr>\n",
       "    <tr>\n",
       "      <th>39592</th>\n",
       "      <td>&lt;style type=\"text/css\"&gt;&lt;!--td {border: 1px sol...</td>\n",
       "      <td>[/, /, 14.5, 20.5, 14337, 14, 15, 16, 11, 14.5...</td>\n",
       "      <td>1</td>\n",
       "    </tr>\n",
       "  </tbody>\n",
       "</table>\n",
       "</div>"
      ],
      "text/plain": [
       "                                              dimensions  \\\n",
       "3175   <p><span style=\"font-size: 11pt; font-family: ...   \n",
       "4012   <p><span style=\"font-size: 11pt; font-family: ...   \n",
       "6485                         <p>20.5 x 14.5 x 5.0 cm</p>   \n",
       "12396  <p class=\"MsoNormal\"><span lang=\"VI\">14</span>...   \n",
       "12981  <p style=\"box-sizing: border-box; margin: 0px ...   \n",
       "14766  <p style=\"box-sizing: border-box; margin: 0px ...   \n",
       "14779  <p>Kích thước: 16 x 24 x 2 cm. </p>\\r\\n<p>Trọn...   \n",
       "14780  <p>Kích thước: 13 x 19 x 2,5 cm</p>\\r\\n<p>Trọn...   \n",
       "14815  <p><span style=\"color: #242424; font-family: R...   \n",
       "15777                     <p><span>23 x 26 cm</span></p>   \n",
       "21699  <p>Kích thước: 16 x 24 x 2,5 cm</p>\\r\\n<p>Trọn...   \n",
       "21789               <p>13 x19 cm</p>\\r\\n<p>13 x19 cm</p>   \n",
       "22261                 <p><span>14.5 x 20.5 cm</span></p>   \n",
       "22558  <p><span style=\"color: #242424; font-family: R...   \n",
       "28905         <p>21 x 28.5 cm</p>\\r\\n<p>21 x 28.5 cm</p>   \n",
       "28908         <p>21 x 28.5 cm</p>\\r\\n<p>21 x 28.5 cm</p>   \n",
       "39148                      <p>15 x 24 cm</p>\\r\\n<p> </p>   \n",
       "39592  <style type=\"text/css\"><!--td {border: 1px sol...   \n",
       "\n",
       "                                             regex_dimen pivot  \n",
       "3175   [11, 13.5, 20, 14720, 10, 11, 14, 2,0, 15, 16,...     1  \n",
       "4012   [11, 13.5, 20, 14720, 10, 11, 14, 2,0, 15, 16,...     1  \n",
       "6485                                [20.5, 14.5, 5.0, /]     1  \n",
       "12396                          [14, /, /, 20.5, /, /, /]     1  \n",
       "12981  [10, 242424, 13, 16, 24, 2,5, /, 10, 242424, 1...     1  \n",
       "14766  [10, 242424, 13, 13, 19, /, 10, 242424, 13, 60...     1  \n",
       "14779                                [16, 24, /, 600, /]     1  \n",
       "14780                           [13, 19, 2,5, /, 750, /]     1  \n",
       "14815                         [242424, 13, 18, 25, /, /]     1  \n",
       "15777                                     [23, 26, /, /]     1  \n",
       "21699                           [16, 24, 2,5, /, 750, /]     1  \n",
       "21789                             [13, 19, /, 13, 19, /]     1  \n",
       "22261                                 [14.5, 20.5, /, /]     1  \n",
       "22558                       [242424, 13, 14, 20.5, /, /]     1  \n",
       "28905                         [21, 28.5, /, 21, 28.5, /]     1  \n",
       "28908                         [21, 28.5, /, 21, 28.5, /]     1  \n",
       "39148                                     [15, 24, /, /]     1  \n",
       "39592  [/, /, 14.5, 20.5, 14337, 14, 15, 16, 11, 14.5...     1  "
      ]
     },
     "execution_count": 79,
     "metadata": {},
     "output_type": "execute_result"
    }
   ],
   "source": [
    "dimen_df[\"pivot\"] = dimen_df.regex_dimen.apply(lambda x: \"1\" if len(x) > 3 else \"0\")\n",
    "dimen_df[dimen_df[\"pivot\"] == \"1\"]"
   ]
  },
  {
   "attachments": {},
   "cell_type": "markdown",
   "metadata": {},
   "source": [
    "Có cả link `HTML` vào trong này luôn @@"
   ]
  },
  {
   "cell_type": "code",
   "execution_count": 80,
   "metadata": {},
   "outputs": [],
   "source": [
    "def SplitNumber(dimension):\n",
    "    regex_dimen = []\n",
    "    for d in dimension:\n",
    "        if d.isnumeric():\n",
    "            regex_dimen.append(d)\n",
    "        elif d.strip('0123456789') == '.' or d.strip('0123456789') == ',':\n",
    "            regex_dimen.append(d)\n",
    "    return regex_dimen"
   ]
  },
  {
   "cell_type": "code",
   "execution_count": 81,
   "metadata": {},
   "outputs": [],
   "source": [
    "dimen_df.regex_dimen = dimen_df.regex_dimen.apply(SplitNumber)"
   ]
  },
  {
   "cell_type": "code",
   "execution_count": 82,
   "metadata": {},
   "outputs": [
    {
     "data": {
      "text/plain": [
       "dimensions     <style type=\"text/css\"><!--td {border: 1px sol...\n",
       "regex_dimen      [14.5, 20.5, 14337, 14, 15, 16, 11, 14.5, 20.5]\n",
       "pivot                                                          1\n",
       "Name: 39592, dtype: object"
      ]
     },
     "execution_count": 82,
     "metadata": {},
     "output_type": "execute_result"
    }
   ],
   "source": [
    "dimen_df.iloc[39592]"
   ]
  },
  {
   "cell_type": "code",
   "execution_count": 83,
   "metadata": {},
   "outputs": [],
   "source": [
    "dimen_df[\"count\"] = dimen_df.regex_dimen.apply(lambda x: len(x) if x != None else 0)"
   ]
  },
  {
   "cell_type": "code",
   "execution_count": 84,
   "metadata": {},
   "outputs": [
    {
     "data": {
      "text/plain": [
       "0     39975\n",
       "2      8152\n",
       "3       143\n",
       "1         9\n",
       "4         7\n",
       "13        2\n",
       "9         2\n",
       "10        1\n",
       "Name: count, dtype: int64"
      ]
     },
     "execution_count": 84,
     "metadata": {},
     "output_type": "execute_result"
    }
   ],
   "source": [
    "dimen_df[\"count\"].value_counts()"
   ]
  },
  {
   "cell_type": "code",
   "execution_count": 85,
   "metadata": {},
   "outputs": [
    {
     "data": {
      "text/plain": [
       "<AxesSubplot:>"
      ]
     },
     "execution_count": 85,
     "metadata": {},
     "output_type": "execute_result"
    },
    {
     "data": {
      "image/png": "[encoded data removed]",
      "text/plain": [
       "<Figure size 640x480 with 1 Axes>"
      ]
     },
     "metadata": {},
     "output_type": "display_data"
    }
   ],
   "source": [
    "dimen_df[\"count\"].value_counts().sort_index().plot.bar(rot = 0)"
   ]
  },
  {
   "cell_type": "code",
   "execution_count": 86,
   "metadata": {},
   "outputs": [],
   "source": [
    "df.dimensions = dimen_df.regex_dimen"
   ]
  },
  {
   "attachments": {},
   "cell_type": "markdown",
   "metadata": {},
   "source": [
    "Xử lý dimensions vẫn chưa toàn diện, vì có các số gây nhiễu, khó mà loại bỏ."
   ]
  },
  {
   "attachments": {},
   "cell_type": "markdown",
   "metadata": {},
   "source": [
    "**Save dữ liệu đã xử lý để phục vụ cho việc xây dựng mô hình**"
   ]
  },
  {
   "cell_type": "code",
   "execution_count": 87,
   "metadata": {},
   "outputs": [],
   "source": [
    "import os\n",
    "# os.mkdir('./Dataset/features')\n",
    "# df.to_csv('./Dataset/features/processed.csv',index=False, encoding='utf-8-sig')"
   ]
  }
 ],
 "metadata": {
  "kernelspec": {
   "display_name": "Python 3",
   "language": "python",
   "name": "python3"
  },
  "language_info": {
   "codemirror_mode": {
    "name": "ipython",
    "version": 3
   },
   "file_extension": ".py",
   "mimetype": "text/x-python",
   "name": "python",
   "nbconvert_exporter": "python",
   "pygments_lexer": "ipython3",
   "version": "3.8.15"
  },
  "vscode": {
   "interpreter": {
    "hash": "5f80c455da1dc101d9f66a16923589bd6dbb3429340af280f1efed2f72025e97"
   }
  }
 },
 "nbformat": 4,
 "nbformat_minor": 2
}
