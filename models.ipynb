{
 "cells": [
  {
   "attachments": {},
   "cell_type": "markdown",
   "metadata": {},
   "source": [
    "# **PHẦN 2: MÔ HÌNH HOÁ DỮ LIỆU**"
   ]
  },
  {
   "attachments": {},
   "cell_type": "markdown",
   "metadata": {},
   "source": [
    "## **1. Import các packages cần thiết**"
   ]
  },
  {
   "cell_type": "code",
   "execution_count": 27,
   "metadata": {},
   "outputs": [],
   "source": [
    "import pandas as pd\n",
    "import numpy as np\n",
    "import matplotlib.pyplot as plt\n",
    "%matplotlib inline\n",
    "import seaborn as sns\n",
    "import datetime \n",
    "import os\n",
    "from sklearn.preprocessing import LabelEncoder\n",
    "from sklearn.model_selection import train_test_split\n",
    "from sklearn.preprocessing import OneHotEncoder, StandardScaler, MinMaxScaler\n",
    "from sklearn.impute import SimpleImputer, KNNImputer\n",
    "from sklearn.pipeline import Pipeline\n",
    "from sklearn.compose import ColumnTransformer, make_column_transformer\n",
    "from sklearn.preprocessing import FunctionTransformer\n",
    "\n",
    "# from keras.layers import Dense\n",
    "# from keras.models import Sequential\n",
    "# from keras.optimizers import SGD\n",
    "from sklearn.linear_model import LinearRegression\n",
    "from sklearn.neural_network import MLPRegressor\n",
    "from sklearn.ensemble import RandomForestRegressor\n",
    "from sklearn.ensemble import GradientBoostingRegressor\n",
    "from sklearn.compose import TransformedTargetRegressor\n",
    "from sklearn.model_selection import cross_val_score, RepeatedStratifiedKFold, cross_validate, KFold\n",
    "from sklearn.model_selection import RandomizedSearchCV\n",
    "from sklearn.metrics import mean_squared_error, mean_absolute_error\n",
    "\n",
    "pd.set_option('display.max_columns', None)\n",
    "import warnings \n",
    "warnings.filterwarnings(\"ignore\")"
   ]
  },
  {
   "attachments": {},
   "cell_type": "markdown",
   "metadata": {},
   "source": [
    "## **2. Đọc dữ liệu từ file csv**"
   ]
  },
  {
   "cell_type": "code",
   "execution_count": 28,
   "metadata": {},
   "outputs": [
    {
     "data": {
      "text/plain": [
       "(48291, 24)"
      ]
     },
     "execution_count": 28,
     "metadata": {},
     "output_type": "execute_result"
    }
   ],
   "source": [
    "df = pd.read_csv('./features/processed.csv')\n",
    "df.shape"
   ]
  },
  {
   "cell_type": "code",
   "execution_count": 29,
   "metadata": {},
   "outputs": [
    {
     "data": {
      "text/html": [
       "<div>\n",
       "<style scoped>\n",
       "    .dataframe tbody tr th:only-of-type {\n",
       "        vertical-align: middle;\n",
       "    }\n",
       "\n",
       "    .dataframe tbody tr th {\n",
       "        vertical-align: top;\n",
       "    }\n",
       "\n",
       "    .dataframe thead th {\n",
       "        text-align: right;\n",
       "    }\n",
       "</style>\n",
       "<table border=\"1\" class=\"dataframe\">\n",
       "  <thead>\n",
       "    <tr style=\"text-align: right;\">\n",
       "      <th></th>\n",
       "      <th>id</th>\n",
       "      <th>sku</th>\n",
       "      <th>name</th>\n",
       "      <th>short_url</th>\n",
       "      <th>book_cover</th>\n",
       "      <th>price</th>\n",
       "      <th>original_price</th>\n",
       "      <th>discount_rate</th>\n",
       "      <th>rating_average</th>\n",
       "      <th>review_count</th>\n",
       "      <th>inventory_type</th>\n",
       "      <th>productset_group_name</th>\n",
       "      <th>day_ago_created</th>\n",
       "      <th>categories</th>\n",
       "      <th>all_time_quantity_sold</th>\n",
       "      <th>authors</th>\n",
       "      <th>publisher_vn</th>\n",
       "      <th>publication_date</th>\n",
       "      <th>dimensions</th>\n",
       "      <th>manufacturer</th>\n",
       "      <th>number_of_page</th>\n",
       "      <th>dich_gia</th>\n",
       "      <th>edition</th>\n",
       "      <th>luu_y</th>\n",
       "    </tr>\n",
       "  </thead>\n",
       "  <tbody>\n",
       "    <tr>\n",
       "      <th>17691</th>\n",
       "      <td>169818065</td>\n",
       "      <td>8339871612598</td>\n",
       "      <td>Cuốn Sách Tô Màu Đầu Tiên Của Tớ - Động Vật</td>\n",
       "      <td>https://tiki.vn/product-p169818065.html?spid=1...</td>\n",
       "      <td>NaN</td>\n",
       "      <td>21000</td>\n",
       "      <td>25000</td>\n",
       "      <td>16</td>\n",
       "      <td>0.0</td>\n",
       "      <td>0</td>\n",
       "      <td>backorder</td>\n",
       "      <td>Nhà Sách Tiki/Sách tiếng Việt/Sách thiếu nhi /...</td>\n",
       "      <td>263</td>\n",
       "      <td>Tô màu - Luyện chữ</td>\n",
       "      <td>5</td>\n",
       "      <td>NaN</td>\n",
       "      <td>Đinh Tị</td>\n",
       "      <td>NaN</td>\n",
       "      <td>NaN</td>\n",
       "      <td>oem</td>\n",
       "      <td>0</td>\n",
       "      <td>NaN</td>\n",
       "      <td>NaN</td>\n",
       "      <td>NaN</td>\n",
       "    </tr>\n",
       "    <tr>\n",
       "      <th>14037</th>\n",
       "      <td>201538280</td>\n",
       "      <td>8076239202376</td>\n",
       "      <td>Combo 2Q Phải Đọc Dành Cho Nhà Lãnh Đạo :  Lãn...</td>\n",
       "      <td>https://tiki.vn/product-p201538280.html?spid=2...</td>\n",
       "      <td>Bìa mềm</td>\n",
       "      <td>184000</td>\n",
       "      <td>230000</td>\n",
       "      <td>20</td>\n",
       "      <td>0.0</td>\n",
       "      <td>0</td>\n",
       "      <td>backorder</td>\n",
       "      <td>Nhà Sách Tiki/Sách tiếng Việt/Sách kinh tế/Sác...</td>\n",
       "      <td>46</td>\n",
       "      <td>Sách quản trị, lãnh đạo</td>\n",
       "      <td>0</td>\n",
       "      <td>Robin Sharma, Noel Weyrich, Keith Ferrrazzi</td>\n",
       "      <td>NXB Trẻ</td>\n",
       "      <td>NaN</td>\n",
       "      <td>NaN</td>\n",
       "      <td>Nhiều Nhà Xuất Bản</td>\n",
       "      <td>0</td>\n",
       "      <td>NaN</td>\n",
       "      <td>NaN</td>\n",
       "      <td>NaN</td>\n",
       "    </tr>\n",
       "    <tr>\n",
       "      <th>47014</th>\n",
       "      <td>195928314</td>\n",
       "      <td>8504659912750</td>\n",
       "      <td>Sách: Tuổi dậy thì có điều gì kỳ diệu</td>\n",
       "      <td>https://tiki.vn/product-p195928314.html?spid=1...</td>\n",
       "      <td>NaN</td>\n",
       "      <td>79000</td>\n",
       "      <td>79000</td>\n",
       "      <td>0</td>\n",
       "      <td>0.0</td>\n",
       "      <td>0</td>\n",
       "      <td>backorder</td>\n",
       "      <td>Nhà Sách Tiki/Sách tiếng Việt/Sách Tâm lý - Gi...</td>\n",
       "      <td>100</td>\n",
       "      <td>Sách Tâm Lý Tuổi Teen</td>\n",
       "      <td>0</td>\n",
       "      <td>Robert Steven Kaplan</td>\n",
       "      <td>Bách Việt</td>\n",
       "      <td>NaN</td>\n",
       "      <td>Sách điện tử Thái Hà</td>\n",
       "      <td>NaN</td>\n",
       "      <td>NaN</td>\n",
       "      <td>Nhà Xuất Bản Lao Động</td>\n",
       "      <td>0</td>\n",
       "      <td>NaN</td>\n",
       "      <td>NaN</td>\n",
       "      <td>NaN</td>\n",
       "    </tr>\n",
       "    <tr>\n",
       "      <th>3886</th>\n",
       "      <td>206537493</td>\n",
       "      <td>7541195937115</td>\n",
       "      <td>Celine Dion - Câu Chuyện Đời Tôi, Giấc Mơ Tron...</td>\n",
       "      <td>https://tiki.vn/product-p206537493.html?spid=2...</td>\n",
       "      <td>Bìa mềm</td>\n",
       "      <td>255000</td>\n",
       "      <td>255000</td>\n",
       "      <td>0</td>\n",
       "      <td>0.0</td>\n",
       "      <td>0</td>\n",
       "      <td>backorder</td>\n",
       "      <td>Nhà Sách Tiki/Sách tiếng Việt/Sách văn học/Tiể...</td>\n",
       "      <td>11</td>\n",
       "      <td>Tiểu sử - Hồi ký</td>\n",
       "      <td>0</td>\n",
       "      <td>NaN</td>\n",
       "      <td>Công ty Cổ Phần Văn Hóa và Giáo Dục Tân Việt</td>\n",
       "      <td>2022-11-21 21:12:17</td>\n",
       "      <td>NaN</td>\n",
       "      <td>Nhà Xuất Bản Hồng Đức</td>\n",
       "      <td>412</td>\n",
       "      <td>NaN</td>\n",
       "      <td>NaN</td>\n",
       "      <td>NaN</td>\n",
       "    </tr>\n",
       "    <tr>\n",
       "      <th>25958</th>\n",
       "      <td>202183226</td>\n",
       "      <td>6721389304050</td>\n",
       "      <td>Phương Pháp Dạy Con Không Đòn Roi (2022)</td>\n",
       "      <td>https://tiki.vn/product-p202183226.html?spid=2...</td>\n",
       "      <td>NaN</td>\n",
       "      <td>109850</td>\n",
       "      <td>169000</td>\n",
       "      <td>35</td>\n",
       "      <td>0.0</td>\n",
       "      <td>0</td>\n",
       "      <td>backorder</td>\n",
       "      <td>Nhà Sách Tiki/Sách tiếng Việt/Sách Bà mẹ - Em ...</td>\n",
       "      <td>43</td>\n",
       "      <td>Sách Làm Cha Mẹ</td>\n",
       "      <td>1</td>\n",
       "      <td>NaN</td>\n",
       "      <td>1980 Books</td>\n",
       "      <td>NaN</td>\n",
       "      <td>NaN</td>\n",
       "      <td>Nhà Xuất Bản Lao Động</td>\n",
       "      <td>0</td>\n",
       "      <td>NaN</td>\n",
       "      <td>NaN</td>\n",
       "      <td>NaN</td>\n",
       "    </tr>\n",
       "  </tbody>\n",
       "</table>\n",
       "</div>"
      ],
      "text/plain": [
       "              id            sku  \\\n",
       "17691  169818065  8339871612598   \n",
       "14037  201538280  8076239202376   \n",
       "47014  195928314  8504659912750   \n",
       "3886   206537493  7541195937115   \n",
       "25958  202183226  6721389304050   \n",
       "\n",
       "                                                    name  \\\n",
       "17691        Cuốn Sách Tô Màu Đầu Tiên Của Tớ - Động Vật   \n",
       "14037  Combo 2Q Phải Đọc Dành Cho Nhà Lãnh Đạo :  Lãn...   \n",
       "47014              Sách: Tuổi dậy thì có điều gì kỳ diệu   \n",
       "3886   Celine Dion - Câu Chuyện Đời Tôi, Giấc Mơ Tron...   \n",
       "25958           Phương Pháp Dạy Con Không Đòn Roi (2022)   \n",
       "\n",
       "                                               short_url book_cover   price  \\\n",
       "17691  https://tiki.vn/product-p169818065.html?spid=1...        NaN   21000   \n",
       "14037  https://tiki.vn/product-p201538280.html?spid=2...    Bìa mềm  184000   \n",
       "47014  https://tiki.vn/product-p195928314.html?spid=1...        NaN   79000   \n",
       "3886   https://tiki.vn/product-p206537493.html?spid=2...    Bìa mềm  255000   \n",
       "25958  https://tiki.vn/product-p202183226.html?spid=2...        NaN  109850   \n",
       "\n",
       "       original_price  discount_rate  rating_average  review_count  \\\n",
       "17691           25000             16             0.0             0   \n",
       "14037          230000             20             0.0             0   \n",
       "47014           79000              0             0.0             0   \n",
       "3886           255000              0             0.0             0   \n",
       "25958          169000             35             0.0             0   \n",
       "\n",
       "      inventory_type                              productset_group_name  \\\n",
       "17691      backorder  Nhà Sách Tiki/Sách tiếng Việt/Sách thiếu nhi /...   \n",
       "14037      backorder  Nhà Sách Tiki/Sách tiếng Việt/Sách kinh tế/Sác...   \n",
       "47014      backorder  Nhà Sách Tiki/Sách tiếng Việt/Sách Tâm lý - Gi...   \n",
       "3886       backorder  Nhà Sách Tiki/Sách tiếng Việt/Sách văn học/Tiể...   \n",
       "25958      backorder  Nhà Sách Tiki/Sách tiếng Việt/Sách Bà mẹ - Em ...   \n",
       "\n",
       "       day_ago_created               categories  all_time_quantity_sold  \\\n",
       "17691              263     Tô màu - Luyện chữ                         5   \n",
       "14037               46  Sách quản trị, lãnh đạo                       0   \n",
       "47014              100    Sách Tâm Lý Tuổi Teen                       0   \n",
       "3886                11         Tiểu sử - Hồi ký                       0   \n",
       "25958               43          Sách Làm Cha Mẹ                       1   \n",
       "\n",
       "                                            authors  \\\n",
       "17691                                           NaN   \n",
       "14037   Robin Sharma, Noel Weyrich, Keith Ferrrazzi   \n",
       "47014                                           NaN   \n",
       "3886                                            NaN   \n",
       "25958                                           NaN   \n",
       "\n",
       "                                       publisher_vn     publication_date  \\\n",
       "17691                                       Đinh Tị                  NaN   \n",
       "14037                                       NXB Trẻ                  NaN   \n",
       "47014                          Sách điện tử Thái Hà                  NaN   \n",
       "3886   Công ty Cổ Phần Văn Hóa và Giáo Dục Tân Việt  2022-11-21 21:12:17   \n",
       "25958                                    1980 Books                  NaN   \n",
       "\n",
       "      dimensions           manufacturer  number_of_page dich_gia edition luu_y  \n",
       "17691        NaN                    oem               0      NaN     NaN   NaN  \n",
       "14037        NaN     Nhiều Nhà Xuất Bản               0      NaN     NaN   NaN  \n",
       "47014        NaN  Nhà Xuất Bản Lao Động               0      NaN     NaN   NaN  \n",
       "3886         NaN  Nhà Xuất Bản Hồng Đức             412      NaN     NaN   NaN  \n",
       "25958        NaN  Nhà Xuất Bản Lao Động               0      NaN     NaN   NaN  "
      ]
     },
     "execution_count": 29,
     "metadata": {},
     "output_type": "execute_result"
    }
   ],
   "source": [
    "df.sample(5)"
   ]
  },
  {
   "attachments": {},
   "cell_type": "markdown",
   "metadata": {},
   "source": [
    "## **3. Xác định câu hỏi cần trả lời:**\n",
    "**Bài toán dự đoán `discount_rate` dựa trên các đặc trưng của sản phẩm.**\n",
    "- Đây là một bài toán hồi quy.\n",
    "- Input là các đặc trưng ảnh hưởng đến tỉ lệ giảm giá của một mặt hàng sách.\n",
    "- Output là tỉ lệ giảm giá của sách. "
   ]
  },
  {
   "attachments": {},
   "cell_type": "markdown",
   "metadata": {},
   "source": [
    "**Trả lời được câu hỏi này sẽ giúp cho cả khách hàng và nhà bán có những lợi ích sau:**\n",
    "- Nhà bán quyết định mức sale phù hợp với thị trường, từ đó bán được nhiều sản phẩm hơn.\n",
    "- Người mua chọn được sản phẩm giá rẻ, có mức sale cao, dựa vào việc xem xét qua các đặc trưng khác."
   ]
  },
  {
   "attachments": {},
   "cell_type": "markdown",
   "metadata": {},
   "source": [
    "## **4. Phân tích, xử lý và chuẩn bị dữ liệu cho bước mô hình hoá**"
   ]
  },
  {
   "attachments": {},
   "cell_type": "markdown",
   "metadata": {},
   "source": [
    "Các cột có kiểu dữ liệu là numeric "
   ]
  },
  {
   "cell_type": "code",
   "execution_count": 30,
   "metadata": {},
   "outputs": [
    {
     "data": {
      "text/plain": [
       "Index(['id', 'sku', 'price', 'original_price', 'discount_rate',\n",
       "       'rating_average', 'review_count', 'day_ago_created',\n",
       "       'all_time_quantity_sold', 'number_of_page'],\n",
       "      dtype='object')"
      ]
     },
     "execution_count": 30,
     "metadata": {},
     "output_type": "execute_result"
    }
   ],
   "source": [
    "numeric_cols = df.select_dtypes(include=np.number).columns\n",
    "numeric_cols"
   ]
  },
  {
   "cell_type": "code",
   "execution_count": 31,
   "metadata": {},
   "outputs": [
    {
     "data": {
      "text/html": [
       "<div>\n",
       "<style scoped>\n",
       "    .dataframe tbody tr th:only-of-type {\n",
       "        vertical-align: middle;\n",
       "    }\n",
       "\n",
       "    .dataframe tbody tr th {\n",
       "        vertical-align: top;\n",
       "    }\n",
       "\n",
       "    .dataframe thead th {\n",
       "        text-align: right;\n",
       "    }\n",
       "</style>\n",
       "<table border=\"1\" class=\"dataframe\">\n",
       "  <thead>\n",
       "    <tr style=\"text-align: right;\">\n",
       "      <th></th>\n",
       "      <th>id</th>\n",
       "      <th>sku</th>\n",
       "      <th>price</th>\n",
       "      <th>original_price</th>\n",
       "      <th>discount_rate</th>\n",
       "      <th>rating_average</th>\n",
       "      <th>review_count</th>\n",
       "      <th>day_ago_created</th>\n",
       "      <th>all_time_quantity_sold</th>\n",
       "      <th>number_of_page</th>\n",
       "    </tr>\n",
       "  </thead>\n",
       "  <tbody>\n",
       "    <tr>\n",
       "      <th>missing_ratio</th>\n",
       "      <td>0.0</td>\n",
       "      <td>0.000000e+00</td>\n",
       "      <td>0.0</td>\n",
       "      <td>0.0</td>\n",
       "      <td>0.0</td>\n",
       "      <td>0.0</td>\n",
       "      <td>0.0</td>\n",
       "      <td>0.0</td>\n",
       "      <td>0.0</td>\n",
       "      <td>0.000000e+00</td>\n",
       "    </tr>\n",
       "    <tr>\n",
       "      <th>min</th>\n",
       "      <td>148562.0</td>\n",
       "      <td>1.000110e+12</td>\n",
       "      <td>0.0</td>\n",
       "      <td>0.0</td>\n",
       "      <td>0.0</td>\n",
       "      <td>0.0</td>\n",
       "      <td>0.0</td>\n",
       "      <td>0.0</td>\n",
       "      <td>0.0</td>\n",
       "      <td>0.000000e+00</td>\n",
       "    </tr>\n",
       "    <tr>\n",
       "      <th>max</th>\n",
       "      <td>207990688.0</td>\n",
       "      <td>9.999995e+12</td>\n",
       "      <td>6000000.0</td>\n",
       "      <td>6950000.0</td>\n",
       "      <td>91.0</td>\n",
       "      <td>5.0</td>\n",
       "      <td>6306.0</td>\n",
       "      <td>2689.0</td>\n",
       "      <td>32323.0</td>\n",
       "      <td>9.786049e+12</td>\n",
       "    </tr>\n",
       "  </tbody>\n",
       "</table>\n",
       "</div>"
      ],
      "text/plain": [
       "                        id           sku      price  original_price  \\\n",
       "missing_ratio          0.0  0.000000e+00        0.0             0.0   \n",
       "min               148562.0  1.000110e+12        0.0             0.0   \n",
       "max            207990688.0  9.999995e+12  6000000.0       6950000.0   \n",
       "\n",
       "               discount_rate  rating_average  review_count  day_ago_created  \\\n",
       "missing_ratio            0.0             0.0           0.0              0.0   \n",
       "min                      0.0             0.0           0.0              0.0   \n",
       "max                     91.0             5.0        6306.0           2689.0   \n",
       "\n",
       "               all_time_quantity_sold  number_of_page  \n",
       "missing_ratio                     0.0    0.000000e+00  \n",
       "min                               0.0    0.000000e+00  \n",
       "max                           32323.0    9.786049e+12  "
      ]
     },
     "execution_count": 31,
     "metadata": {},
     "output_type": "execute_result"
    }
   ],
   "source": [
    "numeric_profiles = {'missing_ratio': df[numeric_cols].isna().sum() * 100.0/len(df[numeric_cols]),\n",
    "                        'min': df[numeric_cols].min(),\n",
    "                        'max': df[numeric_cols].max()}\n",
    "nume_col_profiles_df = pd.DataFrame(numeric_profiles).transpose()\n",
    "nume_col_profiles_df"
   ]
  },
  {
   "cell_type": "code",
   "execution_count": 32,
   "metadata": {},
   "outputs": [
    {
     "data": {
      "image/png": "[encoded data removed]",
      "text/plain": [
       "<Figure size 1200x800 with 2 Axes>"
      ]
     },
     "metadata": {},
     "output_type": "display_data"
    }
   ],
   "source": [
    "plt.figure(figsize=(12,8))\n",
    "sns.heatmap(df[set(numeric_cols) - {'id', 'sku'}].corr(), annot=True, fmt='.2f')\n",
    "plt.xticks(rotation=30)\n",
    "plt.title('Tương quan giữa các đặc trưng')\n",
    "plt.show()"
   ]
  },
  {
   "cell_type": "code",
   "execution_count": 33,
   "metadata": {},
   "outputs": [
    {
     "data": {
      "text/html": [
       "<div>\n",
       "<style scoped>\n",
       "    .dataframe tbody tr th:only-of-type {\n",
       "        vertical-align: middle;\n",
       "    }\n",
       "\n",
       "    .dataframe tbody tr th {\n",
       "        vertical-align: top;\n",
       "    }\n",
       "\n",
       "    .dataframe thead th {\n",
       "        text-align: right;\n",
       "    }\n",
       "</style>\n",
       "<table border=\"1\" class=\"dataframe\">\n",
       "  <thead>\n",
       "    <tr style=\"text-align: right;\">\n",
       "      <th></th>\n",
       "      <th>authors</th>\n",
       "      <th>book_cover</th>\n",
       "      <th>categories</th>\n",
       "      <th>dich_gia</th>\n",
       "      <th>dimensions</th>\n",
       "      <th>edition</th>\n",
       "      <th>inventory_type</th>\n",
       "      <th>luu_y</th>\n",
       "      <th>manufacturer</th>\n",
       "      <th>name</th>\n",
       "      <th>productset_group_name</th>\n",
       "      <th>publication_date</th>\n",
       "      <th>publisher_vn</th>\n",
       "      <th>short_url</th>\n",
       "    </tr>\n",
       "  </thead>\n",
       "  <tbody>\n",
       "    <tr>\n",
       "      <th>missing_ratio</th>\n",
       "      <td>48.804125</td>\n",
       "      <td>35.358555</td>\n",
       "      <td>0.0</td>\n",
       "      <td>85.686774</td>\n",
       "      <td>82.744197</td>\n",
       "      <td>96.931105</td>\n",
       "      <td>0.0</td>\n",
       "      <td>99.995858</td>\n",
       "      <td>0.550827</td>\n",
       "      <td>0.0</td>\n",
       "      <td>0.0</td>\n",
       "      <td>61.158394</td>\n",
       "      <td>0.035203</td>\n",
       "      <td>0.0</td>\n",
       "    </tr>\n",
       "    <tr>\n",
       "      <th>num_diff_vals</th>\n",
       "      <td>9094</td>\n",
       "      <td>17</td>\n",
       "      <td>100</td>\n",
       "      <td>3110</td>\n",
       "      <td>1051</td>\n",
       "      <td>364</td>\n",
       "      <td>3</td>\n",
       "      <td>1</td>\n",
       "      <td>168</td>\n",
       "      <td>44424</td>\n",
       "      <td>101</td>\n",
       "      <td>10896</td>\n",
       "      <td>852</td>\n",
       "      <td>48288</td>\n",
       "    </tr>\n",
       "    <tr>\n",
       "      <th>diff_vals</th>\n",
       "      <td>[Trần Đặng Đăng Khoa, Trần Hồng Ngọc, Lê Quang...</td>\n",
       "      <td>[Bìa mềm, Bìa Da, Bìa cứng, Bìa gập, Bìa rời, ...</td>\n",
       "      <td>[Du ký, Light novel, Phê Bình - Lý Luận Văn Họ...</td>\n",
       "      <td>[Khánh Vân, Phan Quang, Nguyễn Thị Bạch Tuyết,...</td>\n",
       "      <td>[13 x 20, 14,5 x 20,5 cm, 13.5 x 20.5 cm, 15 x...</td>\n",
       "      <td>[bìa mềm, BÌA MỀM, Tiếng Việt, Tặng kèm bookma...</td>\n",
       "      <td>[instock, backorder, preorder]</td>\n",
       "      <td>[Sách không còn kèm CD mà thay bằng ứng dụng t...</td>\n",
       "      <td>[NXB Trẻ, Nhà Xuất Bản Lao Động, Nhà Xuất Bản ...</td>\n",
       "      <td>[1111 - Nhật Ký Sáu Vạn Dặm Trên Yên Xe Cà Tàn...</td>\n",
       "      <td>[Nhà Sách Tiki/Sách tiếng Việt/Sách văn học/Du...</td>\n",
       "      <td>[2022-11-10 00:00:00, 2022-11-11 17:44:46, 202...</td>\n",
       "      <td>[NXB Trẻ, Chibooks, Văn Lang, Edibooks, NXB Ph...</td>\n",
       "      <td>[https://tiki.vn/product-p204317934.html?spid=...</td>\n",
       "    </tr>\n",
       "  </tbody>\n",
       "</table>\n",
       "</div>"
      ],
      "text/plain": [
       "                                                         authors  \\\n",
       "missing_ratio                                          48.804125   \n",
       "num_diff_vals                                               9094   \n",
       "diff_vals      [Trần Đặng Đăng Khoa, Trần Hồng Ngọc, Lê Quang...   \n",
       "\n",
       "                                                      book_cover  \\\n",
       "missing_ratio                                          35.358555   \n",
       "num_diff_vals                                                 17   \n",
       "diff_vals      [Bìa mềm, Bìa Da, Bìa cứng, Bìa gập, Bìa rời, ...   \n",
       "\n",
       "                                                      categories  \\\n",
       "missing_ratio                                                0.0   \n",
       "num_diff_vals                                                100   \n",
       "diff_vals      [Du ký, Light novel, Phê Bình - Lý Luận Văn Họ...   \n",
       "\n",
       "                                                        dich_gia  \\\n",
       "missing_ratio                                          85.686774   \n",
       "num_diff_vals                                               3110   \n",
       "diff_vals      [Khánh Vân, Phan Quang, Nguyễn Thị Bạch Tuyết,...   \n",
       "\n",
       "                                                      dimensions  \\\n",
       "missing_ratio                                          82.744197   \n",
       "num_diff_vals                                               1051   \n",
       "diff_vals      [13 x 20, 14,5 x 20,5 cm, 13.5 x 20.5 cm, 15 x...   \n",
       "\n",
       "                                                         edition  \\\n",
       "missing_ratio                                          96.931105   \n",
       "num_diff_vals                                                364   \n",
       "diff_vals      [bìa mềm, BÌA MỀM, Tiếng Việt, Tặng kèm bookma...   \n",
       "\n",
       "                               inventory_type  \\\n",
       "missing_ratio                             0.0   \n",
       "num_diff_vals                               3   \n",
       "diff_vals      [instock, backorder, preorder]   \n",
       "\n",
       "                                                           luu_y  \\\n",
       "missing_ratio                                          99.995858   \n",
       "num_diff_vals                                                  1   \n",
       "diff_vals      [Sách không còn kèm CD mà thay bằng ứng dụng t...   \n",
       "\n",
       "                                                    manufacturer  \\\n",
       "missing_ratio                                           0.550827   \n",
       "num_diff_vals                                                168   \n",
       "diff_vals      [NXB Trẻ, Nhà Xuất Bản Lao Động, Nhà Xuất Bản ...   \n",
       "\n",
       "                                                            name  \\\n",
       "missing_ratio                                                0.0   \n",
       "num_diff_vals                                              44424   \n",
       "diff_vals      [1111 - Nhật Ký Sáu Vạn Dặm Trên Yên Xe Cà Tàn...   \n",
       "\n",
       "                                           productset_group_name  \\\n",
       "missing_ratio                                                0.0   \n",
       "num_diff_vals                                                101   \n",
       "diff_vals      [Nhà Sách Tiki/Sách tiếng Việt/Sách văn học/Du...   \n",
       "\n",
       "                                                publication_date  \\\n",
       "missing_ratio                                          61.158394   \n",
       "num_diff_vals                                              10896   \n",
       "diff_vals      [2022-11-10 00:00:00, 2022-11-11 17:44:46, 202...   \n",
       "\n",
       "                                                    publisher_vn  \\\n",
       "missing_ratio                                           0.035203   \n",
       "num_diff_vals                                                852   \n",
       "diff_vals      [NXB Trẻ, Chibooks, Văn Lang, Edibooks, NXB Ph...   \n",
       "\n",
       "                                                       short_url  \n",
       "missing_ratio                                                0.0  \n",
       "num_diff_vals                                              48288  \n",
       "diff_vals      [https://tiki.vn/product-p204317934.html?spid=...  "
      ]
     },
     "execution_count": 33,
     "metadata": {},
     "output_type": "execute_result"
    }
   ],
   "source": [
    "cate_cols = set(df.columns) - set(numeric_cols)\n",
    "cate_profiles = {'missing_ratio': df[cate_cols].isna().sum() * 100.0/len(df[cate_cols]),\n",
    "               #   'zero_values_ratio':  df[cate_cols].eq(0).sum(axis=1) * 100.0/len(df[cate_cols]),\n",
    "                      'num_diff_vals': df[cate_cols].nunique(dropna=True),\n",
    "                      'diff_vals': df[cate_cols].stack(dropna=True).groupby(level=[1]).unique(),\n",
    "                      }\n",
    "cate_col_profiles_df = pd.DataFrame(cate_profiles).transpose()\n",
    "cate_col_profiles_df"
   ]
  },
  {
   "cell_type": "code",
   "execution_count": 34,
   "metadata": {},
   "outputs": [
    {
     "data": {
      "text/plain": [
       "array(['Du ký', 'Light novel', 'Phê Bình - Lý Luận Văn Học',\n",
       "       'Phóng sự - Ký sự - Bút ký', 'Tác phẩm kinh điển', 'Thơ',\n",
       "       'Tiểu sử - Hồi ký', 'Tiểu Thuyết',\n",
       "       'Truyện Giả tưởng - Huyền Bí - Phiêu Lưu', 'Tranh Truyện',\n",
       "       'Truyện cổ tích - Ngụ ngôn', 'Truyện cười', 'Truyện dài',\n",
       "       'Bài học kinh doanh', 'Truyện đam mỹ', 'Truyện kiếm hiệp',\n",
       "       'Truyện kinh dị', 'Truyện ngắn - Tản văn - Tạp Văn',\n",
       "       'Truyện ngôn tình', 'Truyện trinh thám', 'Ca dao - Tục ngữ',\n",
       "       'Sách ảnh', 'Sách doanh nhân', 'Sách khởi nghiệp',\n",
       "       'Sách kinh tế học', 'Sách kỹ năng làm việc',\n",
       "       'Sách Marketing - Bán hàng ', 'Sách quản trị, lãnh đạo',\n",
       "       'Sách quản trị nhân lực', 'Sách tài chính, kế toán',\n",
       "       'Sách tài chính, tiền tệ', 'Đạo đức - Kỹ năng sống',\n",
       "       'Kiến thức - Bách khoa', 'Tô màu - Luyện chữ  ', 'Truyện cổ tích',\n",
       "       'Truyện kể cho bé', 'Truyện tranh Ehon', 'Truyện tranh thiếu nhi',\n",
       "       'Văn học thiếu nhi', 'Sách tư duy - Kỹ năng sống',\n",
       "       'Sách nghệ thuật sống đẹp', 'Sách hướng nghiệp - Kỹ năng mềm',\n",
       "       'Sách Thai Giáo', 'Sách Kiến Thức - Kỹ Năng Cho Trẻ',\n",
       "       'Sách Làm Cha Mẹ', 'Sách Dinh Dưỡng - Sức Khỏe Cho Bé',\n",
       "       'Sách Giáo Khoa Cấp 1', 'Sách Giáo Khoa Cấp 2',\n",
       "       'Sách Giáo Khoa Cấp 3', 'Giáo Trình Đại Học - Cao Đẳng',\n",
       "       'Sách Học Tiếng Anh', 'Sách Học Tiếng Nhật', 'Sách Học Tiếng Hàn',\n",
       "       'Sách tham khảo cấp I', 'Sách Học Tiếng Hoa', 'Ngoại Ngữ Khác',\n",
       "       'Sách tham khảo cấp II', 'Sách tham khảo cấp III',\n",
       "       'Sách Luyện Thi Đại Học - Cao Đẳng', 'Thẻ luyện thi',\n",
       "       'Sách chuyên đề', 'Từ Điển Tiếng Anh', 'Từ Điển Tiếng Trung',\n",
       "       'Từ Điển Tiếng Hàn', 'Từ Điển Tiếng Nhật', 'Từ Điển Tiếng Pháp',\n",
       "       'Từ Điển Tiếng Việt', 'Từ Điển Ngôn Ngữ Khác',\n",
       "       'Kiến Thức Bách Khoa', 'Lĩnh vực khác',\n",
       "       'Sách Chiêm Tinh - Horoscope', 'Sách giáo dục',\n",
       "       'Truyện Tranh, Manga, Comic', 'Sách Phong Thủy - Kinh Dịch',\n",
       "       'Triết Học', 'Sách Khoa Học - Kỹ Thuật', 'Lịch Sử Việt Nam',\n",
       "       'Lịch Sử Thế Giới', 'Âm Nhạc - Điện Ảnh', 'Mỹ Thuật - Kiến Trúc',\n",
       "       'Sách Tô Màu Dành Cho Người Lớn', 'Sách Tôn Giáo - Tâm Linh',\n",
       "       'Sách Danh Nhân', 'Sách Địa Danh - Du Lịch',\n",
       "       'Sách Phong Tục - Tập Quán', 'Luật - Văn Bản Luật',\n",
       "       'Lý Luận Chính Trị', 'Sách Nông - Lâm - Ngư Nghiệp',\n",
       "       'Tin Học Văn Phòng', 'Lập Trình', 'Thiết Kế - Đồ Họa',\n",
       "       'Sách Y Học', 'Tạp Chí - Catalogue', 'Sách Tâm Lý Tuổi Teen',\n",
       "       'Sách Hôn Nhân - Giới Tính', 'Chăm sóc sức khỏe',\n",
       "       'May - Thêu - Thời Trang', 'Sách Làm Đẹp', 'Sách Nấu ăn',\n",
       "       'Thể Dục - Thể Thao'], dtype=object)"
      ]
     },
     "execution_count": 34,
     "metadata": {},
     "output_type": "execute_result"
    }
   ],
   "source": [
    "cate_col_profiles_df.loc['diff_vals', 'categories']"
   ]
  },
  {
   "attachments": {},
   "cell_type": "markdown",
   "metadata": {},
   "source": [
    "Chọn ra các features phù hợp/ có ảnh hưởng đến yêu cầu bài toán làm đầu vào cho mô hình "
   ]
  },
  {
   "cell_type": "code",
   "execution_count": 35,
   "metadata": {},
   "outputs": [],
   "source": [
    "cols = ['original_price', 'discount_rate',\n",
    "       'rating_average', 'review_count', 'day_ago_created',\n",
    "       'all_time_quantity_sold', 'number_of_page']\n",
    "# Thêm một vài cột categories có ý nghĩa đối với output\n",
    "cate = ['book_cover', 'categories', 'inventory_type', 'manufacturer', 'publication_date']\n",
    "cols.extend(cate)"
   ]
  },
  {
   "attachments": {},
   "cell_type": "markdown",
   "metadata": {},
   "source": [
    "Xem qua kiểu dữ liệu của các cột"
   ]
  },
  {
   "cell_type": "code",
   "execution_count": 36,
   "metadata": {},
   "outputs": [
    {
     "data": {
      "text/plain": [
       "original_price              int64\n",
       "discount_rate               int64\n",
       "rating_average            float64\n",
       "review_count                int64\n",
       "day_ago_created             int64\n",
       "all_time_quantity_sold      int64\n",
       "number_of_page              int64\n",
       "book_cover                 object\n",
       "categories                 object\n",
       "inventory_type             object\n",
       "manufacturer               object\n",
       "publication_date           object\n",
       "dtype: object"
      ]
     },
     "execution_count": 36,
     "metadata": {},
     "output_type": "execute_result"
    }
   ],
   "source": [
    "df[cols].dtypes"
   ]
  },
  {
   "cell_type": "code",
   "execution_count": 37,
   "metadata": {},
   "outputs": [
    {
     "data": {
      "text/html": [
       "<div>\n",
       "<style scoped>\n",
       "    .dataframe tbody tr th:only-of-type {\n",
       "        vertical-align: middle;\n",
       "    }\n",
       "\n",
       "    .dataframe tbody tr th {\n",
       "        vertical-align: top;\n",
       "    }\n",
       "\n",
       "    .dataframe thead th {\n",
       "        text-align: right;\n",
       "    }\n",
       "</style>\n",
       "<table border=\"1\" class=\"dataframe\">\n",
       "  <thead>\n",
       "    <tr style=\"text-align: right;\">\n",
       "      <th></th>\n",
       "      <th>categories</th>\n",
       "      <th>inventory_type</th>\n",
       "      <th>manufacturer</th>\n",
       "    </tr>\n",
       "  </thead>\n",
       "  <tbody>\n",
       "    <tr>\n",
       "      <th>0</th>\n",
       "      <td>Du ký</td>\n",
       "      <td>instock</td>\n",
       "      <td>NXB Trẻ</td>\n",
       "    </tr>\n",
       "    <tr>\n",
       "      <th>1</th>\n",
       "      <td>Du ký</td>\n",
       "      <td>backorder</td>\n",
       "      <td>NXB Trẻ</td>\n",
       "    </tr>\n",
       "    <tr>\n",
       "      <th>2</th>\n",
       "      <td>Du ký</td>\n",
       "      <td>instock</td>\n",
       "      <td>Nhà Xuất Bản Lao Động</td>\n",
       "    </tr>\n",
       "    <tr>\n",
       "      <th>3</th>\n",
       "      <td>Du ký</td>\n",
       "      <td>backorder</td>\n",
       "      <td>Nhà Xuất Bản Hồng Đức</td>\n",
       "    </tr>\n",
       "    <tr>\n",
       "      <th>4</th>\n",
       "      <td>Du ký</td>\n",
       "      <td>backorder</td>\n",
       "      <td>NXB Trẻ</td>\n",
       "    </tr>\n",
       "    <tr>\n",
       "      <th>...</th>\n",
       "      <td>...</td>\n",
       "      <td>...</td>\n",
       "      <td>...</td>\n",
       "    </tr>\n",
       "    <tr>\n",
       "      <th>48286</th>\n",
       "      <td>Thể Dục - Thể Thao</td>\n",
       "      <td>backorder</td>\n",
       "      <td>Nhà Xuất Bản Hà Nội</td>\n",
       "    </tr>\n",
       "    <tr>\n",
       "      <th>48287</th>\n",
       "      <td>Thể Dục - Thể Thao</td>\n",
       "      <td>backorder</td>\n",
       "      <td>NXB Trẻ</td>\n",
       "    </tr>\n",
       "    <tr>\n",
       "      <th>48288</th>\n",
       "      <td>Thể Dục - Thể Thao</td>\n",
       "      <td>backorder</td>\n",
       "      <td>Nhà Xuất Bản Đại Học Quốc Gia Hà Nội</td>\n",
       "    </tr>\n",
       "    <tr>\n",
       "      <th>48289</th>\n",
       "      <td>Thể Dục - Thể Thao</td>\n",
       "      <td>backorder</td>\n",
       "      <td>Nhà Xuất Bản Thể Thao Và Du Lịch</td>\n",
       "    </tr>\n",
       "    <tr>\n",
       "      <th>48290</th>\n",
       "      <td>Thể Dục - Thể Thao</td>\n",
       "      <td>backorder</td>\n",
       "      <td>nxb thanh nien</td>\n",
       "    </tr>\n",
       "  </tbody>\n",
       "</table>\n",
       "<p>48291 rows × 3 columns</p>\n",
       "</div>"
      ],
      "text/plain": [
       "               categories inventory_type                          manufacturer\n",
       "0                   Du ký        instock                               NXB Trẻ\n",
       "1                   Du ký      backorder                               NXB Trẻ\n",
       "2                   Du ký        instock                 Nhà Xuất Bản Lao Động\n",
       "3                   Du ký      backorder                 Nhà Xuất Bản Hồng Đức\n",
       "4                   Du ký      backorder                               NXB Trẻ\n",
       "...                   ...            ...                                   ...\n",
       "48286  Thể Dục - Thể Thao      backorder                   Nhà Xuất Bản Hà Nội\n",
       "48287  Thể Dục - Thể Thao      backorder                               NXB Trẻ\n",
       "48288  Thể Dục - Thể Thao      backorder  Nhà Xuất Bản Đại Học Quốc Gia Hà Nội\n",
       "48289  Thể Dục - Thể Thao      backorder      Nhà Xuất Bản Thể Thao Và Du Lịch\n",
       "48290  Thể Dục - Thể Thao      backorder                        nxb thanh nien\n",
       "\n",
       "[48291 rows x 3 columns]"
      ]
     },
     "execution_count": 37,
     "metadata": {},
     "output_type": "execute_result"
    }
   ],
   "source": [
    "df[['categories', 'inventory_type', 'manufacturer']] = df[['categories', 'inventory_type', 'manufacturer']].astype(str)\n",
    "df[['categories', 'inventory_type', 'manufacturer']]"
   ]
  },
  {
   "attachments": {},
   "cell_type": "markdown",
   "metadata": {},
   "source": [
    "Cột `publication_date` đang có kiểu dữ liệu là object, ta cũng cần chuyển về datetime cho phù hợp"
   ]
  },
  {
   "cell_type": "code",
   "execution_count": 38,
   "metadata": {},
   "outputs": [],
   "source": [
    "df['publication_date'] = pd.to_datetime(df.publication_date, format = \"%Y-%m-%d %H:%M:%S\", errors = \"coerce\")"
   ]
  },
  {
   "attachments": {},
   "cell_type": "markdown",
   "metadata": {},
   "source": [
    "Có lẽ ta không cần cột này trong đầu vào của mô hình vì cột `day_ago_created` đã có ý nghĩa tương tự"
   ]
  },
  {
   "cell_type": "code",
   "execution_count": 39,
   "metadata": {},
   "outputs": [],
   "source": [
    "cols.remove('publication_date')"
   ]
  },
  {
   "attachments": {},
   "cell_type": "markdown",
   "metadata": {},
   "source": [
    "**Xem một vài phân bố của các đặc trưng, từ đó giúp ta quan sát outliers, độ tập trung của dữ liệu**"
   ]
  },
  {
   "cell_type": "code",
   "execution_count": 40,
   "metadata": {},
   "outputs": [
    {
     "data": {
      "image/png": "[encoded data removed]",
      "text/plain": [
       "<Figure size 1000x1000 with 8 Axes>"
      ]
     },
     "metadata": {},
     "output_type": "display_data"
    }
   ],
   "source": [
    "# df_cont = df.select_dtypes([int,float]) \n",
    "numeric_df = df[set(numeric_cols) - {'id', 'sku'}]\n",
    "\n",
    "fig = plt.figure(figsize=(10, 10))\n",
    "fig.suptitle('Phân bố của các đặc trưng')\n",
    "for i,col in enumerate(numeric_df.columns, 1): \n",
    "    ax = plt.subplot(4,3,i) \n",
    "    sns.boxenplot(data = numeric_df, x=numeric_df[col]) \n",
    "    plt.xlabel(None)\n",
    "    plt.title(col, fontsize='small')\n",
    "    plt.tight_layout(w_pad=3) \n",
    "\n",
    "plt.show() "
   ]
  },
  {
   "attachments": {},
   "cell_type": "markdown",
   "metadata": {},
   "source": [
    "Hầu như các cột dữ liệu đều bị lệch phải (right-skewed)\n",
    "- <font color=bone>*original_price*</font> và <font color=bone>*price*</font> có phân bố khá giống nhau, có vài điểm outliers khá lớn\n",
    "- <font color=bone>*day_ago_created*</font> thì phân bố tập trung trong khoảng 0-500 và giảm dần về 2000\n",
    "- <font color=bone>*rating_average*</font> phân bố khá đồng đều từ 0 đến 5\n",
    "- <font color=bone>*all_time_quantity_sold*</font> phân bố chủ yếu ở giá trị 0, xấp xỉ 0 và rải rác từ 0 đến hơn 30000\n",
    "- <font color=bone>*review_count*</font> cũng tương tự, tuy nhiên nằm rải rác từ 0 đến hơn 6000\n",
    "- <font color=bone>*discount_rate*</font> chủ yếu phân bố từ 0-40 và thưa thớt ở các giá trị rate cao hơn\n",
    "- Riêng với <font color=bone>*number_of_page*</font> có outlier khá \"khủng\" nên ta sẽ xử lý riêng và vẽ lại biểu đồ của cột này"
   ]
  },
  {
   "cell_type": "code",
   "execution_count": 41,
   "metadata": {},
   "outputs": [
    {
     "data": {
      "text/plain": [
       "Text(0.5, 1.0, 'Phân bố của number_of_page sau khi clip các giá trị ngoại lệ')"
      ]
     },
     "execution_count": 41,
     "metadata": {},
     "output_type": "execute_result"
    },
    {
     "data": {
      "image/png": "[encoded data removed]",
      "text/plain": [
       "<Figure size 640x480 with 1 Axes>"
      ]
     },
     "metadata": {},
     "output_type": "display_data"
    }
   ],
   "source": [
    "# ref: https://machinelearningcoban.com/tabml_book/ch_data_processing/process_outliers.html\n",
    "from typing import Tuple\n",
    "from sklearn.base import BaseEstimator, TransformerMixin\n",
    "def find_boundaries(col: pd.Series, whisker_coeff: float = 1.5\n",
    ") -> Tuple[float, float]:\n",
    "    Q1 = col.quantile(0.25)\n",
    "    Q3 = col.quantile(0.75)\n",
    "    IQR = Q3 - Q1\n",
    "    lower = Q1 - whisker_coeff * IQR\n",
    "    upper = Q3 + whisker_coeff * IQR\n",
    "    return lower, upper\n",
    "\n",
    "class BoxplotOutlierClipper(BaseEstimator, TransformerMixin):\n",
    "    def __init__(self, whisker_coeff: float = 1.5):\n",
    "        self.whisker = whisker_coeff\n",
    "        self.lower = None\n",
    "        self.upper = None\n",
    "\n",
    "    def fit(self, X: pd.Series):\n",
    "        self.lower, self.upper = find_boundaries(X, self.whisker)\n",
    "        return self\n",
    "\n",
    "    def transform(self, X):\n",
    "        return X.clip(self.lower, self.upper)\n",
    "\n",
    "numeric_df['number_of_page_clipped'] = BoxplotOutlierClipper().fit_transform(numeric_df['number_of_page'])\n",
    "# print(numeric_df['number_of_page'].sort_values(ascending=False)[30:60])\n",
    "sns.boxplot(data = numeric_df['number_of_page_clipped'].reset_index(drop=True)\n",
    "              , orient='h')\n",
    "plt.title('Phân bố của number_of_page sau khi clip các giá trị ngoại lệ') \n",
    "# plt.xlim(0, 1e4)"
   ]
  },
  {
   "attachments": {},
   "cell_type": "markdown",
   "metadata": {},
   "source": [
    "**Các cột có giá trị thiếu hay không? Nếu thiếu thì xử lý như thế nào?**"
   ]
  },
  {
   "cell_type": "code",
   "execution_count": 42,
   "metadata": {},
   "outputs": [
    {
     "data": {
      "text/plain": [
       "original_price                0\n",
       "discount_rate                 0\n",
       "rating_average                0\n",
       "review_count                  0\n",
       "day_ago_created               0\n",
       "all_time_quantity_sold        0\n",
       "number_of_page                0\n",
       "book_cover                17075\n",
       "categories                    0\n",
       "inventory_type                0\n",
       "manufacturer                  0\n",
       "dtype: int64"
      ]
     },
     "execution_count": 42,
     "metadata": {},
     "output_type": "execute_result"
    }
   ],
   "source": [
    "df[cols].isna().sum()"
   ]
  },
  {
   "attachments": {},
   "cell_type": "markdown",
   "metadata": {},
   "source": [
    "Cột `book_cover` thiếu khá nhiều, ta sẽ xem qua các giá trị của cột này"
   ]
  },
  {
   "cell_type": "code",
   "execution_count": 43,
   "metadata": {},
   "outputs": [
    {
     "data": {
      "text/plain": [
       "Bìa mềm                                     27766\n",
       "Bìa cứng                                     2922\n",
       "Bìa gập                                       366\n",
       "Bìa Da                                         43\n",
       "Bìa rời                                        26\n",
       "B Format Paperback                             22\n",
       "Bìa Da Công Nghiệp Microfiber                  21\n",
       "Box                                            14\n",
       "Boxset                                         12\n",
       "Tùy chọn phiên bản bìa cứng hoặc bìa mềm        9\n",
       "Paperback                                       7\n",
       "Board book                                      2\n",
       "Mix Media Pack                                  2\n",
       "Jigsaw box                                      1\n",
       "Counterpack holds 48 Mini Activity Books        1\n",
       "B-format Paperback                              1\n",
       "Hardcover                                       1\n",
       "Name: book_cover, dtype: int64"
      ]
     },
     "execution_count": 43,
     "metadata": {},
     "output_type": "execute_result"
    }
   ],
   "source": [
    "df['book_cover'].value_counts()"
   ]
  },
  {
   "attachments": {},
   "cell_type": "markdown",
   "metadata": {},
   "source": [
    "Ngoài ra, cột <font color=bone>number_of_page</font> chứa các giá trị 0 cũng khá vô lý (cuốn sách có 0 trang?), một suy đoán cho những giá trị này có thể là do thiếu dữ liệu về số trang nên sẽ mặc định là 0. \n",
    "- Có thể phải bỏ các dòng có giá trị này để tránh thêm vào điểm dữ liệu bất hợp lý?\n",
    "- Một cách khác là điền vào các giá trị theo mật độ xuất hiện của các giá trị đã biết?"
   ]
  },
  {
   "cell_type": "code",
   "execution_count": 44,
   "metadata": {},
   "outputs": [
    {
     "data": {
      "text/html": [
       "<div>\n",
       "<style scoped>\n",
       "    .dataframe tbody tr th:only-of-type {\n",
       "        vertical-align: middle;\n",
       "    }\n",
       "\n",
       "    .dataframe tbody tr th {\n",
       "        vertical-align: top;\n",
       "    }\n",
       "\n",
       "    .dataframe thead th {\n",
       "        text-align: right;\n",
       "    }\n",
       "</style>\n",
       "<table border=\"1\" class=\"dataframe\">\n",
       "  <thead>\n",
       "    <tr style=\"text-align: right;\">\n",
       "      <th></th>\n",
       "      <th>id</th>\n",
       "      <th>sku</th>\n",
       "      <th>name</th>\n",
       "      <th>short_url</th>\n",
       "      <th>book_cover</th>\n",
       "      <th>price</th>\n",
       "      <th>original_price</th>\n",
       "      <th>discount_rate</th>\n",
       "      <th>rating_average</th>\n",
       "      <th>review_count</th>\n",
       "      <th>inventory_type</th>\n",
       "      <th>productset_group_name</th>\n",
       "      <th>day_ago_created</th>\n",
       "      <th>categories</th>\n",
       "      <th>all_time_quantity_sold</th>\n",
       "      <th>authors</th>\n",
       "      <th>publisher_vn</th>\n",
       "      <th>publication_date</th>\n",
       "      <th>dimensions</th>\n",
       "      <th>manufacturer</th>\n",
       "      <th>number_of_page</th>\n",
       "      <th>dich_gia</th>\n",
       "      <th>edition</th>\n",
       "      <th>luu_y</th>\n",
       "    </tr>\n",
       "  </thead>\n",
       "  <tbody>\n",
       "    <tr>\n",
       "      <th>17050</th>\n",
       "      <td>174259422</td>\n",
       "      <td>8455180970185</td>\n",
       "      <td>Combo 6 Cuốn: Kĩ Năng Vàng Cho Teen Thế Kỉ 21</td>\n",
       "      <td>https://tiki.vn/product-p174259422.html?spid=1...</td>\n",
       "      <td>NaN</td>\n",
       "      <td>420000</td>\n",
       "      <td>420000</td>\n",
       "      <td>0</td>\n",
       "      <td>5.0</td>\n",
       "      <td>2</td>\n",
       "      <td>backorder</td>\n",
       "      <td>Nhà Sách Tiki/Sách tiếng Việt/Sách thiếu nhi /...</td>\n",
       "      <td>236</td>\n",
       "      <td>Kiến thức - Bách khoa</td>\n",
       "      <td>12</td>\n",
       "      <td>NaN</td>\n",
       "      <td>NXB Kim Đồng</td>\n",
       "      <td>NaT</td>\n",
       "      <td>NaN</td>\n",
       "      <td>Nhà Xuất Bản Kim Đồng</td>\n",
       "      <td>0</td>\n",
       "      <td>NaN</td>\n",
       "      <td>NaN</td>\n",
       "      <td>NaN</td>\n",
       "    </tr>\n",
       "    <tr>\n",
       "      <th>6528</th>\n",
       "      <td>193206153</td>\n",
       "      <td>6257903893774</td>\n",
       "      <td>Bí Kíp Hạ Phàm( Bộ 2 Tập)</td>\n",
       "      <td>https://tiki.vn/product-p193206153.html?spid=1...</td>\n",
       "      <td>NaN</td>\n",
       "      <td>189000</td>\n",
       "      <td>279000</td>\n",
       "      <td>32</td>\n",
       "      <td>5.0</td>\n",
       "      <td>1</td>\n",
       "      <td>instock</td>\n",
       "      <td>Nhà Sách Tiki/Sách tiếng Việt/Sách văn học/Tru...</td>\n",
       "      <td>122</td>\n",
       "      <td>Truyện đam mỹ</td>\n",
       "      <td>11</td>\n",
       "      <td>Lữ Thiên Dật</td>\n",
       "      <td>Công Ty TNHH Sách Trí Tuệ Việt</td>\n",
       "      <td>2021-01-01</td>\n",
       "      <td>NaN</td>\n",
       "      <td>Nhà Xuất Bản Văn Học</td>\n",
       "      <td>0</td>\n",
       "      <td>Uyên Uyên</td>\n",
       "      <td>NaN</td>\n",
       "      <td>NaN</td>\n",
       "    </tr>\n",
       "    <tr>\n",
       "      <th>39836</th>\n",
       "      <td>143018601</td>\n",
       "      <td>4028391025348</td>\n",
       "      <td>Combo 3 cuốn: Súng vi trùng và Thép + Biến Độn...</td>\n",
       "      <td>https://tiki.vn/product-p143018601.html?spid=1...</td>\n",
       "      <td>NaN</td>\n",
       "      <td>805000</td>\n",
       "      <td>947000</td>\n",
       "      <td>15</td>\n",
       "      <td>0.0</td>\n",
       "      <td>0</td>\n",
       "      <td>backorder</td>\n",
       "      <td>Nhà Sách Tiki/Sách tiếng Việt/Sách Lịch sử/Lịc...</td>\n",
       "      <td>374</td>\n",
       "      <td>Lịch Sử Thế Giới</td>\n",
       "      <td>0</td>\n",
       "      <td>Jared Diamond</td>\n",
       "      <td>Alphabooks</td>\n",
       "      <td>NaT</td>\n",
       "      <td>NaN</td>\n",
       "      <td>Nhà Xuất Bản Dân Trí</td>\n",
       "      <td>0</td>\n",
       "      <td>NaN</td>\n",
       "      <td>NaN</td>\n",
       "      <td>NaN</td>\n",
       "    </tr>\n",
       "    <tr>\n",
       "      <th>1359</th>\n",
       "      <td>110361355</td>\n",
       "      <td>7676628331112</td>\n",
       "      <td>WORLD WARR II - ĐỆ NHỊ THẾ CHIẾN</td>\n",
       "      <td>https://tiki.vn/product-p110361355.html?spid=1...</td>\n",
       "      <td>NaN</td>\n",
       "      <td>220000</td>\n",
       "      <td>220000</td>\n",
       "      <td>0</td>\n",
       "      <td>0.0</td>\n",
       "      <td>0</td>\n",
       "      <td>backorder</td>\n",
       "      <td>Nhà Sách Tiki/Sách tiếng Việt/Sách văn học/Phó...</td>\n",
       "      <td>516</td>\n",
       "      <td>Phóng sự - Ký sự - Bút ký</td>\n",
       "      <td>0</td>\n",
       "      <td>NaN</td>\n",
       "      <td>Công ty TNHH TM &amp; DV Văn Hóa Hương Trang</td>\n",
       "      <td>NaT</td>\n",
       "      <td>NaN</td>\n",
       "      <td>Nhà Xuất Bản Hồng Đức</td>\n",
       "      <td>0</td>\n",
       "      <td>NaN</td>\n",
       "      <td>NaN</td>\n",
       "      <td>NaN</td>\n",
       "    </tr>\n",
       "    <tr>\n",
       "      <th>32610</th>\n",
       "      <td>182739474</td>\n",
       "      <td>6019169210398</td>\n",
       "      <td>Chuyên Đề Chuyên Sâu Bồi Dưỡng Ngữ Văn 10 (Dùn...</td>\n",
       "      <td>https://tiki.vn/product-p182739474.html?spid=1...</td>\n",
       "      <td>NaN</td>\n",
       "      <td>60000</td>\n",
       "      <td>60000</td>\n",
       "      <td>0</td>\n",
       "      <td>0.0</td>\n",
       "      <td>0</td>\n",
       "      <td>backorder</td>\n",
       "      <td>Nhà Sách Tiki/Sách tiếng Việt/Sách Tham Khảo/S...</td>\n",
       "      <td>193</td>\n",
       "      <td>Sách tham khảo cấp III</td>\n",
       "      <td>1</td>\n",
       "      <td>NaN</td>\n",
       "      <td>Nhà Sách Hồng Ân</td>\n",
       "      <td>NaT</td>\n",
       "      <td>NaN</td>\n",
       "      <td>Nhà Xuất Bản Đại Học Quốc Gia Hà Nội</td>\n",
       "      <td>0</td>\n",
       "      <td>NaN</td>\n",
       "      <td>NaN</td>\n",
       "      <td>NaN</td>\n",
       "    </tr>\n",
       "  </tbody>\n",
       "</table>\n",
       "</div>"
      ],
      "text/plain": [
       "              id            sku  \\\n",
       "17050  174259422  8455180970185   \n",
       "6528   193206153  6257903893774   \n",
       "39836  143018601  4028391025348   \n",
       "1359   110361355  7676628331112   \n",
       "32610  182739474  6019169210398   \n",
       "\n",
       "                                                    name  \\\n",
       "17050      Combo 6 Cuốn: Kĩ Năng Vàng Cho Teen Thế Kỉ 21   \n",
       "6528                           Bí Kíp Hạ Phàm( Bộ 2 Tập)   \n",
       "39836  Combo 3 cuốn: Súng vi trùng và Thép + Biến Độn...   \n",
       "1359                    WORLD WARR II - ĐỆ NHỊ THẾ CHIẾN   \n",
       "32610  Chuyên Đề Chuyên Sâu Bồi Dưỡng Ngữ Văn 10 (Dùn...   \n",
       "\n",
       "                                               short_url book_cover   price  \\\n",
       "17050  https://tiki.vn/product-p174259422.html?spid=1...        NaN  420000   \n",
       "6528   https://tiki.vn/product-p193206153.html?spid=1...        NaN  189000   \n",
       "39836  https://tiki.vn/product-p143018601.html?spid=1...        NaN  805000   \n",
       "1359   https://tiki.vn/product-p110361355.html?spid=1...        NaN  220000   \n",
       "32610  https://tiki.vn/product-p182739474.html?spid=1...        NaN   60000   \n",
       "\n",
       "       original_price  discount_rate  rating_average  review_count  \\\n",
       "17050          420000              0             5.0             2   \n",
       "6528           279000             32             5.0             1   \n",
       "39836          947000             15             0.0             0   \n",
       "1359           220000              0             0.0             0   \n",
       "32610           60000              0             0.0             0   \n",
       "\n",
       "      inventory_type                              productset_group_name  \\\n",
       "17050      backorder  Nhà Sách Tiki/Sách tiếng Việt/Sách thiếu nhi /...   \n",
       "6528         instock  Nhà Sách Tiki/Sách tiếng Việt/Sách văn học/Tru...   \n",
       "39836      backorder  Nhà Sách Tiki/Sách tiếng Việt/Sách Lịch sử/Lịc...   \n",
       "1359       backorder  Nhà Sách Tiki/Sách tiếng Việt/Sách văn học/Phó...   \n",
       "32610      backorder  Nhà Sách Tiki/Sách tiếng Việt/Sách Tham Khảo/S...   \n",
       "\n",
       "       day_ago_created                 categories  all_time_quantity_sold  \\\n",
       "17050              236      Kiến thức - Bách khoa                      12   \n",
       "6528               122              Truyện đam mỹ                      11   \n",
       "39836              374           Lịch Sử Thế Giới                       0   \n",
       "1359               516  Phóng sự - Ký sự - Bút ký                       0   \n",
       "32610              193     Sách tham khảo cấp III                       1   \n",
       "\n",
       "             authors                               publisher_vn  \\\n",
       "17050            NaN                               NXB Kim Đồng   \n",
       "6528    Lữ Thiên Dật             Công Ty TNHH Sách Trí Tuệ Việt   \n",
       "39836  Jared Diamond                                 Alphabooks   \n",
       "1359             NaN  Công ty TNHH TM & DV Văn Hóa Hương Trang   \n",
       "32610            NaN                           Nhà Sách Hồng Ân   \n",
       "\n",
       "      publication_date dimensions                          manufacturer  \\\n",
       "17050              NaT        NaN                 Nhà Xuất Bản Kim Đồng   \n",
       "6528        2021-01-01        NaN                  Nhà Xuất Bản Văn Học   \n",
       "39836              NaT        NaN                  Nhà Xuất Bản Dân Trí   \n",
       "1359               NaT        NaN                 Nhà Xuất Bản Hồng Đức   \n",
       "32610              NaT        NaN  Nhà Xuất Bản Đại Học Quốc Gia Hà Nội   \n",
       "\n",
       "       number_of_page   dich_gia edition luu_y  \n",
       "17050               0        NaN     NaN   NaN  \n",
       "6528                0  Uyên Uyên     NaN   NaN  \n",
       "39836               0        NaN     NaN   NaN  \n",
       "1359                0        NaN     NaN   NaN  \n",
       "32610               0        NaN     NaN   NaN  "
      ]
     },
     "execution_count": 44,
     "metadata": {},
     "output_type": "execute_result"
    }
   ],
   "source": [
    "df[df['book_cover'].isna()].sample(5)"
   ]
  },
  {
   "attachments": {},
   "cell_type": "markdown",
   "metadata": {},
   "source": [
    "Thay các giá trị 0 thành nan để phục vụ cho giai đoạn xử lý missing value "
   ]
  },
  {
   "cell_type": "code",
   "execution_count": 45,
   "metadata": {},
   "outputs": [],
   "source": [
    "df['number_of_page'].replace(0, np.nan, inplace=True)"
   ]
  },
  {
   "attachments": {},
   "cell_type": "markdown",
   "metadata": {},
   "source": [
    "### **Xử lý các giá trị ngoại lệ**"
   ]
  },
  {
   "cell_type": "code",
   "execution_count": 46,
   "metadata": {},
   "outputs": [],
   "source": [
    "df['number_of_page'] = BoxplotOutlierClipper().fit_transform(df['number_of_page'])"
   ]
  },
  {
   "cell_type": "code",
   "execution_count": 47,
   "metadata": {},
   "outputs": [],
   "source": [
    "features = df[cols].copy()"
   ]
  },
  {
   "attachments": {},
   "cell_type": "markdown",
   "metadata": {},
   "source": [
    "#### **Phân chia tập train/val/test**"
   ]
  },
  {
   "cell_type": "code",
   "execution_count": 48,
   "metadata": {},
   "outputs": [],
   "source": [
    "x_df = features[set(cols) - {'discount_rate'}]\n",
    "y_df = features['discount_rate']\n",
    "\n",
    "x_train, x_test, y_train, y_test = train_test_split(x_df, y_df, test_size=0.2, random_state=5) # Tách tập test/train\n",
    "# x_train, x_val, y_train, y_val = train_test_split(x_train, y_train, test_size=0.2, random_state=5) # Tách tập train/val từ tập train\n"
   ]
  },
  {
   "attachments": {},
   "cell_type": "markdown",
   "metadata": {},
   "source": [
    "#### **Pipeline cho bước tiền xử lý**"
   ]
  },
  {
   "cell_type": "code",
   "execution_count": 49,
   "metadata": {},
   "outputs": [],
   "source": [
    "# df['book_cover'].fillna('Không có bìa', inplace=True)\n",
    "cate = [ 'book_cover', 'categories','inventory_type', 'manufacturer']\n",
    "nume = ['original_price', 'rating_average', 'review_count', 'day_ago_created','all_time_quantity_sold',\n",
    "        'number_of_page']\n",
    "\n",
    "# Pipeline xử lý cho các cột category\n",
    "cate_transformer = Pipeline(steps= [('imputer', SimpleImputer(strategy='most_frequent')), # Thay thế missing value bằng giá trị có tần suất xuất hiện cao\n",
    "                               ('OneHotEncoder', OneHotEncoder(handle_unknown='ignore'))]) # biểu diễn one hot cho các cột category\n",
    "                                                                                # đối với các giá trị mà model chưa từng thấy bao giờ (trong tập test) thì ta bỏ qua\n",
    "# Pipeline xử lý cho các cột numeric\n",
    "nume_transfomer = Pipeline(steps= [('imputer', KNNImputer(n_neighbors=10)), # thay thế missing value bằng thuật toán k-nearest với số lượng láng giềng là 10\n",
    "                                   ('scaler', MinMaxScaler())])  # scale các giá trị về miền giá trị trong khoảng 0 đến 1 \n",
    "\n",
    "# Pipeline cho bước tiền xử lý chung \n",
    "preprocessor = ColumnTransformer(transformers=[('cate_transformer', cate_transformer, cate),\n",
    "                                                ('nume_transfomer',nume_transfomer, nume)])"
   ]
  },
  {
   "attachments": {},
   "cell_type": "markdown",
   "metadata": {},
   "source": [
    "## **5. Huấn luyện mô hình**"
   ]
  },
  {
   "attachments": {},
   "cell_type": "markdown",
   "metadata": {},
   "source": [
    "#### **Linear Regression**"
   ]
  },
  {
   "cell_type": "code",
   "execution_count": 50,
   "metadata": {},
   "outputs": [],
   "source": [
    "model = LinearRegression()\n",
    "lr_pl = Pipeline(steps=[('preprocessor', preprocessor),\n",
    "                                ('linear_regression', model)])\n",
    "\n",
    "\n",
    "lr_pl.fit(x_train, y_train)\n",
    "y_train_pred = lr_pl.predict(x_train)"
   ]
  },
  {
   "cell_type": "code",
   "execution_count": 51,
   "metadata": {},
   "outputs": [],
   "source": [
    "y_test_pred = lr_pl.predict(x_test)"
   ]
  },
  {
   "cell_type": "code",
   "execution_count": 52,
   "metadata": {},
   "outputs": [
    {
     "name": "stdout",
     "output_type": "stream",
     "text": [
      "Train set: [MSE: 108.656, MAE: 8.093]\n",
      "Test set: [MSE: 109.089, MAE: 8.093]\n"
     ]
    }
   ],
   "source": [
    "print(f'Train set: [MSE: {mean_squared_error(y_train, y_train_pred):.3f}, MAE: {mean_absolute_error(y_train, y_train_pred):.3f}]')\n",
    "print(f'Test set: [MSE: {mean_squared_error(y_test, y_test_pred):.3f}, MAE: {mean_absolute_error(y_test, y_test_pred):.3f}]')\n"
   ]
  },
  {
   "attachments": {},
   "cell_type": "markdown",
   "metadata": {},
   "source": [
    "Mô hình này cho ra độ lỗi khá tốt"
   ]
  },
  {
   "attachments": {},
   "cell_type": "markdown",
   "metadata": {},
   "source": [
    "#### **Cross validation**"
   ]
  },
  {
   "cell_type": "code",
   "execution_count": 53,
   "metadata": {},
   "outputs": [],
   "source": [
    "# Xác định KFold\n",
    "# cv = RepeatedStratifiedKFold(n_splits=10, n_repeats=3, random_state=1)\n",
    "cv = KFold(n_splits = 5, shuffle = True, random_state = 100)\n",
    "\n",
    "cv_pl = Pipeline(\n",
    "    steps=[(\"preprocessor\", preprocessor), ('regression', LinearRegression())])\n",
    "\n",
    "scores_cv = cross_validate(cv_pl, x_train, y_train, scoring=['neg_mean_absolute_error','neg_mean_squared_error'], \n",
    "                           cv=cv, error_score='raise')\n",
    " "
   ]
  },
  {
   "cell_type": "code",
   "execution_count": 56,
   "metadata": {},
   "outputs": [
    {
     "data": {
      "text/plain": [
       "{'fit_time': array([19.5660789 , 22.41852379, 18.46125126, 18.75126791, 18.94825482]),\n",
       " 'score_time': array([5.02752995, 4.63515568, 4.63202739, 4.75026798, 4.44282722]),\n",
       " 'test_neg_mean_absolute_error': array([-8.09780729, -8.14291943, -8.14661257, -8.26680874, -8.13795453]),\n",
       " 'test_neg_mean_squared_error': array([-107.44886289, -110.21544083, -111.09801375, -111.47541862,\n",
       "        -112.0272968 ])}"
      ]
     },
     "execution_count": 56,
     "metadata": {},
     "output_type": "execute_result"
    }
   ],
   "source": [
    "scores_cv"
   ]
  },
  {
   "cell_type": "code",
   "execution_count": 59,
   "metadata": {},
   "outputs": [
    {
     "name": "stdout",
     "output_type": "stream",
     "text": [
      "Mean NMAE: -8.158, Std: 0.057\n",
      "Mean NMSE: -110.453, Std: 1.614\n"
     ]
    }
   ],
   "source": [
    "print('Mean NMAE: {:.03f}, Std: {:.03f}'\n",
    "      .format(np.mean(scores_cv['test_neg_mean_absolute_error'], dtype=np.float64), np.std(scores_cv['test_neg_mean_absolute_error'])))\n",
    "print('Mean NMSE: {:.03f}, Std: {:.03f}'\n",
    "      .format(np.mean(scores_cv['test_neg_mean_squared_error'], dtype=np.float64), np.std(scores_cv['test_neg_mean_squared_error'])))"
   ]
  },
  {
   "attachments": {},
   "cell_type": "markdown",
   "metadata": {},
   "source": [
    "#### **Đánh giá nhiều mô hình với nhiều metric khác nhau**"
   ]
  },
  {
   "cell_type": "code",
   "execution_count": 60,
   "metadata": {},
   "outputs": [
    {
     "name": "stdout",
     "output_type": "stream",
     "text": [
      "LinearRegression() done!\n",
      "RandomForestRegressor() done!\n",
      "GradientBoostingRegressor() done!\n",
      "TransformedTargetRegressor() done!\n"
     ]
    }
   ],
   "source": [
    "models = [LinearRegression(), RandomForestRegressor(), GradientBoostingRegressor(), TransformedTargetRegressor()]\n",
    "\n",
    "# cv = RepeatedStratifiedKFold(n_splits=10, n_repeats=3, random_state=1)\n",
    "cv = KFold(n_splits = 5, shuffle = True, random_state = 100)\n",
    "\n",
    "all_scores = []\n",
    "metric = ['neg_mean_squared_error', 'neg_mean_absolute_error', 'neg_root_mean_squared_error', 'neg_mean_absolute_percentage_error']\n",
    "# Đánh giá toàn bộ các mô hình trên tập K-Fold đã chia\n",
    "for model in models:\n",
    "  multi_model_pl = Pipeline(\n",
    "    steps=[(\"preprocessor\", preprocessor), ('regression', model)]\n",
    "  )\n",
    "\n",
    "  scores = cross_validate(multi_model_pl, x_train, y_train, scoring=metric, cv=cv)\n",
    "  print(str(model) + ' done!')\n",
    "  all_scores.append(scores)"
   ]
  },
  {
   "cell_type": "code",
   "execution_count": 61,
   "metadata": {},
   "outputs": [
    {
     "data": {
      "text/html": [
       "<div>\n",
       "<style scoped>\n",
       "    .dataframe tbody tr th:only-of-type {\n",
       "        vertical-align: middle;\n",
       "    }\n",
       "\n",
       "    .dataframe tbody tr th {\n",
       "        vertical-align: top;\n",
       "    }\n",
       "\n",
       "    .dataframe thead th {\n",
       "        text-align: right;\n",
       "    }\n",
       "</style>\n",
       "<table border=\"1\" class=\"dataframe\">\n",
       "  <thead>\n",
       "    <tr style=\"text-align: right;\">\n",
       "      <th></th>\n",
       "      <th>fit_time</th>\n",
       "      <th>score_time</th>\n",
       "      <th>test_neg_mean_squared_error</th>\n",
       "      <th>test_neg_mean_absolute_error</th>\n",
       "      <th>test_neg_root_mean_squared_error</th>\n",
       "      <th>test_neg_mean_absolute_percentage_error</th>\n",
       "    </tr>\n",
       "  </thead>\n",
       "  <tbody>\n",
       "    <tr>\n",
       "      <th>0</th>\n",
       "      <td>[20.699440002441406, 18.606149673461914, 18.36...</td>\n",
       "      <td>[4.664328575134277, 4.539032459259033, 4.47117...</td>\n",
       "      <td>[-107.44886289396524, -110.21544082960116, -11...</td>\n",
       "      <td>[-8.097807285939364, -8.142919430442728, -8.14...</td>\n",
       "      <td>[-10.365754333089573, -10.498354196234816, -10...</td>\n",
       "      <td>[-1.5898539144158372e+16, -1.5981910727277648e...</td>\n",
       "    </tr>\n",
       "    <tr>\n",
       "      <th>1</th>\n",
       "      <td>[150.09874534606934, 146.53938055038452, 156.0...</td>\n",
       "      <td>[4.532428503036499, 4.772809743881226, 4.90838...</td>\n",
       "      <td>[-84.55692939959222, -83.94020691391293, -88.9...</td>\n",
       "      <td>[-6.616672780562229, -6.5698209579613005, -6.7...</td>\n",
       "      <td>[-9.19548418516351, -9.16188882894313, -9.4306...</td>\n",
       "      <td>[-1.1376071958673494e+16, -1.1843730770047422e...</td>\n",
       "    </tr>\n",
       "    <tr>\n",
       "      <th>2</th>\n",
       "      <td>[22.516953945159912, 21.311146020889282, 21.75...</td>\n",
       "      <td>[4.262818813323975, 4.540108919143677, 4.75889...</td>\n",
       "      <td>[-107.6562698579909, -108.4802476031433, -109....</td>\n",
       "      <td>[-8.315782051623883, -8.323245186828707, -8.36...</td>\n",
       "      <td>[-10.37575394166568, -10.415385139453235, -10....</td>\n",
       "      <td>[-1.628428042221606e+16, -1.6527654714956582e+...</td>\n",
       "    </tr>\n",
       "    <tr>\n",
       "      <th>3</th>\n",
       "      <td>[19.412809133529663, 20.373303413391113, 19.32...</td>\n",
       "      <td>[4.405459403991699, 4.850273132324219, 4.41099...</td>\n",
       "      <td>[-107.44886289396524, -110.21544082960116, -11...</td>\n",
       "      <td>[-8.097807285939364, -8.142919430442728, -8.14...</td>\n",
       "      <td>[-10.365754333089573, -10.498354196234816, -10...</td>\n",
       "      <td>[-1.5898539144158372e+16, -1.5981910727277648e...</td>\n",
       "    </tr>\n",
       "  </tbody>\n",
       "</table>\n",
       "</div>"
      ],
      "text/plain": [
       "                                            fit_time  \\\n",
       "0  [20.699440002441406, 18.606149673461914, 18.36...   \n",
       "1  [150.09874534606934, 146.53938055038452, 156.0...   \n",
       "2  [22.516953945159912, 21.311146020889282, 21.75...   \n",
       "3  [19.412809133529663, 20.373303413391113, 19.32...   \n",
       "\n",
       "                                          score_time  \\\n",
       "0  [4.664328575134277, 4.539032459259033, 4.47117...   \n",
       "1  [4.532428503036499, 4.772809743881226, 4.90838...   \n",
       "2  [4.262818813323975, 4.540108919143677, 4.75889...   \n",
       "3  [4.405459403991699, 4.850273132324219, 4.41099...   \n",
       "\n",
       "                         test_neg_mean_squared_error  \\\n",
       "0  [-107.44886289396524, -110.21544082960116, -11...   \n",
       "1  [-84.55692939959222, -83.94020691391293, -88.9...   \n",
       "2  [-107.6562698579909, -108.4802476031433, -109....   \n",
       "3  [-107.44886289396524, -110.21544082960116, -11...   \n",
       "\n",
       "                        test_neg_mean_absolute_error  \\\n",
       "0  [-8.097807285939364, -8.142919430442728, -8.14...   \n",
       "1  [-6.616672780562229, -6.5698209579613005, -6.7...   \n",
       "2  [-8.315782051623883, -8.323245186828707, -8.36...   \n",
       "3  [-8.097807285939364, -8.142919430442728, -8.14...   \n",
       "\n",
       "                    test_neg_root_mean_squared_error  \\\n",
       "0  [-10.365754333089573, -10.498354196234816, -10...   \n",
       "1  [-9.19548418516351, -9.16188882894313, -9.4306...   \n",
       "2  [-10.37575394166568, -10.415385139453235, -10....   \n",
       "3  [-10.365754333089573, -10.498354196234816, -10...   \n",
       "\n",
       "             test_neg_mean_absolute_percentage_error  \n",
       "0  [-1.5898539144158372e+16, -1.5981910727277648e...  \n",
       "1  [-1.1376071958673494e+16, -1.1843730770047422e...  \n",
       "2  [-1.628428042221606e+16, -1.6527654714956582e+...  \n",
       "3  [-1.5898539144158372e+16, -1.5981910727277648e...  "
      ]
     },
     "execution_count": 61,
     "metadata": {},
     "output_type": "execute_result"
    }
   ],
   "source": [
    "all_scores_df = pd.DataFrame(all_scores)\n",
    "# os.mkdir('./evaluating')\n",
    "all_scores_df.to_csv('./evaluating/all_scores.csv', index_label=False)\n",
    "all_scores_df.head()"
   ]
  },
  {
   "attachments": {},
   "cell_type": "markdown",
   "metadata": {},
   "source": [
    "Tính mean và standard deviation của từng giá trị trong `all_scores_df`"
   ]
  },
  {
   "cell_type": "code",
   "execution_count": 62,
   "metadata": {},
   "outputs": [
    {
     "data": {
      "text/html": [
       "<div>\n",
       "<style scoped>\n",
       "    .dataframe tbody tr th:only-of-type {\n",
       "        vertical-align: middle;\n",
       "    }\n",
       "\n",
       "    .dataframe tbody tr th {\n",
       "        vertical-align: top;\n",
       "    }\n",
       "\n",
       "    .dataframe thead th {\n",
       "        text-align: right;\n",
       "    }\n",
       "</style>\n",
       "<table border=\"1\" class=\"dataframe\">\n",
       "  <thead>\n",
       "    <tr style=\"text-align: right;\">\n",
       "      <th></th>\n",
       "      <th>fit_time</th>\n",
       "      <th>score_time</th>\n",
       "      <th>test_neg_mean_squared_error</th>\n",
       "      <th>test_neg_mean_absolute_error</th>\n",
       "      <th>test_neg_root_mean_squared_error</th>\n",
       "      <th>test_neg_mean_absolute_percentage_error</th>\n",
       "    </tr>\n",
       "  </thead>\n",
       "  <tbody>\n",
       "    <tr>\n",
       "      <th>LinearRegression</th>\n",
       "      <td>(18.96043930053711, 0.8783982097199173)</td>\n",
       "      <td>(4.53293924331665, 0.07320710110478458)</td>\n",
       "      <td>(-110.45300657878252, 1.6137575463328362)</td>\n",
       "      <td>(-8.15842051368069, 0.05695707030104924)</td>\n",
       "      <td>(-10.50937992310838, 0.077072761394665)</td>\n",
       "      <td>(-1.5835003223297856e+16, 318908958653418.75)</td>\n",
       "    </tr>\n",
       "    <tr>\n",
       "      <th>RandomForestRegressor</th>\n",
       "      <td>(151.64460091590882, 3.2115763835639792)</td>\n",
       "      <td>(4.706380701065063, 0.1353701923604475)</td>\n",
       "      <td>(-85.84372974934777, 1.8881810190243875)</td>\n",
       "      <td>(-6.6460572476776765, 0.05169978097509177)</td>\n",
       "      <td>(-9.264632515827232, 0.1015583380355829)</td>\n",
       "      <td>(-1.1618822646930756e+16, 237173962741091.75)</td>\n",
       "    </tr>\n",
       "    <tr>\n",
       "      <th>GradientBoostingRegressor</th>\n",
       "      <td>(21.845471954345705, 0.5707017304840806)</td>\n",
       "      <td>(4.534425067901611, 0.17208323441804715)</td>\n",
       "      <td>(-109.43660440471805, 1.1884117154293024)</td>\n",
       "      <td>(-8.372764431689802, 0.05458414714131124)</td>\n",
       "      <td>(-10.461040676846547, 0.05685386600731228)</td>\n",
       "      <td>(-1.6376821197119958e+16, 192537183786057.97)</td>\n",
       "    </tr>\n",
       "    <tr>\n",
       "      <th>TransformedTargetRegressor</th>\n",
       "      <td>(19.568842458724976, 0.4194052110056854)</td>\n",
       "      <td>(4.6656389236450195, 0.24551280780445842)</td>\n",
       "      <td>(-110.45300657878252, 1.6137575463328362)</td>\n",
       "      <td>(-8.15842051368069, 0.05695707030104924)</td>\n",
       "      <td>(-10.50937992310838, 0.077072761394665)</td>\n",
       "      <td>(-1.5835003223297856e+16, 318908958653418.75)</td>\n",
       "    </tr>\n",
       "  </tbody>\n",
       "</table>\n",
       "</div>"
      ],
      "text/plain": [
       "                                                            fit_time  \\\n",
       "LinearRegression             (18.96043930053711, 0.8783982097199173)   \n",
       "RandomForestRegressor       (151.64460091590882, 3.2115763835639792)   \n",
       "GradientBoostingRegressor   (21.845471954345705, 0.5707017304840806)   \n",
       "TransformedTargetRegressor  (19.568842458724976, 0.4194052110056854)   \n",
       "\n",
       "                                                           score_time  \\\n",
       "LinearRegression              (4.53293924331665, 0.07320710110478458)   \n",
       "RandomForestRegressor         (4.706380701065063, 0.1353701923604475)   \n",
       "GradientBoostingRegressor    (4.534425067901611, 0.17208323441804715)   \n",
       "TransformedTargetRegressor  (4.6656389236450195, 0.24551280780445842)   \n",
       "\n",
       "                                          test_neg_mean_squared_error  \\\n",
       "LinearRegression            (-110.45300657878252, 1.6137575463328362)   \n",
       "RandomForestRegressor        (-85.84372974934777, 1.8881810190243875)   \n",
       "GradientBoostingRegressor   (-109.43660440471805, 1.1884117154293024)   \n",
       "TransformedTargetRegressor  (-110.45300657878252, 1.6137575463328362)   \n",
       "\n",
       "                                          test_neg_mean_absolute_error  \\\n",
       "LinearRegression              (-8.15842051368069, 0.05695707030104924)   \n",
       "RandomForestRegressor       (-6.6460572476776765, 0.05169978097509177)   \n",
       "GradientBoostingRegressor    (-8.372764431689802, 0.05458414714131124)   \n",
       "TransformedTargetRegressor    (-8.15842051368069, 0.05695707030104924)   \n",
       "\n",
       "                                      test_neg_root_mean_squared_error  \\\n",
       "LinearRegression               (-10.50937992310838, 0.077072761394665)   \n",
       "RandomForestRegressor         (-9.264632515827232, 0.1015583380355829)   \n",
       "GradientBoostingRegressor   (-10.461040676846547, 0.05685386600731228)   \n",
       "TransformedTargetRegressor     (-10.50937992310838, 0.077072761394665)   \n",
       "\n",
       "                                  test_neg_mean_absolute_percentage_error  \n",
       "LinearRegression            (-1.5835003223297856e+16, 318908958653418.75)  \n",
       "RandomForestRegressor       (-1.1618822646930756e+16, 237173962741091.75)  \n",
       "GradientBoostingRegressor   (-1.6376821197119958e+16, 192537183786057.97)  \n",
       "TransformedTargetRegressor  (-1.5835003223297856e+16, 318908958653418.75)  "
      ]
     },
     "execution_count": 62,
     "metadata": {},
     "output_type": "execute_result"
    }
   ],
   "source": [
    "models = ['LinearRegression', 'RandomForestRegressor', 'GradientBoostingRegressor', 'TransformedTargetRegressor']\n",
    "def get_mean_std(x):\n",
    "    return x.mean(), x.std()\n",
    "\n",
    "all_scores_df.index = models\n",
    "all_scores_df.applymap(get_mean_std)"
   ]
  },
  {
   "attachments": {},
   "cell_type": "markdown",
   "metadata": {},
   "source": [
    "Dựa vào bảng có thể thấy mô hình <font color=bone>RandomForest</font> cho độ lỗi tốt nhất, tuy nhiên <font color=bone>fit_time</font> và <font color=bone>score_time</font> là cao nhất."
   ]
  },
  {
   "cell_type": "code",
   "execution_count": 75,
   "metadata": {},
   "outputs": [
    {
     "data": {
      "image/png": "[encoded data removed]",
      "text/plain": [
       "<Figure size 2000x2000 with 6 Axes>"
      ]
     },
     "metadata": {},
     "output_type": "display_data"
    }
   ],
   "source": [
    "plt.figure(figsize=(20, 20))\n",
    "plt.suptitle(\"Scores Metrics\")\n",
    "for i,col in enumerate(all_scores_df.columns, 1): \n",
    "    ax = plt.subplot(4,3,i) \n",
    "    sns.boxplot(all_scores_df[col])\n",
    "    plt.title(col, fontsize='small')\n",
    "    # plt.tight_layout(w_pad=3) "
   ]
  },
  {
   "attachments": {},
   "cell_type": "markdown",
   "metadata": {},
   "source": [
    "Vậy mô hình được chọn là: RandomForestRegression"
   ]
  },
  {
   "cell_type": "code",
   "execution_count": 76,
   "metadata": {},
   "outputs": [],
   "source": [
    "rf_pl = Pipeline(\n",
    "    steps=[(\"preprocessor\", preprocessor), ('RandomForestRegression', RandomForestRegressor())])\n",
    "\n",
    "rf_pl.fit(x_train, y_train)\n",
    "y_train_pred = rf_pl.predict(x_train)"
   ]
  },
  {
   "cell_type": "code",
   "execution_count": 77,
   "metadata": {},
   "outputs": [],
   "source": [
    "y_test_pred = rf_pl.predict(x_test)"
   ]
  },
  {
   "cell_type": "code",
   "execution_count": 78,
   "metadata": {},
   "outputs": [
    {
     "name": "stdout",
     "output_type": "stream",
     "text": [
      "Train set: [MSE: 12.335, MAE: 2.447]\n",
      "Test set: [MSE: 81.336, MAE: 6.458]\n"
     ]
    }
   ],
   "source": [
    "print(f'Train set: [MSE: {mean_squared_error(y_train, y_train_pred):.3f}, MAE: {mean_absolute_error(y_train, y_train_pred):.3f}]')\n",
    "print(f'Test set: [MSE: {mean_squared_error(y_test, y_test_pred):.3f}, MAE: {mean_absolute_error(y_test, y_test_pred):.3f}]')"
   ]
  },
  {
   "attachments": {},
   "cell_type": "markdown",
   "metadata": {},
   "source": [
    "Có thể thấy độ lỗi trên tập train và tập test đều cải thiện khá nhiều so với các mô hình trên"
   ]
  },
  {
   "attachments": {},
   "cell_type": "markdown",
   "metadata": {},
   "source": [
    "### **Fine-tuning process**"
   ]
  },
  {
   "attachments": {},
   "cell_type": "markdown",
   "metadata": {},
   "source": [
    "Sử dụng kĩ thuật RandomizedSearchCV()\n",
    "\n",
    "Phương pháp này tìm kiếm ngẫu nhiên trên không gian tham số, kết hợp với KFold và chọn ra bộ tham số tốt nhất cho mô hình. "
   ]
  },
  {
   "cell_type": "code",
   "execution_count": 79,
   "metadata": {},
   "outputs": [],
   "source": [
    "n_estimators = [200 , 400, 600, 800, 1000, 1200] # số lượng cây \n",
    "max_features = ['auto', 'sqrt'] # cách tính số lượng đặc trưng mỗi lần split\n",
    "max_depth = [int(x) for x in np.linspace(10, 120, num = 12)] # độ sâu tối đa của cây\n",
    "min_samples_split = [2, 6, 10] # số lượng mẫu tối thiểu trong một node\n",
    "min_samples_leaf = [1, 3, 4] # số lượng mẫu tối thiểu trong một node lá\n",
    "bootstrap = [True, False] # cách lấy mẫu (có hoàn lại hay không)\n",
    "\n",
    "random_grid = {'n_estimators': n_estimators,\n",
    "\n",
    "'max_features': max_features,\n",
    "\n",
    "'max_depth': max_depth,\n",
    "\n",
    "'min_samples_split': min_samples_split,\n",
    "\n",
    "'min_samples_leaf': min_samples_leaf,\n",
    "\n",
    "'bootstrap': bootstrap}"
   ]
  },
  {
   "cell_type": "code",
   "execution_count": 80,
   "metadata": {},
   "outputs": [
    {
     "name": "stdout",
     "output_type": "stream",
     "text": [
      "Fitting 5 folds for each of 100 candidates, totalling 500 fits\n"
     ]
    }
   ],
   "source": [
    "rf = RandomForestRegressor()\n",
    "\n",
    "rf_random = RandomizedSearchCV(estimator = rf,param_distributions = random_grid, \n",
    "                               scoring='neg_mean_absolute_error', return_train_score=True,\n",
    "                               n_iter = 100, cv = 5, verbose=2, random_state=10, n_jobs = 10)\n",
    "\n",
    "completed_pl = Pipeline(\n",
    "    steps=[(\"preprocessor\", preprocessor), ('model', rf_random)])\n",
    "\n",
    "completed_pl.fit(x_train, y_train)\n",
    "y_train_pred = completed_pl.predict(x_train)\n"
   ]
  },
  {
   "attachments": {},
   "cell_type": "markdown",
   "metadata": {},
   "source": [
    "Mất gần 10 tiếng để train.. 😅😢"
   ]
  },
  {
   "cell_type": "code",
   "execution_count": 85,
   "metadata": {},
   "outputs": [],
   "source": [
    "y_test_pred = completed_pl.predict(x_test)"
   ]
  },
  {
   "cell_type": "code",
   "execution_count": 89,
   "metadata": {},
   "outputs": [
    {
     "name": "stdout",
     "output_type": "stream",
     "text": [
      "Pipeline(steps=[('preprocessor',\n",
      "                 ColumnTransformer(transformers=[('cate_transformer',\n",
      "                                                  Pipeline(steps=[('imputer',\n",
      "                                                                   SimpleImputer(strategy='most_frequent')),\n",
      "                                                                  ('OneHotEncoder',\n",
      "                                                                   OneHotEncoder(handle_unknown='ignore'))]),\n",
      "                                                  ['book_cover', 'categories',\n",
      "                                                   'inventory_type',\n",
      "                                                   'manufacturer']),\n",
      "                                                 ('nume_transfomer',\n",
      "                                                  Pipeline(steps=[('imputer',\n",
      "                                                                   KNNImputer(n_neighbors=10)),\n",
      "                                                                  ('sc...\n",
      "                 RandomizedSearchCV(cv=5, estimator=RandomForestRegressor(),\n",
      "                                    n_iter=100, n_jobs=10,\n",
      "                                    param_distributions={'bootstrap': [True,\n",
      "                                                                       False],\n",
      "                                                         'max_depth': [10, 20,\n",
      "                                                                       30, 40,\n",
      "                                                                       50, 60,\n",
      "                                                                       70, 80,\n",
      "                                                                       90, 100,\n",
      "                                                                       110,\n",
      "                                                                       120],\n",
      "                                                         'max_features': ['auto',\n",
      "                                                                          'sqrt'],\n",
      "                                                         'min_samples_leaf': [1,\n",
      "                                                                              3,\n",
      "                                                                              4],\n",
      "                                                         'min_samples_split': [2,\n",
      "                                                                               6,\n",
      "                                                                               10],\n",
      "                                                         'n_estimators': [200,\n",
      "                                                                          400,\n",
      "                                                                          600,\n",
      "                                                                          800,\n",
      "                                                                          1000,\n",
      "                                                                          1200]},\n",
      "                                    random_state=10,\n",
      "                                    scoring='neg_mean_absolute_error',\n",
      "                                    verbose=2))])\n"
     ]
    }
   ],
   "source": [
    "print(completed_pl)"
   ]
  },
  {
   "attachments": {},
   "cell_type": "markdown",
   "metadata": {},
   "source": [
    "**Siêu tham số cho kết quả tốt nhất là:**"
   ]
  },
  {
   "cell_type": "code",
   "execution_count": 81,
   "metadata": {},
   "outputs": [
    {
     "name": "stdout",
     "output_type": "stream",
     "text": [
      "Random grid:  {'n_estimators': [200, 400, 600, 800, 1000, 1200], 'max_features': ['auto', 'sqrt'], 'max_depth': [10, 20, 30, 40, 50, 60, 70, 80, 90, 100, 110, 120], 'min_samples_split': [2, 6, 10], 'min_samples_leaf': [1, 3, 4], 'bootstrap': [True, False]} \n",
      "\n",
      "Best Parameters:  {'n_estimators': 1000, 'min_samples_split': 2, 'min_samples_leaf': 1, 'max_features': 'auto', 'max_depth': 120, 'bootstrap': True}  \n",
      "\n"
     ]
    }
   ],
   "source": [
    "print ('Random grid: ', random_grid, '\\n')\n",
    "print ('Best Parameters: ', completed_pl['model'].best_params_, ' \\n')"
   ]
  },
  {
   "cell_type": "code",
   "execution_count": 91,
   "metadata": {},
   "outputs": [
    {
     "data": {
      "text/html": [
       "<div>\n",
       "<style scoped>\n",
       "    .dataframe tbody tr th:only-of-type {\n",
       "        vertical-align: middle;\n",
       "    }\n",
       "\n",
       "    .dataframe tbody tr th {\n",
       "        vertical-align: top;\n",
       "    }\n",
       "\n",
       "    .dataframe thead th {\n",
       "        text-align: right;\n",
       "    }\n",
       "</style>\n",
       "<table border=\"1\" class=\"dataframe\">\n",
       "  <thead>\n",
       "    <tr style=\"text-align: right;\">\n",
       "      <th></th>\n",
       "      <th>mean_fit_time</th>\n",
       "      <th>std_fit_time</th>\n",
       "      <th>mean_score_time</th>\n",
       "      <th>std_score_time</th>\n",
       "      <th>param_n_estimators</th>\n",
       "      <th>param_min_samples_split</th>\n",
       "      <th>param_min_samples_leaf</th>\n",
       "      <th>param_max_features</th>\n",
       "      <th>param_max_depth</th>\n",
       "      <th>param_bootstrap</th>\n",
       "      <th>params</th>\n",
       "      <th>split0_test_score</th>\n",
       "      <th>split1_test_score</th>\n",
       "      <th>split2_test_score</th>\n",
       "      <th>split3_test_score</th>\n",
       "      <th>split4_test_score</th>\n",
       "      <th>mean_test_score</th>\n",
       "      <th>std_test_score</th>\n",
       "      <th>rank_test_score</th>\n",
       "    </tr>\n",
       "  </thead>\n",
       "  <tbody>\n",
       "    <tr>\n",
       "      <th>0</th>\n",
       "      <td>56.678743</td>\n",
       "      <td>2.168121</td>\n",
       "      <td>0.537876</td>\n",
       "      <td>0.017825</td>\n",
       "      <td>600</td>\n",
       "      <td>6</td>\n",
       "      <td>4</td>\n",
       "      <td>sqrt</td>\n",
       "      <td>30</td>\n",
       "      <td>False</td>\n",
       "      <td>{'n_estimators': 600, 'min_samples_split': 6, ...</td>\n",
       "      <td>-8.094837</td>\n",
       "      <td>-7.998558</td>\n",
       "      <td>-8.038205</td>\n",
       "      <td>-8.083835</td>\n",
       "      <td>-8.019429</td>\n",
       "      <td>-8.046973</td>\n",
       "      <td>0.036958</td>\n",
       "      <td>88</td>\n",
       "    </tr>\n",
       "    <tr>\n",
       "      <th>1</th>\n",
       "      <td>73.392971</td>\n",
       "      <td>1.056641</td>\n",
       "      <td>0.711806</td>\n",
       "      <td>0.027177</td>\n",
       "      <td>600</td>\n",
       "      <td>6</td>\n",
       "      <td>3</td>\n",
       "      <td>sqrt</td>\n",
       "      <td>110</td>\n",
       "      <td>True</td>\n",
       "      <td>{'n_estimators': 600, 'min_samples_split': 6, ...</td>\n",
       "      <td>-7.814854</td>\n",
       "      <td>-7.723986</td>\n",
       "      <td>-7.760226</td>\n",
       "      <td>-7.804310</td>\n",
       "      <td>-7.732664</td>\n",
       "      <td>-7.767208</td>\n",
       "      <td>0.036761</td>\n",
       "      <td>70</td>\n",
       "    </tr>\n",
       "    <tr>\n",
       "      <th>2</th>\n",
       "      <td>177.769721</td>\n",
       "      <td>4.696743</td>\n",
       "      <td>1.584416</td>\n",
       "      <td>0.020403</td>\n",
       "      <td>1200</td>\n",
       "      <td>2</td>\n",
       "      <td>4</td>\n",
       "      <td>sqrt</td>\n",
       "      <td>120</td>\n",
       "      <td>False</td>\n",
       "      <td>{'n_estimators': 1200, 'min_samples_split': 2,...</td>\n",
       "      <td>-7.774306</td>\n",
       "      <td>-7.680802</td>\n",
       "      <td>-7.721054</td>\n",
       "      <td>-7.762625</td>\n",
       "      <td>-7.692181</td>\n",
       "      <td>-7.726194</td>\n",
       "      <td>0.037110</td>\n",
       "      <td>66</td>\n",
       "    </tr>\n",
       "    <tr>\n",
       "      <th>3</th>\n",
       "      <td>3633.126572</td>\n",
       "      <td>45.581103</td>\n",
       "      <td>7.162269</td>\n",
       "      <td>0.167508</td>\n",
       "      <td>1200</td>\n",
       "      <td>2</td>\n",
       "      <td>1</td>\n",
       "      <td>auto</td>\n",
       "      <td>80</td>\n",
       "      <td>False</td>\n",
       "      <td>{'n_estimators': 1200, 'min_samples_split': 2,...</td>\n",
       "      <td>-7.488276</td>\n",
       "      <td>-7.392376</td>\n",
       "      <td>-7.493885</td>\n",
       "      <td>-7.411257</td>\n",
       "      <td>-7.372629</td>\n",
       "      <td>-7.431685</td>\n",
       "      <td>0.050043</td>\n",
       "      <td>33</td>\n",
       "    </tr>\n",
       "    <tr>\n",
       "      <th>4</th>\n",
       "      <td>136.180306</td>\n",
       "      <td>2.964917</td>\n",
       "      <td>1.130800</td>\n",
       "      <td>0.011652</td>\n",
       "      <td>800</td>\n",
       "      <td>10</td>\n",
       "      <td>3</td>\n",
       "      <td>sqrt</td>\n",
       "      <td>100</td>\n",
       "      <td>False</td>\n",
       "      <td>{'n_estimators': 800, 'min_samples_split': 10,...</td>\n",
       "      <td>-7.654366</td>\n",
       "      <td>-7.574016</td>\n",
       "      <td>-7.599894</td>\n",
       "      <td>-7.645108</td>\n",
       "      <td>-7.575677</td>\n",
       "      <td>-7.609812</td>\n",
       "      <td>0.033987</td>\n",
       "      <td>43</td>\n",
       "    </tr>\n",
       "  </tbody>\n",
       "</table>\n",
       "</div>"
      ],
      "text/plain": [
       "   mean_fit_time  std_fit_time  mean_score_time  std_score_time  \\\n",
       "0      56.678743      2.168121         0.537876        0.017825   \n",
       "1      73.392971      1.056641         0.711806        0.027177   \n",
       "2     177.769721      4.696743         1.584416        0.020403   \n",
       "3    3633.126572     45.581103         7.162269        0.167508   \n",
       "4     136.180306      2.964917         1.130800        0.011652   \n",
       "\n",
       "  param_n_estimators param_min_samples_split param_min_samples_leaf  \\\n",
       "0                600                       6                      4   \n",
       "1                600                       6                      3   \n",
       "2               1200                       2                      4   \n",
       "3               1200                       2                      1   \n",
       "4                800                      10                      3   \n",
       "\n",
       "  param_max_features param_max_depth param_bootstrap  \\\n",
       "0               sqrt              30           False   \n",
       "1               sqrt             110            True   \n",
       "2               sqrt             120           False   \n",
       "3               auto              80           False   \n",
       "4               sqrt             100           False   \n",
       "\n",
       "                                              params  split0_test_score  \\\n",
       "0  {'n_estimators': 600, 'min_samples_split': 6, ...          -8.094837   \n",
       "1  {'n_estimators': 600, 'min_samples_split': 6, ...          -7.814854   \n",
       "2  {'n_estimators': 1200, 'min_samples_split': 2,...          -7.774306   \n",
       "3  {'n_estimators': 1200, 'min_samples_split': 2,...          -7.488276   \n",
       "4  {'n_estimators': 800, 'min_samples_split': 10,...          -7.654366   \n",
       "\n",
       "   split1_test_score  split2_test_score  split3_test_score  split4_test_score  \\\n",
       "0          -7.998558          -8.038205          -8.083835          -8.019429   \n",
       "1          -7.723986          -7.760226          -7.804310          -7.732664   \n",
       "2          -7.680802          -7.721054          -7.762625          -7.692181   \n",
       "3          -7.392376          -7.493885          -7.411257          -7.372629   \n",
       "4          -7.574016          -7.599894          -7.645108          -7.575677   \n",
       "\n",
       "   mean_test_score  std_test_score  rank_test_score  \n",
       "0        -8.046973        0.036958               88  \n",
       "1        -7.767208        0.036761               70  \n",
       "2        -7.726194        0.037110               66  \n",
       "3        -7.431685        0.050043               33  \n",
       "4        -7.609812        0.033987               43  "
      ]
     },
     "execution_count": 91,
     "metadata": {},
     "output_type": "execute_result"
    }
   ],
   "source": [
    "result = pd.DataFrame(completed_pl['model'].cv_results_)\n",
    "result.head()"
   ]
  },
  {
   "attachments": {},
   "cell_type": "markdown",
   "metadata": {},
   "source": [
    "Mô hình hoàn chỉnh với best parameters từ kỹ thuật Randomized search CV"
   ]
  },
  {
   "cell_type": "code",
   "execution_count": 95,
   "metadata": {},
   "outputs": [],
   "source": [
    "rf = RandomForestRegressor(n_estimators=1000, min_samples_split=2, min_samples_leaf=1, \n",
    "                           max_features='auto', max_depth=120, bootstrap=True)\n",
    "\n",
    "last_pl = Pipeline(\n",
    "    steps=[(\"preprocessor\", preprocessor), ('model', rf)])\n",
    "\n",
    "last_pl.fit(x_train, y_train)\n",
    "y_train_pred = last_pl.predict(x_train)"
   ]
  },
  {
   "cell_type": "code",
   "execution_count": 96,
   "metadata": {},
   "outputs": [],
   "source": [
    "y_test_pred = last_pl.predict(x_test)"
   ]
  },
  {
   "cell_type": "code",
   "execution_count": 97,
   "metadata": {},
   "outputs": [
    {
     "name": "stdout",
     "output_type": "stream",
     "text": [
      "Train set: [MSE: 11.868, MAE: 2.429]\n",
      "Test set: [MSE: 80.688, MAE: 6.450]\n"
     ]
    }
   ],
   "source": [
    "print(f'Train set: [MSE: {mean_squared_error(y_train, y_train_pred):.3f}, MAE: {mean_absolute_error(y_train, y_train_pred):.3f}]')\n",
    "print(f'Test set: [MSE: {mean_squared_error(y_test, y_test_pred):.3f}, MAE: {mean_absolute_error(y_test, y_test_pred):.3f}]')"
   ]
  },
  {
   "attachments": {},
   "cell_type": "markdown",
   "metadata": {},
   "source": [
    "Không cải thiện nhiều lắm so với khi ta sử dụng thuật toán Random Forest mặc định (không tinh chỉnh các siêu tham số).\n",
    "\n",
    "Vậy ta sẽ chọn RandomForestRegression với tham số mặc định để tối ưu thời gian chạy và độ lỗi của mô hình."
   ]
  }
 ],
 "metadata": {
  "kernelspec": {
   "display_name": "R_Language",
   "language": "python",
   "name": "python3"
  },
  "language_info": {
   "codemirror_mode": {
    "name": "ipython",
    "version": 3
   },
   "file_extension": ".py",
   "mimetype": "text/x-python",
   "name": "python",
   "nbconvert_exporter": "python",
   "pygments_lexer": "ipython3",
   "version": "3.9.15 (main, Nov  4 2022, 16:35:55) [MSC v.1916 64 bit (AMD64)]"
  },
  "orig_nbformat": 4,
  "vscode": {
   "interpreter": {
    "hash": "54f68181b78fa5818c07711c59d2b98d0edc26e446c282de7a10249ffd5ae0c6"
   }
  }
 },
 "nbformat": 4,
 "nbformat_minor": 2
}
